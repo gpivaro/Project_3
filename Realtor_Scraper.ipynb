{
 "cells": [
  {
   "cell_type": "markdown",
   "metadata": {},
   "source": [
    "# Realtor Scrapy"
   ]
  },
  {
   "cell_type": "markdown",
   "metadata": {},
   "source": [
    "Scrapy the real state website and retrieve house listing of a target price and retrieve the info."
   ]
  },
  {
   "cell_type": "markdown",
   "metadata": {},
   "source": [
    "### Import Dependencies"
   ]
  },
  {
   "cell_type": "code",
   "execution_count": 3,
   "metadata": {},
   "outputs": [],
   "source": [
    "import os\n",
    "from bs4 import BeautifulSoup\n",
    "import requests\n",
    "from splinter import Browser\n",
    "import pandas as pd\n",
    "import time\n",
    "import pprint\n",
    "\n",
    "# Import DB user and password\n",
    "from api_keys import positionstack_key"
   ]
  },
  {
   "cell_type": "markdown",
   "metadata": {},
   "source": [
    "### Setup Splinter (For Mac)"
   ]
  },
  {
   "cell_type": "code",
   "execution_count": 2,
   "metadata": {},
   "outputs": [],
   "source": [
    "# identify location of chromedriver and store it as a variable\n",
    "driverPath = !which chromedriver\n",
    "\n",
    "# Setup configuration variables to enable Splinter to interact with browser\n",
    "executable_path = {'executable_path': driverPath[0]}\n",
    "browser = Browser('chrome', **executable_path, headless=False)"
   ]
  },
  {
   "cell_type": "markdown",
   "metadata": {},
   "source": [
    "### Scraping"
   ]
  },
  {
   "cell_type": "code",
   "execution_count": 3,
   "metadata": {},
   "outputs": [
    {
     "name": "stdout",
     "output_type": "stream",
     "text": [
      "https://www.realtor.com/realestateandhomes-search/Houston_TX/type-single-family-home/price-250000-300000/sby-2/pg-1\n"
     ]
    }
   ],
   "source": [
    "# URL of page to be scraped\n",
    "url_realtor = \"https://www.realtor.com/realestateandhomes-search/Houston_TX/type-single-family-home/price-\"\n",
    "link_details = \"https://www.realtor.com\"\n",
    "min_price = '250000'\n",
    "max_price = '300000'\n",
    "sort_by = '/sby-2' # Highest to lowest price\n",
    "page_number = 1\n",
    "\n",
    "query_url = f\"{url_realtor}{min_price}-{max_price}{sort_by}/pg-{page_number}\"\n",
    "print(query_url)"
   ]
  },
  {
   "cell_type": "markdown",
   "metadata": {},
   "source": [
    "### BeautifulSoup"
   ]
  },
  {
   "cell_type": "code",
   "execution_count": 4,
   "metadata": {},
   "outputs": [],
   "source": [
    "# Scrap with BeautifulSoup. However it does \n",
    "# page = requests.get(query_url)\n",
    "# soup = BeautifulSoup(page.content, 'html.parser')"
   ]
  },
  {
   "cell_type": "markdown",
   "metadata": {},
   "source": [
    "### Splinter"
   ]
  },
  {
   "cell_type": "code",
   "execution_count": 5,
   "metadata": {},
   "outputs": [],
   "source": [
    "# Use the browser to visit the url\n",
    "browser.visit(query_url)"
   ]
  },
  {
   "cell_type": "code",
   "execution_count": 6,
   "metadata": {},
   "outputs": [],
   "source": [
    "# Wait for 5 seconds for error purpouses\n",
    "time.sleep(15)"
   ]
  },
  {
   "cell_type": "code",
   "execution_count": 7,
   "metadata": {},
   "outputs": [],
   "source": [
    "# Return the rendered page by the browser\n",
    "html_realtor = browser.html"
   ]
  },
  {
   "cell_type": "code",
   "execution_count": 8,
   "metadata": {},
   "outputs": [],
   "source": [
    "# Use beatifulsoup to scrap the page rendered by the browser\n",
    "soup = BeautifulSoup(html_realtor, 'html.parser')"
   ]
  },
  {
   "cell_type": "code",
   "execution_count": 16,
   "metadata": {},
   "outputs": [
    {
     "name": "stdout",
     "output_type": "stream",
     "text": [
      "Total results: 48\n",
      "-----------------------------------\n",
      "Price: $300,000 | Address: 2620 Starboard Point Dr, Houston, TX 77054\n",
      "Link: https://www.realtor.com/realestateandhomes-detail/2620-Starboard-Point-Dr_Houston_TX_77054_M80817-72232\n",
      "Photo link: https://ap.rdcpix.com/49197c51ea457aa035238dbad29a1a23l-m1155526776od-w480_h360_x2.jpg\n"
     ]
    }
   ],
   "source": [
    "# Search for the div where the title is located\n",
    "results = soup.find_all('div', class_=\"card-box\")\n",
    "# print(results[1].prettify())\n",
    "print(f\"Total results: {len(results)}\")\n",
    "print('-----------------------------------')\n",
    "\n",
    "news_title = results[1].text\n",
    "# print(f\"Title: {news_title}\")\n",
    "house_price = results[1].find('span', class_=\"sc-pZnSc jEfqsK\")\n",
    "# print(f\"Price: {house_price.text}\")\n",
    "img_label = results[1].find('img', class_=\"fade top\")\n",
    "# print(f\"Address: {img_label['alt']}\")\n",
    "link_page = results[1].find('a')['href']\n",
    "\n",
    "\n",
    "print(f\"Price: {house_price.text} | Address: {img_label['alt']}\")\n",
    "print(f\"Link: {link_details}{link_page}\")\n",
    "print(f\"Photo link: {img_label['srcset'].split(',')[1].split(' ')[1]}\")"
   ]
  },
  {
   "cell_type": "code",
   "execution_count": 20,
   "metadata": {
    "scrolled": true
   },
   "outputs": [
    {
     "name": "stdout",
     "output_type": "stream",
     "text": [
      "-----------------------------------\n",
      "\n",
      "Result: 1 of 48\n",
      "Price: $300,000 | Address: 3506 Chenevert St, Houston, TX 77004\n",
      "Link: https://www.realtor.com/realestateandhomes-detail/3506-Chenevert-St_Houston_TX_77004_M83831-74404\n",
      "Photo link: https://ap.rdcpix.com/c32a0999eb72fd3688f358dd5a9631e1l-m4050216900od-w480_h360_x2.jpg\n",
      "\n",
      "-----------------------------------\n",
      "\n",
      "Result: 2 of 48\n",
      "Price: $300,000 | Address: 2620 Starboard Point Dr, Houston, TX 77054\n",
      "Link: https://www.realtor.com/realestateandhomes-detail/2620-Starboard-Point-Dr_Houston_TX_77054_M80817-72232\n",
      "Photo link: https://ap.rdcpix.com/49197c51ea457aa035238dbad29a1a23l-m1155526776od-w480_h360_x2.jpg\n",
      "\n",
      "-----------------------------------\n",
      "\n",
      "Result: 3 of 48\n",
      "Price: $300,000 | Address: 3923 Shadow Cove Dr, Houston, TX 77082\n",
      "Link: https://www.realtor.com/realestateandhomes-detail/3923-Shadow-Cove-Dr_Houston_TX_77082_M74659-12086\n",
      "Photo link: https://ap.rdcpix.com/8d85bba63c70d3a7ca27d84cfb40875al-m3947304570od-w480_h360_x2.jpg\n",
      "\n",
      "-----------------------------------\n",
      "\n",
      "Result: 4 of 48\n",
      "Data not available\n",
      "\n",
      "-----------------------------------\n",
      "\n",
      "Result: 5 of 48\n",
      "Price: $300,000 | Address: 10650 Alcott Dr, Houston, TX 77043\n",
      "Link: https://www.realtor.com/realestateandhomes-detail/10650-Alcott-Dr_Houston_TX_77043_M83954-51498\n",
      "Photo link: https://ap.rdcpix.com/8d25df0514bd662282f87167da8a6416l-b3209704640od-w480_h360_x2.jpg\n",
      "\n",
      "-----------------------------------\n",
      "\n",
      "Result: 6 of 48\n",
      "Price: $300,000 | Address: 650 Westcross St Unit 38, Houston, TX 77018\n",
      "Link: https://www.realtor.com/realestateandhomes-detail/650-Westcross-St-Unit-38_Houston_TX_77018_M73962-54273\n",
      "Photo link: https://ap.rdcpix.com/b9545a7302566d196facfde2b01b999cl-m3781612610od-w480_h360_x2.jpg\n",
      "\n",
      "-----------------------------------\n",
      "\n",
      "Result: 7 of 48\n",
      "Price: $300,000 | Address: 15747 Foxgate Rd, Houston, TX 77079\n",
      "Link: https://www.realtor.com/realestateandhomes-detail/15747-Foxgate-Rd_Houston_TX_77079_M84757-49302\n",
      "Photo link: https://ap.rdcpix.com/d6576f745a56d56a9768e56370495567l-m3919076827od-w480_h360_x2.jpg\n",
      "\n",
      "-----------------------------------\n",
      "\n",
      "Result: 8 of 48\n",
      "Price: $300,000 | Address: 2828 Robertson St, Houston, TX 77009\n",
      "Link: https://www.realtor.com/realestateandhomes-detail/2828-Robertson-St_Houston_TX_77009_M80677-44095\n",
      "Photo link: https://ap.rdcpix.com/35645a7a11d08b9312af93b0bc886e91l-m4239282020od-w480_h360_x2.jpg\n",
      "\n",
      "-----------------------------------\n",
      "\n",
      "Result: 9 of 48\n",
      "Price: $300,000 | Address: 9610 Chatfield St, Houston, TX 77025\n",
      "Price reduced: $15k\n",
      "Link: https://www.realtor.com/realestateandhomes-detail/9610-Chatfield-St_Houston_TX_77025_M75588-92171\n",
      "Photo link: https://ap.rdcpix.com/d652bedafe244062b03e9a135f807668l-m30649824od-w480_h360_x2.jpg\n",
      "\n",
      "-----------------------------------\n",
      "\n",
      "Result: 10 of 48\n",
      "Price: $300,000 | Address: 12914 Ridge Bank Ln, Houston, TX 77041\n",
      "Link: https://www.realtor.com/realestateandhomes-detail/12914-Ridge-Bank-Ln_Houston_TX_77041_M87980-80109\n",
      "Photo not available\n",
      "\n",
      "-----------------------------------\n",
      "\n",
      "Result: 11 of 48\n",
      "Price: $300,000 | Address: 6510 Cohn St, Houston, TX 77091\n",
      "Link: https://www.realtor.com/realestateandhomes-detail/6510-Cohn-St_Houston_TX_77091_M84687-97018\n",
      "Photo not available\n",
      "\n",
      "-----------------------------------\n",
      "\n",
      "Result: 12 of 48\n",
      "Price: $300,000 | Address: 5318 S Oak Cove Dr, Houston, TX 77091\n",
      "Link: https://www.realtor.com/realestateandhomes-detail/5318-Oak-Cove-Dr_Houston_TX_77091_M83864-80833\n",
      "Photo not available\n",
      "\n",
      "-----------------------------------\n",
      "\n",
      "Result: 13 of 48\n",
      "Data not available\n",
      "\n",
      "-----------------------------------\n",
      "\n",
      "Result: 14 of 48\n",
      "Price: $300,000 | Address: 10418 Springland Ct, Houston, TX 77065\n",
      "Link: https://www.realtor.com/realestateandhomes-detail/10418-Springland-Ct_Houston_TX_77065_M85673-14872\n",
      "Photo not available\n",
      "\n",
      "-----------------------------------\n",
      "\n",
      "Result: 15 of 48\n",
      "Price: $300,000 | Address: 2006 Stevens St, Houston, TX 77026\n",
      "Link: https://www.realtor.com/realestateandhomes-detail/2006-Stevens-St_Houston_TX_77026_M78281-09563\n",
      "Photo not available\n",
      "\n",
      "-----------------------------------\n",
      "\n",
      "Result: 16 of 48\n",
      "Price: $300,000 | Address: 702 Tabor St, Houston, TX 77009\n",
      "Link: https://www.realtor.com/realestateandhomes-detail/702-Tabor-St_Houston_TX_77009_M78404-89470\n",
      "Photo not available\n",
      "\n",
      "-----------------------------------\n",
      "\n",
      "Result: 17 of 48\n",
      "Price: $300,000 | Address: 410 Hohldale St, Houston, TX 77091\n",
      "Link: https://www.realtor.com/realestateandhomes-detail/410-Hohldale-St_Houston_TX_77091_M88669-96119\n",
      "Photo not available\n",
      "\n",
      "-----------------------------------\n",
      "\n",
      "Result: 18 of 48\n",
      "Price: $300,000 | Address: 13414 Boca Raton Dr, Houston, TX 77069\n",
      "Link: https://www.realtor.com/realestateandhomes-detail/13414-Boca-Raton-Dr_Houston_TX_77069_M85440-60130\n",
      "Photo not available\n",
      "\n",
      "-----------------------------------\n",
      "\n",
      "Result: 19 of 48\n",
      "Price: $300,000 | Address: 10604 Park Ln, Houston, TX 77093\n",
      "Link: https://www.realtor.com/realestateandhomes-detail/10604-Park-Ln_Houston_TX_77093_M77481-14106\n",
      "Photo not available\n",
      "\n",
      "-----------------------------------\n",
      "\n",
      "Result: 20 of 48\n",
      "Price: $300,000 | Address: 10819 Idlebrook Dr, Houston, TX 77070\n",
      "Link: https://www.realtor.com/realestateandhomes-detail/10819-Idlebrook-Dr_Houston_TX_77070_M72689-22633\n",
      "Photo not available\n",
      "\n",
      "-----------------------------------\n",
      "\n",
      "Result: 21 of 48\n",
      "Price: $300,000 | Address: 3030 Triway Ln, Houston, TX 77043\n",
      "Link: https://www.realtor.com/realestateandhomes-detail/3030-Triway-Ln_Houston_TX_77043_M73046-56117\n",
      "Photo not available\n",
      "\n",
      "-----------------------------------\n",
      "\n",
      "Result: 22 of 48\n",
      "Data not available\n",
      "\n",
      "-----------------------------------\n",
      "\n",
      "Result: 23 of 48\n",
      "Price: $299,999 | Address: 3600 Bayou Dr, Houston, TX 77022\n",
      "Link: https://www.realtor.com/realestateandhomes-detail/3600-Bayou-Dr_Houston_TX_77022_M86568-55485\n",
      "Photo not available\n",
      "\n",
      "-----------------------------------\n",
      "\n",
      "Result: 24 of 48\n",
      "Price: $299,999 | Address: 4711 Hershe St, Houston, TX 77020\n",
      "Link: https://www.realtor.com/realestateandhomes-detail/4711-Hershe-St_Houston_TX_77020_M92791-49875\n",
      "Photo not available\n",
      "\n",
      "-----------------------------------\n",
      "\n",
      "Result: 25 of 48\n",
      "Price: $299,999 | Address: 5927 McKnight St, Houston, TX 77035\n",
      "Link: https://www.realtor.com/realestateandhomes-detail/5927-McKnight-St_Houston_TX_77035_M73854-70995\n",
      "Photo not available\n",
      "\n",
      "-----------------------------------\n",
      "\n",
      "Result: 26 of 48\n",
      "Price: $299,999 | Address: 9306 Hendon Ln, Houston, TX 77036\n",
      "Link: https://www.realtor.com/realestateandhomes-detail/9306-Hendon-Ln_Houston_TX_77036_M84190-91253\n",
      "Photo not available\n",
      "\n",
      "-----------------------------------\n",
      "\n",
      "Result: 27 of 48\n",
      "Price: $299,999 | Address: 3006 Orchard Dr, Houston, TX 77054\n",
      "Link: https://www.realtor.com/realestateandhomes-detail/3006-Orchard-Dr_Houston_TX_77054_M87058-54637\n",
      "Photo not available\n",
      "\n",
      "-----------------------------------\n",
      "\n",
      "Result: 28 of 48\n",
      "Price: $299,999 | Address: 2902 Tulip River Ct, Houston, TX 77345\n",
      "Link: https://www.realtor.com/realestateandhomes-detail/2902-Tulip-River-Ct_Humble_TX_77345_M76407-56429\n",
      "Photo not available\n",
      "\n",
      "-----------------------------------\n",
      "\n",
      "Result: 29 of 48\n",
      "Price: $299,999 | Address: 1607 Blossom Creek Ct, Kingwood, TX 77339\n",
      "Link: https://www.realtor.com/realestateandhomes-detail/1607-Blossom-Creek-Ct_Humble_TX_77339_M80543-63695\n",
      "Photo not available\n",
      "\n",
      "-----------------------------------\n",
      "\n",
      "Result: 30 of 48\n",
      "Price: $299,999 | Address: 12315 Macbrice Ln, Humble, TX 77346\n",
      "Link: https://www.realtor.com/realestateandhomes-detail/12315-Macbrice-Ln_Humble_TX_77346_M99987-43888\n",
      "Photo not available\n",
      "\n",
      "-----------------------------------\n",
      "\n",
      "Result: 31 of 48\n",
      "Data not available\n",
      "\n",
      "-----------------------------------\n",
      "\n",
      "Result: 32 of 48\n",
      "Price: $299,999 | Address: 4450 Tidwell Rd Unit E, Houston, TX 77093\n",
      "Link: https://www.realtor.com/realestateandhomes-detail/4450-Tidwell-Rd-E_Houston_TX_77093_M90396-98265\n",
      "Photo not available\n",
      "\n",
      "-----------------------------------\n",
      "\n",
      "Result: 33 of 48\n",
      "Price: $299,999 | Address: 1421 Bringhurst St, Houston, TX 77020\n",
      "Link: https://www.realtor.com/realestateandhomes-detail/1413-Bringhurst-St_Houston_TX_77020_M82561-94817\n",
      "Photo not available\n",
      "\n",
      "-----------------------------------\n",
      "\n",
      "Result: 34 of 48\n",
      "Price: $299,999 | Address: 12223 Richardson Fort Way, Humble, TX 77346\n",
      "Link: https://www.realtor.com/realestateandhomes-detail/12223-Richardson-Fort-Way_Humble_TX_77346_M94146-20532\n",
      "Photo not available\n",
      "\n",
      "-----------------------------------\n",
      "\n",
      "Result: 35 of 48\n",
      "Price: $299,999 | Address: 5503 Cheshire Ln, Houston, TX 77092\n",
      "Price reduced: $5k\n",
      "Link: https://www.realtor.com/realestateandhomes-detail/5503-Cheshire-Ln_Houston_TX_77092_M78417-29302\n",
      "Photo not available\n",
      "\n",
      "-----------------------------------\n",
      "\n",
      "Result: 36 of 48\n",
      "Price: $299,999 | Address: 26 N Champion Villa Dr, Houston, TX 77069\n",
      "Link: https://www.realtor.com/realestateandhomes-detail/26-Champion-Villa-Dr_Houston_TX_77069_M82956-97939\n",
      "Photo not available\n",
      "\n",
      "-----------------------------------\n",
      "\n",
      "Result: 37 of 48\n",
      "Price: $299,995 | Address: 1812 Iris Knoll Ln, Pearland, TX 77089\n",
      "Link: https://www.realtor.com/realestateandhomes-detail/1812-Iris-Knoll-Ln_Pearland_TX_77089_M90767-39685\n",
      "Photo not available\n",
      "\n",
      "-----------------------------------\n",
      "\n",
      "Result: 38 of 48\n",
      "Price: $299,995 | Address: 2649 Bellwick Canyon Ct, Pearland, TX 77089\n",
      "Price reduced: $10k\n",
      "Link: https://www.realtor.com/realestateandhomes-detail/2649-Bellwick-Canyon-Ct_Pearland_TX_77089_M99578-92308\n",
      "Photo not available\n",
      "\n",
      "-----------------------------------\n",
      "\n",
      "Result: 39 of 48\n",
      "Price: $299,995 | Address: 406 Oriole St, Houston, TX 77018\n",
      "Link: https://www.realtor.com/realestateandhomes-detail/406-Oriole-St_Houston_TX_77018_M80144-31052\n",
      "Photo not available\n",
      "\n",
      "-----------------------------------\n",
      "\n",
      "Result: 40 of 48\n",
      "Data not available\n",
      "\n",
      "-----------------------------------\n",
      "\n",
      "Result: 41 of 48\n",
      "Price: $299,990 | Address: 11010 Crescent Lgt, Houston, TX 77043\n",
      "Link: https://www.realtor.com/realestateandhomes-detail/11010-Crescent-Lgt_Houston_TX_77043_M99001-33501\n",
      "Photo not available\n",
      "\n",
      "-----------------------------------\n",
      "\n",
      "Result: 42 of 48\n",
      "Price: $299,990 | Address: 209 Cockerel St, Houston, TX 77018\n",
      "Price reduced: $10k\n",
      "Link: https://www.realtor.com/realestateandhomes-detail/209-Cockerel-St_Houston_TX_77018_M79665-29795\n",
      "Photo not available\n",
      "\n",
      "-----------------------------------\n",
      "\n",
      "Result: 43 of 48\n",
      "Price: $299,990 | Address: 3123 Briarwood Point Place, Houston, TX 77063\n",
      "Link: https://www.realtor.com/realestateandhomes-detail/Redding_Briarmont_3123-Briarwood-Point-Place_Houston_TX_77063_P415441206059\n",
      "Photo not available\n",
      "\n",
      "-----------------------------------\n",
      "\n",
      "Result: 44 of 48\n",
      "Price: $299,990 | Address: 4712 Libbey Ln, Houston, TX 77092\n",
      "Price reduced: $10k\n",
      "Link: https://www.realtor.com/realestateandhomes-detail/4712-Libbey-Ln_Houston_TX_77092_M77659-75071\n",
      "Photo not available\n",
      "\n",
      "-----------------------------------\n",
      "\n",
      "Result: 45 of 48\n",
      "Price: $299,990 | Address: 5115 Del Sur St Unit H, Houston, TX 77018\n",
      "Link: https://www.realtor.com/realestateandhomes-detail/5115-Del-Sur-St-H_Houston_TX_77018_M96698-25926\n",
      "Photo not available\n",
      "\n",
      "-----------------------------------\n",
      "\n",
      "Result: 46 of 48\n",
      "Price: $299,990 | Address: 203 Glenridge Frst, Houston, TX 77094\n",
      "Link: https://www.realtor.com/realestateandhomes-detail/203-Glenridge-Frst_Houston_TX_77094_M82835-49242\n",
      "Photo not available\n",
      "\n",
      "-----------------------------------\n",
      "\n",
      "Result: 47 of 48\n",
      "Price: $299,990 | Address: 643 Press St, Houston, TX 77020\n",
      "Link: https://www.realtor.com/realestateandhomes-detail/643-Press-St_Houston_TX_77020_M90242-01230\n",
      "Photo not available\n",
      "\n",
      "-----------------------------------\n",
      "\n",
      "Result: 48 of 48\n",
      "Data not available\n",
      "\n"
     ]
    }
   ],
   "source": [
    "# Print results and save to a dictionary\n",
    "n = 0\n",
    "realstate_list = []\n",
    "for result in results:\n",
    "#     Clear the variables to not store repeated info\n",
    "    house_price = ''\n",
    "    address = ''\n",
    "    link_page = ''\n",
    "    photo_url = ''\n",
    "                \n",
    "    n = n + 1\n",
    "    print('-----------------------------------')\n",
    "    print('')\n",
    "    print(f'Result: {n} of {len(results)}')\n",
    "    if not result.find('div', class_=\"ads\"):\n",
    "#         print(f'Result: {n} of {len(results)}')\n",
    "        price_div = result.find('div', class_=\"price\")\n",
    "        house_price = price_div.find('span').text.split('$')[-1]\n",
    "        link_page = result.find('a')['href']\n",
    "        img_label = result.find('img')\n",
    "        address = img_label['alt']\n",
    "        print(f\"Price: ${house_price} | Address: {address}\")\n",
    "        try:\n",
    "            price_reduced = result.find('span', class_=\"price-reduced-amount\")\n",
    "            price_now = price_reduced.text\n",
    "            print(f\"Price reduced: {price_now}\")\n",
    "        except:\n",
    "            pass\n",
    "        print(f\"Link: {link_details}{link_page}\")\n",
    "        try:\n",
    "            photo_url = img_label['srcset'].split(',')[1].split(' ')[1]\n",
    "            print(f\"Photo link: {photo_url}\")\n",
    "        except:\n",
    "            print(f\"Photo not available\")\n",
    "    \n",
    "        # Save results to a dictionary\n",
    "        realstate_list.append(\n",
    "            {\n",
    "                \"Price\": int(house_price.replace(',','')),\n",
    "                \"Address\": address,\n",
    "                \"Link\": str(link_details+link_page),\n",
    "                \"Photo link\": photo_url\n",
    "            }\n",
    "        )\n",
    "\n",
    "    \n",
    "    else:\n",
    "        print('Data not available')\n",
    "\n",
    "    print('')\n",
    "    \n",
    "    "
   ]
  },
  {
   "cell_type": "code",
   "execution_count": null,
   "metadata": {},
   "outputs": [],
   "source": [
    "# When you’ve finished testing, close your browser using browser.quit:\n",
    "browser.quit()"
   ]
  },
  {
   "cell_type": "markdown",
   "metadata": {},
   "source": [
    "### Data Cleaning"
   ]
  },
  {
   "cell_type": "code",
   "execution_count": 22,
   "metadata": {
    "scrolled": true
   },
   "outputs": [
    {
     "data": {
      "text/html": [
       "<div>\n",
       "<style scoped>\n",
       "    .dataframe tbody tr th:only-of-type {\n",
       "        vertical-align: middle;\n",
       "    }\n",
       "\n",
       "    .dataframe tbody tr th {\n",
       "        vertical-align: top;\n",
       "    }\n",
       "\n",
       "    .dataframe thead th {\n",
       "        text-align: right;\n",
       "    }\n",
       "</style>\n",
       "<table border=\"1\" class=\"dataframe\">\n",
       "  <thead>\n",
       "    <tr style=\"text-align: right;\">\n",
       "      <th></th>\n",
       "      <th>Price</th>\n",
       "      <th>Address</th>\n",
       "      <th>Link</th>\n",
       "      <th>Photo link</th>\n",
       "    </tr>\n",
       "  </thead>\n",
       "  <tbody>\n",
       "    <tr>\n",
       "      <th>0</th>\n",
       "      <td>300000</td>\n",
       "      <td>3506 Chenevert St, Houston, TX 77004</td>\n",
       "      <td>https://www.realtor.com/realestateandhomes-det...</td>\n",
       "      <td>https://ap.rdcpix.com/c32a0999eb72fd3688f358dd...</td>\n",
       "    </tr>\n",
       "    <tr>\n",
       "      <th>1</th>\n",
       "      <td>300000</td>\n",
       "      <td>2620 Starboard Point Dr, Houston, TX 77054</td>\n",
       "      <td>https://www.realtor.com/realestateandhomes-det...</td>\n",
       "      <td>https://ap.rdcpix.com/49197c51ea457aa035238dba...</td>\n",
       "    </tr>\n",
       "    <tr>\n",
       "      <th>2</th>\n",
       "      <td>300000</td>\n",
       "      <td>3923 Shadow Cove Dr, Houston, TX 77082</td>\n",
       "      <td>https://www.realtor.com/realestateandhomes-det...</td>\n",
       "      <td>https://ap.rdcpix.com/8d85bba63c70d3a7ca27d84c...</td>\n",
       "    </tr>\n",
       "    <tr>\n",
       "      <th>3</th>\n",
       "      <td>300000</td>\n",
       "      <td>10650 Alcott Dr, Houston, TX 77043</td>\n",
       "      <td>https://www.realtor.com/realestateandhomes-det...</td>\n",
       "      <td>https://ap.rdcpix.com/8d25df0514bd662282f87167...</td>\n",
       "    </tr>\n",
       "    <tr>\n",
       "      <th>4</th>\n",
       "      <td>300000</td>\n",
       "      <td>650 Westcross St Unit 38, Houston, TX 77018</td>\n",
       "      <td>https://www.realtor.com/realestateandhomes-det...</td>\n",
       "      <td>https://ap.rdcpix.com/b9545a7302566d196facfde2...</td>\n",
       "    </tr>\n",
       "  </tbody>\n",
       "</table>\n",
       "</div>"
      ],
      "text/plain": [
       "    Price                                      Address  \\\n",
       "0  300000         3506 Chenevert St, Houston, TX 77004   \n",
       "1  300000   2620 Starboard Point Dr, Houston, TX 77054   \n",
       "2  300000       3923 Shadow Cove Dr, Houston, TX 77082   \n",
       "3  300000           10650 Alcott Dr, Houston, TX 77043   \n",
       "4  300000  650 Westcross St Unit 38, Houston, TX 77018   \n",
       "\n",
       "                                                Link  \\\n",
       "0  https://www.realtor.com/realestateandhomes-det...   \n",
       "1  https://www.realtor.com/realestateandhomes-det...   \n",
       "2  https://www.realtor.com/realestateandhomes-det...   \n",
       "3  https://www.realtor.com/realestateandhomes-det...   \n",
       "4  https://www.realtor.com/realestateandhomes-det...   \n",
       "\n",
       "                                          Photo link  \n",
       "0  https://ap.rdcpix.com/c32a0999eb72fd3688f358dd...  \n",
       "1  https://ap.rdcpix.com/49197c51ea457aa035238dba...  \n",
       "2  https://ap.rdcpix.com/8d85bba63c70d3a7ca27d84c...  \n",
       "3  https://ap.rdcpix.com/8d25df0514bd662282f87167...  \n",
       "4  https://ap.rdcpix.com/b9545a7302566d196facfde2...  "
      ]
     },
     "execution_count": 22,
     "metadata": {},
     "output_type": "execute_result"
    }
   ],
   "source": [
    "# Save the data to a dataframe\n",
    "listing_df = pd.DataFrame(realstate_list)\n",
    "listing_df.head()"
   ]
  },
  {
   "cell_type": "code",
   "execution_count": 23,
   "metadata": {},
   "outputs": [
    {
     "data": {
      "text/plain": [
       "[{'Price': 300000,\n",
       "  'Address': '3506 Chenevert St, Houston, TX 77004',\n",
       "  'Link': 'https://www.realtor.com/realestateandhomes-detail/3506-Chenevert-St_Houston_TX_77004_M83831-74404',\n",
       "  'Photo link': 'https://ap.rdcpix.com/c32a0999eb72fd3688f358dd5a9631e1l-m4050216900od-w480_h360_x2.jpg'},\n",
       " {'Price': 300000,\n",
       "  'Address': '2620 Starboard Point Dr, Houston, TX 77054',\n",
       "  'Link': 'https://www.realtor.com/realestateandhomes-detail/2620-Starboard-Point-Dr_Houston_TX_77054_M80817-72232',\n",
       "  'Photo link': 'https://ap.rdcpix.com/49197c51ea457aa035238dbad29a1a23l-m1155526776od-w480_h360_x2.jpg'},\n",
       " {'Price': 300000,\n",
       "  'Address': '3923 Shadow Cove Dr, Houston, TX 77082',\n",
       "  'Link': 'https://www.realtor.com/realestateandhomes-detail/3923-Shadow-Cove-Dr_Houston_TX_77082_M74659-12086',\n",
       "  'Photo link': 'https://ap.rdcpix.com/8d85bba63c70d3a7ca27d84cfb40875al-m3947304570od-w480_h360_x2.jpg'},\n",
       " {'Price': 300000,\n",
       "  'Address': '10650 Alcott Dr, Houston, TX 77043',\n",
       "  'Link': 'https://www.realtor.com/realestateandhomes-detail/10650-Alcott-Dr_Houston_TX_77043_M83954-51498',\n",
       "  'Photo link': 'https://ap.rdcpix.com/8d25df0514bd662282f87167da8a6416l-b3209704640od-w480_h360_x2.jpg'},\n",
       " {'Price': 300000,\n",
       "  'Address': '650 Westcross St Unit 38, Houston, TX 77018',\n",
       "  'Link': 'https://www.realtor.com/realestateandhomes-detail/650-Westcross-St-Unit-38_Houston_TX_77018_M73962-54273',\n",
       "  'Photo link': 'https://ap.rdcpix.com/b9545a7302566d196facfde2b01b999cl-m3781612610od-w480_h360_x2.jpg'},\n",
       " {'Price': 300000,\n",
       "  'Address': '15747 Foxgate Rd, Houston, TX 77079',\n",
       "  'Link': 'https://www.realtor.com/realestateandhomes-detail/15747-Foxgate-Rd_Houston_TX_77079_M84757-49302',\n",
       "  'Photo link': 'https://ap.rdcpix.com/d6576f745a56d56a9768e56370495567l-m3919076827od-w480_h360_x2.jpg'},\n",
       " {'Price': 300000,\n",
       "  'Address': '2828 Robertson St, Houston, TX 77009',\n",
       "  'Link': 'https://www.realtor.com/realestateandhomes-detail/2828-Robertson-St_Houston_TX_77009_M80677-44095',\n",
       "  'Photo link': 'https://ap.rdcpix.com/35645a7a11d08b9312af93b0bc886e91l-m4239282020od-w480_h360_x2.jpg'},\n",
       " {'Price': 300000,\n",
       "  'Address': '9610 Chatfield St, Houston, TX 77025',\n",
       "  'Link': 'https://www.realtor.com/realestateandhomes-detail/9610-Chatfield-St_Houston_TX_77025_M75588-92171',\n",
       "  'Photo link': 'https://ap.rdcpix.com/d652bedafe244062b03e9a135f807668l-m30649824od-w480_h360_x2.jpg'},\n",
       " {'Price': 300000,\n",
       "  'Address': '12914 Ridge Bank Ln, Houston, TX 77041',\n",
       "  'Link': 'https://www.realtor.com/realestateandhomes-detail/12914-Ridge-Bank-Ln_Houston_TX_77041_M87980-80109',\n",
       "  'Photo link': ''},\n",
       " {'Price': 300000,\n",
       "  'Address': '6510 Cohn St, Houston, TX 77091',\n",
       "  'Link': 'https://www.realtor.com/realestateandhomes-detail/6510-Cohn-St_Houston_TX_77091_M84687-97018',\n",
       "  'Photo link': ''},\n",
       " {'Price': 300000,\n",
       "  'Address': '5318 S Oak Cove Dr, Houston, TX 77091',\n",
       "  'Link': 'https://www.realtor.com/realestateandhomes-detail/5318-Oak-Cove-Dr_Houston_TX_77091_M83864-80833',\n",
       "  'Photo link': ''},\n",
       " {'Price': 300000,\n",
       "  'Address': '10418 Springland Ct, Houston, TX 77065',\n",
       "  'Link': 'https://www.realtor.com/realestateandhomes-detail/10418-Springland-Ct_Houston_TX_77065_M85673-14872',\n",
       "  'Photo link': ''},\n",
       " {'Price': 300000,\n",
       "  'Address': '2006 Stevens St, Houston, TX 77026',\n",
       "  'Link': 'https://www.realtor.com/realestateandhomes-detail/2006-Stevens-St_Houston_TX_77026_M78281-09563',\n",
       "  'Photo link': ''},\n",
       " {'Price': 300000,\n",
       "  'Address': '702 Tabor St, Houston, TX 77009',\n",
       "  'Link': 'https://www.realtor.com/realestateandhomes-detail/702-Tabor-St_Houston_TX_77009_M78404-89470',\n",
       "  'Photo link': ''},\n",
       " {'Price': 300000,\n",
       "  'Address': '410 Hohldale St, Houston, TX 77091',\n",
       "  'Link': 'https://www.realtor.com/realestateandhomes-detail/410-Hohldale-St_Houston_TX_77091_M88669-96119',\n",
       "  'Photo link': ''},\n",
       " {'Price': 300000,\n",
       "  'Address': '13414 Boca Raton Dr, Houston, TX 77069',\n",
       "  'Link': 'https://www.realtor.com/realestateandhomes-detail/13414-Boca-Raton-Dr_Houston_TX_77069_M85440-60130',\n",
       "  'Photo link': ''},\n",
       " {'Price': 300000,\n",
       "  'Address': '10604 Park Ln, Houston, TX 77093',\n",
       "  'Link': 'https://www.realtor.com/realestateandhomes-detail/10604-Park-Ln_Houston_TX_77093_M77481-14106',\n",
       "  'Photo link': ''},\n",
       " {'Price': 300000,\n",
       "  'Address': '10819 Idlebrook Dr, Houston, TX 77070',\n",
       "  'Link': 'https://www.realtor.com/realestateandhomes-detail/10819-Idlebrook-Dr_Houston_TX_77070_M72689-22633',\n",
       "  'Photo link': ''},\n",
       " {'Price': 300000,\n",
       "  'Address': '3030 Triway Ln, Houston, TX 77043',\n",
       "  'Link': 'https://www.realtor.com/realestateandhomes-detail/3030-Triway-Ln_Houston_TX_77043_M73046-56117',\n",
       "  'Photo link': ''},\n",
       " {'Price': 299999,\n",
       "  'Address': '3600 Bayou Dr, Houston, TX 77022',\n",
       "  'Link': 'https://www.realtor.com/realestateandhomes-detail/3600-Bayou-Dr_Houston_TX_77022_M86568-55485',\n",
       "  'Photo link': ''},\n",
       " {'Price': 299999,\n",
       "  'Address': '4711 Hershe St, Houston, TX 77020',\n",
       "  'Link': 'https://www.realtor.com/realestateandhomes-detail/4711-Hershe-St_Houston_TX_77020_M92791-49875',\n",
       "  'Photo link': ''},\n",
       " {'Price': 299999,\n",
       "  'Address': '5927 McKnight St, Houston, TX 77035',\n",
       "  'Link': 'https://www.realtor.com/realestateandhomes-detail/5927-McKnight-St_Houston_TX_77035_M73854-70995',\n",
       "  'Photo link': ''},\n",
       " {'Price': 299999,\n",
       "  'Address': '9306 Hendon Ln, Houston, TX 77036',\n",
       "  'Link': 'https://www.realtor.com/realestateandhomes-detail/9306-Hendon-Ln_Houston_TX_77036_M84190-91253',\n",
       "  'Photo link': ''},\n",
       " {'Price': 299999,\n",
       "  'Address': '3006 Orchard Dr, Houston, TX 77054',\n",
       "  'Link': 'https://www.realtor.com/realestateandhomes-detail/3006-Orchard-Dr_Houston_TX_77054_M87058-54637',\n",
       "  'Photo link': ''},\n",
       " {'Price': 299999,\n",
       "  'Address': '2902 Tulip River Ct, Houston, TX 77345',\n",
       "  'Link': 'https://www.realtor.com/realestateandhomes-detail/2902-Tulip-River-Ct_Humble_TX_77345_M76407-56429',\n",
       "  'Photo link': ''},\n",
       " {'Price': 299999,\n",
       "  'Address': '1607 Blossom Creek Ct, Kingwood, TX 77339',\n",
       "  'Link': 'https://www.realtor.com/realestateandhomes-detail/1607-Blossom-Creek-Ct_Humble_TX_77339_M80543-63695',\n",
       "  'Photo link': ''},\n",
       " {'Price': 299999,\n",
       "  'Address': '12315 Macbrice Ln, Humble, TX 77346',\n",
       "  'Link': 'https://www.realtor.com/realestateandhomes-detail/12315-Macbrice-Ln_Humble_TX_77346_M99987-43888',\n",
       "  'Photo link': ''},\n",
       " {'Price': 299999,\n",
       "  'Address': '4450 Tidwell Rd Unit E, Houston, TX 77093',\n",
       "  'Link': 'https://www.realtor.com/realestateandhomes-detail/4450-Tidwell-Rd-E_Houston_TX_77093_M90396-98265',\n",
       "  'Photo link': ''},\n",
       " {'Price': 299999,\n",
       "  'Address': '1421 Bringhurst St, Houston, TX 77020',\n",
       "  'Link': 'https://www.realtor.com/realestateandhomes-detail/1413-Bringhurst-St_Houston_TX_77020_M82561-94817',\n",
       "  'Photo link': ''},\n",
       " {'Price': 299999,\n",
       "  'Address': '12223 Richardson Fort Way, Humble, TX 77346',\n",
       "  'Link': 'https://www.realtor.com/realestateandhomes-detail/12223-Richardson-Fort-Way_Humble_TX_77346_M94146-20532',\n",
       "  'Photo link': ''},\n",
       " {'Price': 299999,\n",
       "  'Address': '5503 Cheshire Ln, Houston, TX 77092',\n",
       "  'Link': 'https://www.realtor.com/realestateandhomes-detail/5503-Cheshire-Ln_Houston_TX_77092_M78417-29302',\n",
       "  'Photo link': ''},\n",
       " {'Price': 299999,\n",
       "  'Address': '26 N Champion Villa Dr, Houston, TX 77069',\n",
       "  'Link': 'https://www.realtor.com/realestateandhomes-detail/26-Champion-Villa-Dr_Houston_TX_77069_M82956-97939',\n",
       "  'Photo link': ''},\n",
       " {'Price': 299995,\n",
       "  'Address': '1812 Iris Knoll Ln, Pearland, TX 77089',\n",
       "  'Link': 'https://www.realtor.com/realestateandhomes-detail/1812-Iris-Knoll-Ln_Pearland_TX_77089_M90767-39685',\n",
       "  'Photo link': ''},\n",
       " {'Price': 299995,\n",
       "  'Address': '2649 Bellwick Canyon Ct, Pearland, TX 77089',\n",
       "  'Link': 'https://www.realtor.com/realestateandhomes-detail/2649-Bellwick-Canyon-Ct_Pearland_TX_77089_M99578-92308',\n",
       "  'Photo link': ''},\n",
       " {'Price': 299995,\n",
       "  'Address': '406 Oriole St, Houston, TX 77018',\n",
       "  'Link': 'https://www.realtor.com/realestateandhomes-detail/406-Oriole-St_Houston_TX_77018_M80144-31052',\n",
       "  'Photo link': ''},\n",
       " {'Price': 299990,\n",
       "  'Address': '11010 Crescent Lgt, Houston, TX 77043',\n",
       "  'Link': 'https://www.realtor.com/realestateandhomes-detail/11010-Crescent-Lgt_Houston_TX_77043_M99001-33501',\n",
       "  'Photo link': ''},\n",
       " {'Price': 299990,\n",
       "  'Address': '209 Cockerel St, Houston, TX 77018',\n",
       "  'Link': 'https://www.realtor.com/realestateandhomes-detail/209-Cockerel-St_Houston_TX_77018_M79665-29795',\n",
       "  'Photo link': ''},\n",
       " {'Price': 299990,\n",
       "  'Address': '3123 Briarwood Point Place, Houston, TX 77063',\n",
       "  'Link': 'https://www.realtor.com/realestateandhomes-detail/Redding_Briarmont_3123-Briarwood-Point-Place_Houston_TX_77063_P415441206059',\n",
       "  'Photo link': ''},\n",
       " {'Price': 299990,\n",
       "  'Address': '4712 Libbey Ln, Houston, TX 77092',\n",
       "  'Link': 'https://www.realtor.com/realestateandhomes-detail/4712-Libbey-Ln_Houston_TX_77092_M77659-75071',\n",
       "  'Photo link': ''},\n",
       " {'Price': 299990,\n",
       "  'Address': '5115 Del Sur St Unit H, Houston, TX 77018',\n",
       "  'Link': 'https://www.realtor.com/realestateandhomes-detail/5115-Del-Sur-St-H_Houston_TX_77018_M96698-25926',\n",
       "  'Photo link': ''},\n",
       " {'Price': 299990,\n",
       "  'Address': '203 Glenridge Frst, Houston, TX 77094',\n",
       "  'Link': 'https://www.realtor.com/realestateandhomes-detail/203-Glenridge-Frst_Houston_TX_77094_M82835-49242',\n",
       "  'Photo link': ''},\n",
       " {'Price': 299990,\n",
       "  'Address': '643 Press St, Houston, TX 77020',\n",
       "  'Link': 'https://www.realtor.com/realestateandhomes-detail/643-Press-St_Houston_TX_77020_M90242-01230',\n",
       "  'Photo link': ''}]"
      ]
     },
     "execution_count": 23,
     "metadata": {},
     "output_type": "execute_result"
    }
   ],
   "source": [
    "# Dataframe to dictionary\n",
    "listing_df.to_dict(orient=\"records\")"
   ]
  },
  {
   "cell_type": "markdown",
   "metadata": {},
   "source": [
    "### Get Coordinates"
   ]
  },
  {
   "cell_type": "code",
   "execution_count": 45,
   "metadata": {},
   "outputs": [
    {
     "name": "stdout",
     "output_type": "stream",
     "text": [
      "https://nominatim.openstreetmap.org/search?q=15747+Foxgate+Rd+Houston&format=json&polygon_geojson=1&addressdetails=1\n"
     ]
    }
   ],
   "source": [
    "# https://nominatim.org/\n",
    "url_address = 'https://nominatim.openstreetmap.org/search?q='\n",
    "address_search = '15747+Foxgate+Rd+Houston'\n",
    "searchformat = '&format=json&polygon_geojson=1&addressdetails=1'\n",
    "coordinate_search = f\"{url_address}{address_search}{searchformat}\"\n",
    "print(coordinate_search)\n",
    "\n",
    "#  Perform a request for data\n",
    "response_coordinates = requests.get(coordinate_search).json()"
   ]
  },
  {
   "cell_type": "code",
   "execution_count": 46,
   "metadata": {},
   "outputs": [
    {
     "data": {
      "text/plain": [
       "[{'place_id': 291177600,\n",
       "  'licence': 'Data © OpenStreetMap contributors, ODbL 1.0. https://osm.org/copyright',\n",
       "  'osm_type': 'way',\n",
       "  'osm_id': 15417204,\n",
       "  'boundingbox': ['29.775993', '29.776093', '-95.635814', '-95.635714'],\n",
       "  'lat': '29.776043',\n",
       "  'lon': '-95.635764',\n",
       "  'display_name': '15747, Foxgate Road, Addicks, Houston, Harris County, Texas, 77079, United States',\n",
       "  'class': 'place',\n",
       "  'type': 'house',\n",
       "  'importance': 0.32100000000000006,\n",
       "  'address': {'house_number': '15747',\n",
       "   'road': 'Foxgate Road',\n",
       "   'hamlet': 'Addicks',\n",
       "   'city': 'Houston',\n",
       "   'county': 'Harris County',\n",
       "   'state': 'Texas',\n",
       "   'postcode': '77079',\n",
       "   'country': 'United States',\n",
       "   'country_code': 'us'}}]"
      ]
     },
     "execution_count": 46,
     "metadata": {},
     "output_type": "execute_result"
    }
   ],
   "source": [
    "response_coordinates"
   ]
  },
  {
   "cell_type": "code",
   "execution_count": 55,
   "metadata": {},
   "outputs": [
    {
     "name": "stdout",
     "output_type": "stream",
     "text": [
      "3506+Chenevert+St+Houston+TX+77004\n"
     ]
    },
    {
     "data": {
      "text/plain": [
       "[{'place_id': 291286915,\n",
       "  'licence': 'Data © OpenStreetMap contributors, ODbL 1.0. https://osm.org/copyright',\n",
       "  'osm_type': 'way',\n",
       "  'osm_id': 138488478,\n",
       "  'boundingbox': ['29.735501795918',\n",
       "   '29.735601795918',\n",
       "   '-95.371899530612',\n",
       "   '-95.371799530612'],\n",
       "  'lat': '29.73555179591837',\n",
       "  'lon': '-95.37184953061224',\n",
       "  'display_name': '3506, Chenevert Street, Houston, Harris County, Texas, 77004, United States',\n",
       "  'class': 'place',\n",
       "  'type': 'house',\n",
       "  'importance': 0.5309999999999999,\n",
       "  'address': {'house_number': '3506',\n",
       "   'road': 'Chenevert Street',\n",
       "   'city': 'Houston',\n",
       "   'county': 'Harris County',\n",
       "   'state': 'Texas',\n",
       "   'postcode': '77004',\n",
       "   'country': 'United States',\n",
       "   'country_code': 'us'}}]"
      ]
     },
     "execution_count": 55,
     "metadata": {},
     "output_type": "execute_result"
    }
   ],
   "source": [
    "# Format address to search for coordinates\n",
    "address = listing_df.iloc[0].Address.split(' ')\n",
    "x = \"+\".join(address)\n",
    "address_search = x.replace(',','')\n",
    "coordinate_search = f\"{url_address}{address_search}{searchformat}\"\n",
    "print(address_search)\n",
    "\n",
    "#  Perform a request for data\n",
    "response_coordinates = requests.get(coordinate_search).json()\n",
    "response_coordinates"
   ]
  },
  {
   "cell_type": "code",
   "execution_count": 60,
   "metadata": {},
   "outputs": [],
   "source": [
    "lat = float(response_coordinates[0]['lat'])\n",
    "lon = float(response_coordinates[0]['lon'])"
   ]
  },
  {
   "cell_type": "code",
   "execution_count": 52,
   "metadata": {},
   "outputs": [
    {
     "name": "stdout",
     "output_type": "stream",
     "text": [
      "3506+Chenevert+St+Houston+TX+77004\n",
      "[{'place_id': 291286915, 'licence': 'Data © OpenStreetMap contributors, ODbL 1.0. https://osm.org/copyright', 'osm_type': 'way', 'osm_id': 138488478, 'boundingbox': ['29.735501795918', '29.735601795918', '-95.371899530612', '-95.371799530612'], 'lat': '29.73555179591837', 'lon': '-95.37184953061224', 'display_name': '3506, Chenevert Street, Houston, Harris County, Texas, 77004, United States', 'class': 'place', 'type': 'house', 'importance': 0.5309999999999999, 'address': {'house_number': '3506', 'road': 'Chenevert Street', 'city': 'Houston', 'county': 'Harris County', 'state': 'Texas', 'postcode': '77004', 'country': 'United States', 'country_code': 'us'}}]\n",
      "2620+Starboard+Point+Dr+Houston+TX+77054\n",
      "[{'place_id': 291361962, 'licence': 'Data © OpenStreetMap contributors, ODbL 1.0. https://osm.org/copyright', 'osm_type': 'way', 'osm_id': 251018757, 'boundingbox': ['29.671897', '29.671997', '-95.421159', '-95.421059'], 'lat': '29.671947', 'lon': '-95.421109', 'display_name': '2620, Starboard Point Drive, Houston, Harris County, Texas, 77054, United States', 'class': 'place', 'type': 'house', 'importance': 0.6309999999999999, 'address': {'house_number': '2620', 'road': 'Starboard Point Drive', 'city': 'Houston', 'county': 'Harris County', 'state': 'Texas', 'postcode': '77054', 'country': 'United States', 'country_code': 'us'}}]\n",
      "3923+Shadow+Cove+Dr+Houston+TX+77082\n",
      "[{'place_id': 291385965, 'licence': 'Data © OpenStreetMap contributors, ODbL 1.0. https://osm.org/copyright', 'osm_type': 'way', 'osm_id': 15396639, 'boundingbox': ['29.715709606239', '29.715809606239', '-95.60281006481', '-95.60271006481'], 'lat': '29.715759606239477', 'lon': '-95.60276006481025', 'display_name': '3923, Shadow Cove Drive, Alief, Houston, Harris County, Texas, 77082, United States', 'class': 'place', 'type': 'house', 'importance': 0.6309999999999999, 'address': {'house_number': '3923', 'road': 'Shadow Cove Drive', 'hamlet': 'Alief', 'city': 'Houston', 'county': 'Harris County', 'state': 'Texas', 'postcode': '77082', 'country': 'United States', 'country_code': 'us'}}]\n",
      "10650+Alcott+Dr+Houston+TX+77043\n",
      "[{'place_id': 291293880, 'licence': 'Data © OpenStreetMap contributors, ODbL 1.0. https://osm.org/copyright', 'osm_type': 'way', 'osm_id': 15419313, 'boundingbox': ['29.816012900232', '29.816112900232', '-95.560833528513', '-95.560733528513'], 'lat': '29.81606290023247', 'lon': '-95.56078352851328', 'display_name': '10650, Alcott Drive, Spring Branch Valley, Houston, Harris County, Texas, 77043, United States', 'class': 'place', 'type': 'house', 'importance': 0.5309999999999999, 'address': {'house_number': '10650', 'road': 'Alcott Drive', 'residential': 'Spring Branch Valley', 'city': 'Houston', 'county': 'Harris County', 'state': 'Texas', 'postcode': '77043', 'country': 'United States', 'country_code': 'us'}}]\n",
      "650+Westcross+St+Unit+38+Houston+TX+77018\n",
      "[]\n",
      "15747+Foxgate+Rd+Houston+TX+77079\n",
      "[{'place_id': 291177600, 'licence': 'Data © OpenStreetMap contributors, ODbL 1.0. https://osm.org/copyright', 'osm_type': 'way', 'osm_id': 15417204, 'boundingbox': ['29.775993', '29.776093', '-95.635814', '-95.635714'], 'lat': '29.776043', 'lon': '-95.635764', 'display_name': '15747, Foxgate Road, Addicks, Houston, Harris County, Texas, 77079, United States', 'class': 'place', 'type': 'house', 'importance': 0.431, 'address': {'house_number': '15747', 'road': 'Foxgate Road', 'hamlet': 'Addicks', 'city': 'Houston', 'county': 'Harris County', 'state': 'Texas', 'postcode': '77079', 'country': 'United States', 'country_code': 'us'}}]\n",
      "2828+Robertson+St+Houston+TX+77009\n",
      "[{'place_id': 291320184, 'licence': 'Data © OpenStreetMap contributors, ODbL 1.0. https://osm.org/copyright', 'osm_type': 'way', 'osm_id': 15372464, 'boundingbox': ['29.787120142857', '29.787220142857', '-95.356940714286', '-95.356840714286'], 'lat': '29.787170142857143', 'lon': '-95.35689071428571', 'display_name': '2828, Robertson Street, Houston, Harris County, Texas, 77009, United States', 'class': 'place', 'type': 'house', 'importance': 0.5309999999999999, 'address': {'house_number': '2828', 'road': 'Robertson Street', 'city': 'Houston', 'county': 'Harris County', 'state': 'Texas', 'postcode': '77009', 'country': 'United States', 'country_code': 'us'}}]\n",
      "9610+Chatfield+St+Houston+TX+77025\n",
      "[{'place_id': 291295118, 'licence': 'Data © OpenStreetMap contributors, ODbL 1.0. https://osm.org/copyright', 'osm_type': 'way', 'osm_id': 361742396, 'boundingbox': ['29.681077494432', '29.681177494432', '-95.427341284522', '-95.427241284522'], 'lat': '29.68112749443186', 'lon': '-95.42729128452169', 'display_name': '9610, Chatfield Street, Westridge, Houston, Harris County, Texas, 77025, United States', 'class': 'place', 'type': 'house', 'importance': 0.5309999999999999, 'address': {'house_number': '9610', 'road': 'Chatfield Street', 'residential': 'Westridge', 'city': 'Houston', 'county': 'Harris County', 'state': 'Texas', 'postcode': '77025', 'country': 'United States', 'country_code': 'us'}}]\n",
      "12914+Ridge+Bank+Ln+Houston+TX+77041\n",
      "[]\n",
      "6510+Cohn+St+Houston+TX+77091\n",
      "[{'place_id': 291343415, 'licence': 'Data © OpenStreetMap contributors, ODbL 1.0. https://osm.org/copyright', 'osm_type': 'way', 'osm_id': 15415154, 'boundingbox': ['29.858034612245', '29.858134612245', '-95.423504020408', '-95.423404020408'], 'lat': '29.858084612244898', 'lon': '-95.42345402040816', 'display_name': '6510, Cohn Street, Highland Heights, Houston, Harris County, Texas, 77091, United States', 'class': 'place', 'type': 'house', 'importance': 0.5309999999999999, 'address': {'house_number': '6510', 'road': 'Cohn Street', 'neighbourhood': 'Highland Heights', 'city': 'Houston', 'county': 'Harris County', 'state': 'Texas', 'postcode': '77091', 'country': 'United States', 'country_code': 'us'}}]\n",
      "5318+S+Oak+Cove+Dr+Houston+TX+77091\n",
      "[{'place_id': 291193655, 'licence': 'Data © OpenStreetMap contributors, ODbL 1.0. https://osm.org/copyright', 'osm_type': 'way', 'osm_id': 15385167, 'boundingbox': ['29.856442353401', '29.856542353401', '-95.467671169462', '-95.467571169462'], 'lat': '29.85649235340138', 'lon': '-95.46762116946168', 'display_name': '5318, Oak Cove Drive, Near Northwest, Houston, Harris County, Texas, 77091, United States', 'class': 'place', 'type': 'house', 'importance': 0.731, 'address': {'house_number': '5318', 'road': 'Oak Cove Drive', 'neighbourhood': 'Near Northwest', 'city': 'Houston', 'county': 'Harris County', 'state': 'Texas', 'postcode': '77091', 'country': 'United States', 'country_code': 'us'}}]\n",
      "10418+Springland+Ct+Houston+TX+77065\n",
      "[]\n",
      "2006+Stevens+St+Houston+TX+77026\n",
      "[{'place_id': 291197680, 'licence': 'Data © OpenStreetMap contributors, ODbL 1.0. https://osm.org/copyright', 'osm_type': 'way', 'osm_id': 15423824, 'boundingbox': ['29.779674591837', '29.779774591837', '-95.343884795918', '-95.343784795918'], 'lat': '29.779724591836736', 'lon': '-95.34383479591837', 'display_name': '2006, Stevens Street, Houston, Harris County, Texas, 77026, United States', 'class': 'place', 'type': 'house', 'importance': 0.5309999999999999, 'address': {'house_number': '2006', 'road': 'Stevens Street', 'city': 'Houston', 'county': 'Harris County', 'state': 'Texas', 'postcode': '77026', 'country': 'United States', 'country_code': 'us'}}]\n",
      "702+Tabor+St+Houston+TX+77009\n",
      "[{'place_id': 291348943, 'licence': 'Data © OpenStreetMap contributors, ODbL 1.0. https://osm.org/copyright', 'osm_type': 'way', 'osm_id': 15442778, 'boundingbox': ['29.797882102041', '29.797982102041', '-95.377127877551', '-95.377027877551'], 'lat': '29.797932102040818', 'lon': '-95.37707787755102', 'display_name': '702, Tabor Street, Houston, Harris County, Texas, 77009, United States', 'class': 'place', 'type': 'house', 'importance': 0.5309999999999999, 'address': {'house_number': '702', 'road': 'Tabor Street', 'city': 'Houston', 'county': 'Harris County', 'state': 'Texas', 'postcode': '77009', 'country': 'United States', 'country_code': 'us'}}]\n",
      "410+Hohldale+St+Houston+TX+77091\n",
      "[{'place_id': 291220665, 'licence': 'Data © OpenStreetMap contributors, ODbL 1.0. https://osm.org/copyright', 'osm_type': 'way', 'osm_id': 15416739, 'boundingbox': ['29.841783444444', '29.841883444444', '-95.405213888889', '-95.405113888889'], 'lat': '29.841833444444443', 'lon': '-95.4051638888889', 'display_name': '410, Hohldale Street, Independence Heights, Houston, Harris County, Texas, 77091, United States', 'class': 'place', 'type': 'house', 'importance': 0.5309999999999999, 'address': {'house_number': '410', 'road': 'Hohldale Street', 'neighbourhood': 'Independence Heights', 'city': 'Houston', 'county': 'Harris County', 'state': 'Texas', 'postcode': '77091', 'country': 'United States', 'country_code': 'us'}}]\n",
      "13414+Boca+Raton+Dr+Houston+TX+77069\n"
     ]
    },
    {
     "name": "stdout",
     "output_type": "stream",
     "text": [
      "[]\n",
      "10604+Park+Ln+Houston+TX+77093\n",
      "[{'place_id': 291301532, 'licence': 'Data © OpenStreetMap contributors, ODbL 1.0. https://osm.org/copyright', 'osm_type': 'way', 'osm_id': 15451741, 'boundingbox': ['29.867347244898', '29.867447244898', '-95.347155285714', '-95.347055285714'], 'lat': '29.86739724489796', 'lon': '-95.34710528571428', 'display_name': '10604, Park Lane, Houston, Harris County, Texas, 77093, United States', 'class': 'place', 'type': 'house', 'importance': 0.431, 'address': {'house_number': '10604', 'road': 'Park Lane', 'city': 'Houston', 'county': 'Harris County', 'state': 'Texas', 'postcode': '77093', 'country': 'United States', 'country_code': 'us'}}]\n",
      "10819+Idlebrook+Dr+Houston+TX+77070\n",
      "[]\n",
      "3030+Triway+Ln+Houston+TX+77043\n",
      "[{'place_id': 291393737, 'licence': 'Data © OpenStreetMap contributors, ODbL 1.0. https://osm.org/copyright', 'osm_type': 'way', 'osm_id': 15455919, 'boundingbox': ['29.827468594605', '29.827568594605', '-95.549355503784', '-95.549255503784'], 'lat': '29.82751859460475', 'lon': '-95.54930550378418', 'display_name': '3030, Triway Lane, Spring Shadows, Houston, Harris County, Texas, 77043, United States', 'class': 'place', 'type': 'house', 'importance': 0.431, 'address': {'house_number': '3030', 'road': 'Triway Lane', 'residential': 'Spring Shadows', 'city': 'Houston', 'county': 'Harris County', 'state': 'Texas', 'postcode': '77043', 'country': 'United States', 'country_code': 'us'}}]\n",
      "3600+Bayou+Dr+Houston+TX+77022\n",
      "[{'place_id': 291164688, 'licence': 'Data © OpenStreetMap contributors, ODbL 1.0. https://osm.org/copyright', 'osm_type': 'way', 'osm_id': 15397851, 'boundingbox': ['29.818725', '29.818825', '-95.379057', '-95.378957'], 'lat': '29.818775', 'lon': '-95.379007', 'display_name': '3600, Bayou Drive, Independence Heights, Houston, Harris County, Texas, 77022, United States', 'class': 'place', 'type': 'house', 'importance': 0.5309999999999999, 'address': {'house_number': '3600', 'road': 'Bayou Drive', 'neighbourhood': 'Independence Heights', 'city': 'Houston', 'county': 'Harris County', 'state': 'Texas', 'postcode': '77022', 'country': 'United States', 'country_code': 'us'}}]\n",
      "4711+Hershe+St+Houston+TX+77020\n",
      "[{'place_id': 291291728, 'licence': 'Data © OpenStreetMap contributors, ODbL 1.0. https://osm.org/copyright', 'osm_type': 'way', 'osm_id': 15449621, 'boundingbox': ['29.777700020408', '29.777800020408', '-95.322711306122', '-95.322611306122'], 'lat': '29.777750020408163', 'lon': '-95.32266130612246', 'display_name': '4711, Hershe Street, Houston, Harris County, Texas, 77020, United States', 'class': 'place', 'type': 'house', 'importance': 0.5309999999999999, 'address': {'house_number': '4711', 'road': 'Hershe Street', 'city': 'Houston', 'county': 'Harris County', 'state': 'Texas', 'postcode': '77020', 'country': 'United States', 'country_code': 'us'}}]\n",
      "5927+McKnight+St+Houston+TX+77035\n",
      "[]\n",
      "9306+Hendon+Ln+Houston+TX+77036\n",
      "[{'place_id': 291292998, 'licence': 'Data © OpenStreetMap contributors, ODbL 1.0. https://osm.org/copyright', 'osm_type': 'way', 'osm_id': 15434798, 'boundingbox': ['29.69557955102', '29.69567955102', '-95.547990836735', '-95.547890836735'], 'lat': '29.695629551020406', 'lon': '-95.5479408367347', 'display_name': '9306, Hendon Lane, Houston, Harris County, Texas, 77036, United States', 'class': 'place', 'type': 'house', 'importance': 0.431, 'address': {'house_number': '9306', 'road': 'Hendon Lane', 'city': 'Houston', 'county': 'Harris County', 'state': 'Texas', 'postcode': '77036', 'country': 'United States', 'country_code': 'us'}}]\n",
      "3006+Orchard+Dr+Houston+TX+77054\n",
      "[{'place_id': 161782280, 'licence': 'Data © OpenStreetMap contributors, ODbL 1.0. https://osm.org/copyright', 'osm_type': 'way', 'osm_id': 292305665, 'boundingbox': ['29.6749364', '29.6749435', '-95.4248813', '-95.4247646'], 'lat': '29.6749364', 'lon': '-95.4247646', 'display_name': 'Orchard Drive, Houston, Harris County, Texas, 77025, United States', 'class': 'highway', 'type': 'residential', 'importance': 0.41000000000000003, 'address': {'road': 'Orchard Drive', 'city': 'Houston', 'county': 'Harris County', 'state': 'Texas', 'postcode': '77025', 'country': 'United States', 'country_code': 'us'}, 'geojson': {'type': 'LineString', 'coordinates': [[-95.4248813, 29.6749435], [-95.4247646, 29.6749364]]}}]\n",
      "2902+Tulip+River+Ct+Houston+TX+77345\n",
      "[{'place_id': 291206495, 'licence': 'Data © OpenStreetMap contributors, ODbL 1.0. https://osm.org/copyright', 'osm_type': 'way', 'osm_id': 15393621, 'boundingbox': ['30.077332346939', '30.077432346939', '-95.174483816327', '-95.174383816327'], 'lat': '30.077382346938776', 'lon': '-95.17443381632653', 'display_name': '2902, Tulip River Court, Woodstream, Houston, Harris County, Texas, 77345, United States', 'class': 'place', 'type': 'house', 'importance': 0.5309999999999999, 'address': {'house_number': '2902', 'road': 'Tulip River Court', 'village': 'Woodstream', 'city': 'Houston', 'county': 'Harris County', 'state': 'Texas', 'postcode': '77345', 'country': 'United States', 'country_code': 'us'}}]\n",
      "1607+Blossom+Creek+Ct+Kingwood+TX+77339\n",
      "[{'place_id': 291162312, 'licence': 'Data © OpenStreetMap contributors, ODbL 1.0. https://osm.org/copyright', 'osm_type': 'way', 'osm_id': 15455067, 'boundingbox': ['30.044517927711', '30.044617927711', '-95.231415481928', '-95.231315481928'], 'lat': '30.044567927710844', 'lon': '-95.23136548192771', 'display_name': '1607, Blossom Creek Court, Kingwood Place, Trailwood Village, Houston, Harris County, Texas, 77339, United States', 'class': 'place', 'type': 'house', 'importance': 0.5209999999999999, 'address': {'house_number': '1607', 'road': 'Blossom Creek Court', 'residential': 'Kingwood Place', 'village': 'Trailwood Village', 'city': 'Houston', 'county': 'Harris County', 'state': 'Texas', 'postcode': '77339', 'country': 'United States', 'country_code': 'us'}}]\n",
      "12315+Macbrice+Ln+Humble+TX+77346\n",
      "[]\n",
      "4450+Tidwell+Rd+Unit+E+Houston+TX+77093\n",
      "[]\n",
      "1421+Bringhurst+St+Houston+TX+77020\n",
      "[{'place_id': 291291346, 'licence': 'Data © OpenStreetMap contributors, ODbL 1.0. https://osm.org/copyright', 'osm_type': 'way', 'osm_id': 15368257, 'boundingbox': ['29.774352928571', '29.774452928571', '-95.334038', '-95.333938'], 'lat': '29.774402928571426', 'lon': '-95.33398799999999', 'display_name': '1421, Bringhurst Street, Houston, Harris County, Texas, 77020, United States', 'class': 'place', 'type': 'house', 'importance': 0.5309999999999999, 'address': {'house_number': '1421', 'road': 'Bringhurst Street', 'city': 'Houston', 'county': 'Harris County', 'state': 'Texas', 'postcode': '77020', 'country': 'United States', 'country_code': 'us'}}]\n",
      "12223+Richardson+Fort+Way+Humble+TX+77346\n",
      "[]\n",
      "5503+Cheshire+Ln+Houston+TX+77092\n",
      "[{'place_id': 291375960, 'licence': 'Data © OpenStreetMap contributors, ODbL 1.0. https://osm.org/copyright', 'osm_type': 'way', 'osm_id': 15431605, 'boundingbox': ['29.829487963215', '29.829587963215', '-95.473068959065', '-95.472968959065'], 'lat': '29.829537963215355', 'lon': '-95.47301895906455', 'display_name': '5503, Cheshire Lane, Oak Forest, Rosslyn, Houston, Harris County, Texas, 77092, United States', 'class': 'place', 'type': 'house', 'importance': 0.431, 'address': {'house_number': '5503', 'road': 'Cheshire Lane', 'neighbourhood': 'Oak Forest', 'hamlet': 'Rosslyn', 'city': 'Houston', 'county': 'Harris County', 'state': 'Texas', 'postcode': '77092', 'country': 'United States', 'country_code': 'us'}}]\n",
      "26+N+Champion+Villa+Dr+Houston+TX+77069\n",
      "[]\n",
      "1812+Iris+Knoll+Ln+Pearland+TX+77089\n",
      "[]\n",
      "2649+Bellwick+Canyon+Ct+Pearland+TX+77089\n",
      "[]\n",
      "406+Oriole+St+Houston+TX+77018\n",
      "[{'place_id': 226309324, 'licence': 'Data © OpenStreetMap contributors, ODbL 1.0. https://osm.org/copyright', 'osm_type': 'way', 'osm_id': 680377292, 'boundingbox': ['29.8238732', '29.82388', '-95.4018569', '-95.400457'], 'lat': '29.82388', 'lon': '-95.400764', 'display_name': 'Oriole Street, Independence Heights, Houston, Harris County, Texas, 77018, United States', 'class': 'highway', 'type': 'residential', 'importance': 0.5199999999999999, 'address': {'road': 'Oriole Street', 'neighbourhood': 'Independence Heights', 'city': 'Houston', 'county': 'Harris County', 'state': 'Texas', 'postcode': '77018', 'country': 'United States', 'country_code': 'us'}, 'geojson': {'type': 'LineString', 'coordinates': [[-95.400457, 29.823877], [-95.4005327, 29.8238777], [-95.400764, 29.82388], [-95.4017771, 29.8238771], [-95.401812, 29.823877], [-95.4018569, 29.8238732]]}}, {'place_id': 91062643, 'licence': 'Data © OpenStreetMap contributors, ODbL 1.0. https://osm.org/copyright', 'osm_type': 'way', 'osm_id': 15366655, 'boundingbox': ['29.823514', '29.8235307', '-95.405042', '-95.4035254'], 'lat': '29.8235269', 'lon': '-95.4038719', 'display_name': 'Oriole Street, Independence Heights, Houston, Harris County, Texas, 77018, United States', 'class': 'highway', 'type': 'unclassified', 'importance': 0.5199999999999999, 'address': {'road': 'Oriole Street', 'neighbourhood': 'Independence Heights', 'city': 'Houston', 'county': 'Harris County', 'state': 'Texas', 'postcode': '77018', 'country': 'United States', 'country_code': 'us'}, 'geojson': {'type': 'LineString', 'coordinates': [[-95.4035254, 29.8235307], [-95.4038719, 29.8235269], [-95.4048999, 29.8235156], [-95.405042, 29.823514]]}}]\n",
      "11010+Crescent+Lgt+Houston+TX+77043\n"
     ]
    },
    {
     "name": "stdout",
     "output_type": "stream",
     "text": [
      "[]\n",
      "209+Cockerel+St+Houston+TX+77018\n",
      "[{'place_id': 291316164, 'licence': 'Data © OpenStreetMap contributors, ODbL 1.0. https://osm.org/copyright', 'osm_type': 'way', 'osm_id': 15365138, 'boundingbox': ['29.822589333333', '29.822689333333', '-95.400375666667', '-95.400275666667'], 'lat': '29.822639333333335', 'lon': '-95.40032566666666', 'display_name': '209, Cockerel Street, Independence Heights, Houston, Harris County, Texas, 77018, United States', 'class': 'place', 'type': 'house', 'importance': 0.5309999999999999, 'address': {'house_number': '209', 'road': 'Cockerel Street', 'neighbourhood': 'Independence Heights', 'city': 'Houston', 'county': 'Harris County', 'state': 'Texas', 'postcode': '77018', 'country': 'United States', 'country_code': 'us'}}]\n",
      "3123+Briarwood+Point+Place+Houston+TX+77063\n",
      "[]\n",
      "4712+Libbey+Ln+Houston+TX+77092\n",
      "[{'place_id': 89839708, 'licence': 'Data © OpenStreetMap contributors, ODbL 1.0. https://osm.org/copyright', 'osm_type': 'way', 'osm_id': 15357936, 'boundingbox': ['29.830832', '29.830987', '-95.4727524', '-95.462298'], 'lat': '29.830835', 'lon': '-95.466487', 'display_name': 'Libbey Lane, Oak Forest, Rosslyn, Houston, Harris County, Texas, 77092, United States', 'class': 'highway', 'type': 'residential', 'importance': 0.42000000000000004, 'address': {'road': 'Libbey Lane', 'neighbourhood': 'Oak Forest', 'hamlet': 'Rosslyn', 'city': 'Houston', 'county': 'Harris County', 'state': 'Texas', 'postcode': '77092', 'country': 'United States', 'country_code': 'us'}, 'geojson': {'type': 'LineString', 'coordinates': [[-95.462298, 29.830836], [-95.466487, 29.830835], [-95.469675, 29.830836], [-95.470002, 29.830832], [-95.470631, 29.830832], [-95.47085, 29.83085], [-95.471186, 29.830891], [-95.471852, 29.830965], [-95.472232, 29.830987], [-95.4727524, 29.8309713]]}}, {'place_id': 256898950, 'licence': 'Data © OpenStreetMap contributors, ODbL 1.0. https://osm.org/copyright', 'osm_type': 'way', 'osm_id': 866616078, 'boundingbox': ['29.830813', '29.8309076', '-95.461143', '-95.457079'], 'lat': '29.830896', 'lon': '-95.457996', 'display_name': 'Libbey Lane, Oak Forest, Houston, Harris County, Texas, 77092, United States', 'class': 'highway', 'type': 'residential', 'importance': 0.42000000000000004, 'address': {'road': 'Libbey Lane', 'neighbourhood': 'Oak Forest', 'city': 'Houston', 'county': 'Harris County', 'state': 'Texas', 'postcode': '77092', 'country': 'United States', 'country_code': 'us'}, 'geojson': {'type': 'LineString', 'coordinates': [[-95.457079, 29.8309076], [-95.457996, 29.830896], [-95.461143, 29.830813]]}}, {'place_id': 91816369, 'licence': 'Data © OpenStreetMap contributors, ODbL 1.0. https://osm.org/copyright', 'osm_type': 'way', 'osm_id': 15357931, 'boundingbox': ['29.8308439', '29.8309109', '-95.4568156', '-95.4566886'], 'lat': '29.8308439', 'lon': '-95.4566886', 'display_name': 'Libbey Lane, Houston, Harris County, Texas, 77092, United States', 'class': 'highway', 'type': 'residential', 'importance': 0.42000000000000004, 'address': {'road': 'Libbey Lane', 'city': 'Houston', 'county': 'Harris County', 'state': 'Texas', 'postcode': '77092', 'country': 'United States', 'country_code': 'us'}, 'geojson': {'type': 'LineString', 'coordinates': [[-95.4566886, 29.8308439], [-95.4568156, 29.8309109]]}}]\n",
      "5115+Del+Sur+St+Unit+H+Houston+TX+77018\n",
      "[]\n",
      "203+Glenridge+Frst+Houston+TX+77094\n",
      "[]\n",
      "643+Press+St+Houston+TX+77020\n",
      "[{'place_id': 91845593, 'licence': 'Data © OpenStreetMap contributors, ODbL 1.0. https://osm.org/copyright', 'osm_type': 'way', 'osm_id': 15396739, 'boundingbox': ['29.772689', '29.774382', '-95.328856', '-95.328816'], 'lat': '29.774382', 'lon': '-95.328856', 'display_name': 'Press Street, Houston, Harris County, Texas, 77020, United States', 'class': 'highway', 'type': 'residential', 'importance': 0.5199999999999999, 'address': {'road': 'Press Street', 'city': 'Houston', 'county': 'Harris County', 'state': 'Texas', 'postcode': '77020', 'country': 'United States', 'country_code': 'us'}, 'geojson': {'type': 'LineString', 'coordinates': [[-95.328816, 29.772689], [-95.328856, 29.774382]]}}]\n"
     ]
    }
   ],
   "source": [
    "for index,row in listing_df.iterrows():\n",
    "    # Format address to search for coordinates\n",
    "    address = listing_df.iloc[index].Address.split(' ')\n",
    "    x = \"+\".join(address)\n",
    "    address_search = x.replace(',','')\n",
    "    coordinate_search = f\"{url_address}{address_search}{searchformat}\"\n",
    "    print(address_search)\n",
    "    \n",
    "    #  Perform a request for data\n",
    "    response_coordinates = requests.get(coordinate_search).json()\n",
    "    print(response_coordinates)"
   ]
  },
  {
   "cell_type": "markdown",
   "metadata": {},
   "source": [
    "#### Complete Script To Get Coordinates (nominatim)"
   ]
  },
  {
   "cell_type": "markdown",
   "metadata": {},
   "source": [
    "Note: during the project, it was observed that nominatin API was not able to handle all the addresses."
   ]
  },
  {
   "cell_type": "code",
   "execution_count": 53,
   "metadata": {},
   "outputs": [
    {
     "name": "stdout",
     "output_type": "stream",
     "text": [
      "-------------------------------------------------\n",
      "3506+Chenevert+St+Houston+TX+77004\n",
      "[{'place_id': 291286915, 'licence': 'Data © OpenStreetMap contributors, ODbL 1.0. https://osm.org/copyright', 'osm_type': 'way', 'osm_id': 138488478, 'boundingbox': ['29.735501795918', '29.735601795918', '-95.371899530612', '-95.371799530612'], 'lat': '29.73555179591837', 'lon': '-95.37184953061224', 'display_name': '3506, Chenevert Street, Houston, Harris County, Texas, 77004, United States', 'class': 'place', 'type': 'house', 'importance': 0.5309999999999999, 'address': {'house_number': '3506', 'road': 'Chenevert Street', 'city': 'Houston', 'county': 'Harris County', 'state': 'Texas', 'postcode': '77004', 'country': 'United States', 'country_code': 'us'}}]\n",
      "-------------------------------------------------\n",
      "2620+Starboard+Point+Dr+Houston+TX+77054\n",
      "[{'place_id': 291361962, 'licence': 'Data © OpenStreetMap contributors, ODbL 1.0. https://osm.org/copyright', 'osm_type': 'way', 'osm_id': 251018757, 'boundingbox': ['29.671897', '29.671997', '-95.421159', '-95.421059'], 'lat': '29.671947', 'lon': '-95.421109', 'display_name': '2620, Starboard Point Drive, Houston, Harris County, Texas, 77054, United States', 'class': 'place', 'type': 'house', 'importance': 0.6309999999999999, 'address': {'house_number': '2620', 'road': 'Starboard Point Drive', 'city': 'Houston', 'county': 'Harris County', 'state': 'Texas', 'postcode': '77054', 'country': 'United States', 'country_code': 'us'}}]\n",
      "-------------------------------------------------\n",
      "3923+Shadow+Cove+Dr+Houston+TX+77082\n",
      "[{'place_id': 291385965, 'licence': 'Data © OpenStreetMap contributors, ODbL 1.0. https://osm.org/copyright', 'osm_type': 'way', 'osm_id': 15396639, 'boundingbox': ['29.715709606239', '29.715809606239', '-95.60281006481', '-95.60271006481'], 'lat': '29.715759606239477', 'lon': '-95.60276006481025', 'display_name': '3923, Shadow Cove Drive, Alief, Houston, Harris County, Texas, 77082, United States', 'class': 'place', 'type': 'house', 'importance': 0.6309999999999999, 'address': {'house_number': '3923', 'road': 'Shadow Cove Drive', 'hamlet': 'Alief', 'city': 'Houston', 'county': 'Harris County', 'state': 'Texas', 'postcode': '77082', 'country': 'United States', 'country_code': 'us'}}]\n",
      "-------------------------------------------------\n",
      "10650+Alcott+Dr+Houston+TX+77043\n",
      "[{'place_id': 291293880, 'licence': 'Data © OpenStreetMap contributors, ODbL 1.0. https://osm.org/copyright', 'osm_type': 'way', 'osm_id': 15419313, 'boundingbox': ['29.816012900232', '29.816112900232', '-95.560833528513', '-95.560733528513'], 'lat': '29.81606290023247', 'lon': '-95.56078352851328', 'display_name': '10650, Alcott Drive, Spring Branch Valley, Houston, Harris County, Texas, 77043, United States', 'class': 'place', 'type': 'house', 'importance': 0.5309999999999999, 'address': {'house_number': '10650', 'road': 'Alcott Drive', 'residential': 'Spring Branch Valley', 'city': 'Houston', 'county': 'Harris County', 'state': 'Texas', 'postcode': '77043', 'country': 'United States', 'country_code': 'us'}}]\n",
      "-------------------------------------------------\n",
      "650+Westcross+St+Unit+38+Houston+TX+77018\n",
      "[]\n",
      "-------------------------------------------------\n",
      "15747+Foxgate+Rd+Houston+TX+77079\n",
      "[{'place_id': 291177600, 'licence': 'Data © OpenStreetMap contributors, ODbL 1.0. https://osm.org/copyright', 'osm_type': 'way', 'osm_id': 15417204, 'boundingbox': ['29.775993', '29.776093', '-95.635814', '-95.635714'], 'lat': '29.776043', 'lon': '-95.635764', 'display_name': '15747, Foxgate Road, Addicks, Houston, Harris County, Texas, 77079, United States', 'class': 'place', 'type': 'house', 'importance': 0.431, 'address': {'house_number': '15747', 'road': 'Foxgate Road', 'hamlet': 'Addicks', 'city': 'Houston', 'county': 'Harris County', 'state': 'Texas', 'postcode': '77079', 'country': 'United States', 'country_code': 'us'}}]\n",
      "-------------------------------------------------\n",
      "2828+Robertson+St+Houston+TX+77009\n",
      "[{'place_id': 291320184, 'licence': 'Data © OpenStreetMap contributors, ODbL 1.0. https://osm.org/copyright', 'osm_type': 'way', 'osm_id': 15372464, 'boundingbox': ['29.787120142857', '29.787220142857', '-95.356940714286', '-95.356840714286'], 'lat': '29.787170142857143', 'lon': '-95.35689071428571', 'display_name': '2828, Robertson Street, Houston, Harris County, Texas, 77009, United States', 'class': 'place', 'type': 'house', 'importance': 0.5309999999999999, 'address': {'house_number': '2828', 'road': 'Robertson Street', 'city': 'Houston', 'county': 'Harris County', 'state': 'Texas', 'postcode': '77009', 'country': 'United States', 'country_code': 'us'}}]\n",
      "-------------------------------------------------\n",
      "9610+Chatfield+St+Houston+TX+77025\n",
      "[{'place_id': 291295118, 'licence': 'Data © OpenStreetMap contributors, ODbL 1.0. https://osm.org/copyright', 'osm_type': 'way', 'osm_id': 361742396, 'boundingbox': ['29.681077494432', '29.681177494432', '-95.427341284522', '-95.427241284522'], 'lat': '29.68112749443186', 'lon': '-95.42729128452169', 'display_name': '9610, Chatfield Street, Westridge, Houston, Harris County, Texas, 77025, United States', 'class': 'place', 'type': 'house', 'importance': 0.5309999999999999, 'address': {'house_number': '9610', 'road': 'Chatfield Street', 'residential': 'Westridge', 'city': 'Houston', 'county': 'Harris County', 'state': 'Texas', 'postcode': '77025', 'country': 'United States', 'country_code': 'us'}}]\n",
      "-------------------------------------------------\n",
      "12914+Ridge+Bank+Ln+Houston+TX+77041\n",
      "[]\n",
      "-------------------------------------------------\n",
      "6510+Cohn+St+Houston+TX+77091\n",
      "[{'place_id': 291343415, 'licence': 'Data © OpenStreetMap contributors, ODbL 1.0. https://osm.org/copyright', 'osm_type': 'way', 'osm_id': 15415154, 'boundingbox': ['29.858034612245', '29.858134612245', '-95.423504020408', '-95.423404020408'], 'lat': '29.858084612244898', 'lon': '-95.42345402040816', 'display_name': '6510, Cohn Street, Highland Heights, Houston, Harris County, Texas, 77091, United States', 'class': 'place', 'type': 'house', 'importance': 0.5309999999999999, 'address': {'house_number': '6510', 'road': 'Cohn Street', 'neighbourhood': 'Highland Heights', 'city': 'Houston', 'county': 'Harris County', 'state': 'Texas', 'postcode': '77091', 'country': 'United States', 'country_code': 'us'}}]\n",
      "-------------------------------------------------\n",
      "5318+S+Oak+Cove+Dr+Houston+TX+77091\n",
      "[{'place_id': 291193655, 'licence': 'Data © OpenStreetMap contributors, ODbL 1.0. https://osm.org/copyright', 'osm_type': 'way', 'osm_id': 15385167, 'boundingbox': ['29.856442353401', '29.856542353401', '-95.467671169462', '-95.467571169462'], 'lat': '29.85649235340138', 'lon': '-95.46762116946168', 'display_name': '5318, Oak Cove Drive, Near Northwest, Houston, Harris County, Texas, 77091, United States', 'class': 'place', 'type': 'house', 'importance': 0.731, 'address': {'house_number': '5318', 'road': 'Oak Cove Drive', 'neighbourhood': 'Near Northwest', 'city': 'Houston', 'county': 'Harris County', 'state': 'Texas', 'postcode': '77091', 'country': 'United States', 'country_code': 'us'}}]\n",
      "-------------------------------------------------\n",
      "10418+Springland+Ct+Houston+TX+77065\n",
      "[]\n",
      "-------------------------------------------------\n",
      "2006+Stevens+St+Houston+TX+77026\n",
      "[{'place_id': 291197680, 'licence': 'Data © OpenStreetMap contributors, ODbL 1.0. https://osm.org/copyright', 'osm_type': 'way', 'osm_id': 15423824, 'boundingbox': ['29.779674591837', '29.779774591837', '-95.343884795918', '-95.343784795918'], 'lat': '29.779724591836736', 'lon': '-95.34383479591837', 'display_name': '2006, Stevens Street, Houston, Harris County, Texas, 77026, United States', 'class': 'place', 'type': 'house', 'importance': 0.5309999999999999, 'address': {'house_number': '2006', 'road': 'Stevens Street', 'city': 'Houston', 'county': 'Harris County', 'state': 'Texas', 'postcode': '77026', 'country': 'United States', 'country_code': 'us'}}]\n",
      "-------------------------------------------------\n",
      "702+Tabor+St+Houston+TX+77009\n",
      "[{'place_id': 291348943, 'licence': 'Data © OpenStreetMap contributors, ODbL 1.0. https://osm.org/copyright', 'osm_type': 'way', 'osm_id': 15442778, 'boundingbox': ['29.797882102041', '29.797982102041', '-95.377127877551', '-95.377027877551'], 'lat': '29.797932102040818', 'lon': '-95.37707787755102', 'display_name': '702, Tabor Street, Houston, Harris County, Texas, 77009, United States', 'class': 'place', 'type': 'house', 'importance': 0.5309999999999999, 'address': {'house_number': '702', 'road': 'Tabor Street', 'city': 'Houston', 'county': 'Harris County', 'state': 'Texas', 'postcode': '77009', 'country': 'United States', 'country_code': 'us'}}]\n",
      "-------------------------------------------------\n",
      "410+Hohldale+St+Houston+TX+77091\n"
     ]
    },
    {
     "name": "stdout",
     "output_type": "stream",
     "text": [
      "[{'place_id': 291220665, 'licence': 'Data © OpenStreetMap contributors, ODbL 1.0. https://osm.org/copyright', 'osm_type': 'way', 'osm_id': 15416739, 'boundingbox': ['29.841783444444', '29.841883444444', '-95.405213888889', '-95.405113888889'], 'lat': '29.841833444444443', 'lon': '-95.4051638888889', 'display_name': '410, Hohldale Street, Independence Heights, Houston, Harris County, Texas, 77091, United States', 'class': 'place', 'type': 'house', 'importance': 0.5309999999999999, 'address': {'house_number': '410', 'road': 'Hohldale Street', 'neighbourhood': 'Independence Heights', 'city': 'Houston', 'county': 'Harris County', 'state': 'Texas', 'postcode': '77091', 'country': 'United States', 'country_code': 'us'}}]\n",
      "-------------------------------------------------\n",
      "13414+Boca+Raton+Dr+Houston+TX+77069\n",
      "[]\n",
      "-------------------------------------------------\n",
      "10604+Park+Ln+Houston+TX+77093\n",
      "[{'place_id': 291301532, 'licence': 'Data © OpenStreetMap contributors, ODbL 1.0. https://osm.org/copyright', 'osm_type': 'way', 'osm_id': 15451741, 'boundingbox': ['29.867347244898', '29.867447244898', '-95.347155285714', '-95.347055285714'], 'lat': '29.86739724489796', 'lon': '-95.34710528571428', 'display_name': '10604, Park Lane, Houston, Harris County, Texas, 77093, United States', 'class': 'place', 'type': 'house', 'importance': 0.431, 'address': {'house_number': '10604', 'road': 'Park Lane', 'city': 'Houston', 'county': 'Harris County', 'state': 'Texas', 'postcode': '77093', 'country': 'United States', 'country_code': 'us'}}]\n",
      "-------------------------------------------------\n",
      "10819+Idlebrook+Dr+Houston+TX+77070\n",
      "[]\n",
      "-------------------------------------------------\n",
      "3030+Triway+Ln+Houston+TX+77043\n",
      "[{'place_id': 291393737, 'licence': 'Data © OpenStreetMap contributors, ODbL 1.0. https://osm.org/copyright', 'osm_type': 'way', 'osm_id': 15455919, 'boundingbox': ['29.827468594605', '29.827568594605', '-95.549355503784', '-95.549255503784'], 'lat': '29.82751859460475', 'lon': '-95.54930550378418', 'display_name': '3030, Triway Lane, Spring Shadows, Houston, Harris County, Texas, 77043, United States', 'class': 'place', 'type': 'house', 'importance': 0.431, 'address': {'house_number': '3030', 'road': 'Triway Lane', 'residential': 'Spring Shadows', 'city': 'Houston', 'county': 'Harris County', 'state': 'Texas', 'postcode': '77043', 'country': 'United States', 'country_code': 'us'}}]\n",
      "-------------------------------------------------\n",
      "3600+Bayou+Dr+Houston+TX+77022\n",
      "[{'place_id': 291164688, 'licence': 'Data © OpenStreetMap contributors, ODbL 1.0. https://osm.org/copyright', 'osm_type': 'way', 'osm_id': 15397851, 'boundingbox': ['29.818725', '29.818825', '-95.379057', '-95.378957'], 'lat': '29.818775', 'lon': '-95.379007', 'display_name': '3600, Bayou Drive, Independence Heights, Houston, Harris County, Texas, 77022, United States', 'class': 'place', 'type': 'house', 'importance': 0.5309999999999999, 'address': {'house_number': '3600', 'road': 'Bayou Drive', 'neighbourhood': 'Independence Heights', 'city': 'Houston', 'county': 'Harris County', 'state': 'Texas', 'postcode': '77022', 'country': 'United States', 'country_code': 'us'}}]\n",
      "-------------------------------------------------\n",
      "4711+Hershe+St+Houston+TX+77020\n",
      "[{'place_id': 291291728, 'licence': 'Data © OpenStreetMap contributors, ODbL 1.0. https://osm.org/copyright', 'osm_type': 'way', 'osm_id': 15449621, 'boundingbox': ['29.777700020408', '29.777800020408', '-95.322711306122', '-95.322611306122'], 'lat': '29.777750020408163', 'lon': '-95.32266130612246', 'display_name': '4711, Hershe Street, Houston, Harris County, Texas, 77020, United States', 'class': 'place', 'type': 'house', 'importance': 0.5309999999999999, 'address': {'house_number': '4711', 'road': 'Hershe Street', 'city': 'Houston', 'county': 'Harris County', 'state': 'Texas', 'postcode': '77020', 'country': 'United States', 'country_code': 'us'}}]\n",
      "-------------------------------------------------\n",
      "5927+McKnight+St+Houston+TX+77035\n",
      "[]\n",
      "-------------------------------------------------\n",
      "9306+Hendon+Ln+Houston+TX+77036\n",
      "[{'place_id': 291292998, 'licence': 'Data © OpenStreetMap contributors, ODbL 1.0. https://osm.org/copyright', 'osm_type': 'way', 'osm_id': 15434798, 'boundingbox': ['29.69557955102', '29.69567955102', '-95.547990836735', '-95.547890836735'], 'lat': '29.695629551020406', 'lon': '-95.5479408367347', 'display_name': '9306, Hendon Lane, Houston, Harris County, Texas, 77036, United States', 'class': 'place', 'type': 'house', 'importance': 0.431, 'address': {'house_number': '9306', 'road': 'Hendon Lane', 'city': 'Houston', 'county': 'Harris County', 'state': 'Texas', 'postcode': '77036', 'country': 'United States', 'country_code': 'us'}}]\n",
      "-------------------------------------------------\n",
      "3006+Orchard+Dr+Houston+TX+77054\n",
      "[{'place_id': 161782280, 'licence': 'Data © OpenStreetMap contributors, ODbL 1.0. https://osm.org/copyright', 'osm_type': 'way', 'osm_id': 292305665, 'boundingbox': ['29.6749364', '29.6749435', '-95.4248813', '-95.4247646'], 'lat': '29.6749364', 'lon': '-95.4247646', 'display_name': 'Orchard Drive, Houston, Harris County, Texas, 77025, United States', 'class': 'highway', 'type': 'residential', 'importance': 0.41000000000000003, 'address': {'road': 'Orchard Drive', 'city': 'Houston', 'county': 'Harris County', 'state': 'Texas', 'postcode': '77025', 'country': 'United States', 'country_code': 'us'}, 'geojson': {'type': 'LineString', 'coordinates': [[-95.4248813, 29.6749435], [-95.4247646, 29.6749364]]}}]\n",
      "-------------------------------------------------\n",
      "2902+Tulip+River+Ct+Houston+TX+77345\n",
      "[{'place_id': 291206495, 'licence': 'Data © OpenStreetMap contributors, ODbL 1.0. https://osm.org/copyright', 'osm_type': 'way', 'osm_id': 15393621, 'boundingbox': ['30.077332346939', '30.077432346939', '-95.174483816327', '-95.174383816327'], 'lat': '30.077382346938776', 'lon': '-95.17443381632653', 'display_name': '2902, Tulip River Court, Woodstream, Houston, Harris County, Texas, 77345, United States', 'class': 'place', 'type': 'house', 'importance': 0.5309999999999999, 'address': {'house_number': '2902', 'road': 'Tulip River Court', 'village': 'Woodstream', 'city': 'Houston', 'county': 'Harris County', 'state': 'Texas', 'postcode': '77345', 'country': 'United States', 'country_code': 'us'}}]\n",
      "-------------------------------------------------\n",
      "1607+Blossom+Creek+Ct+Kingwood+TX+77339\n",
      "[{'place_id': 291162312, 'licence': 'Data © OpenStreetMap contributors, ODbL 1.0. https://osm.org/copyright', 'osm_type': 'way', 'osm_id': 15455067, 'boundingbox': ['30.044517927711', '30.044617927711', '-95.231415481928', '-95.231315481928'], 'lat': '30.044567927710844', 'lon': '-95.23136548192771', 'display_name': '1607, Blossom Creek Court, Kingwood Place, Trailwood Village, Houston, Harris County, Texas, 77339, United States', 'class': 'place', 'type': 'house', 'importance': 0.5209999999999999, 'address': {'house_number': '1607', 'road': 'Blossom Creek Court', 'residential': 'Kingwood Place', 'village': 'Trailwood Village', 'city': 'Houston', 'county': 'Harris County', 'state': 'Texas', 'postcode': '77339', 'country': 'United States', 'country_code': 'us'}}]\n",
      "-------------------------------------------------\n",
      "12315+Macbrice+Ln+Humble+TX+77346\n",
      "[]\n",
      "-------------------------------------------------\n",
      "4450+Tidwell+Rd+Unit+E+Houston+TX+77093\n",
      "[]\n",
      "-------------------------------------------------\n",
      "1421+Bringhurst+St+Houston+TX+77020\n",
      "[{'place_id': 291291346, 'licence': 'Data © OpenStreetMap contributors, ODbL 1.0. https://osm.org/copyright', 'osm_type': 'way', 'osm_id': 15368257, 'boundingbox': ['29.774352928571', '29.774452928571', '-95.334038', '-95.333938'], 'lat': '29.774402928571426', 'lon': '-95.33398799999999', 'display_name': '1421, Bringhurst Street, Houston, Harris County, Texas, 77020, United States', 'class': 'place', 'type': 'house', 'importance': 0.5309999999999999, 'address': {'house_number': '1421', 'road': 'Bringhurst Street', 'city': 'Houston', 'county': 'Harris County', 'state': 'Texas', 'postcode': '77020', 'country': 'United States', 'country_code': 'us'}}]\n",
      "-------------------------------------------------\n",
      "12223+Richardson+Fort+Way+Humble+TX+77346\n",
      "[]\n",
      "-------------------------------------------------\n",
      "5503+Cheshire+Ln+Houston+TX+77092\n"
     ]
    },
    {
     "name": "stdout",
     "output_type": "stream",
     "text": [
      "[{'place_id': 291375960, 'licence': 'Data © OpenStreetMap contributors, ODbL 1.0. https://osm.org/copyright', 'osm_type': 'way', 'osm_id': 15431605, 'boundingbox': ['29.829487963215', '29.829587963215', '-95.473068959065', '-95.472968959065'], 'lat': '29.829537963215355', 'lon': '-95.47301895906455', 'display_name': '5503, Cheshire Lane, Oak Forest, Rosslyn, Houston, Harris County, Texas, 77092, United States', 'class': 'place', 'type': 'house', 'importance': 0.431, 'address': {'house_number': '5503', 'road': 'Cheshire Lane', 'neighbourhood': 'Oak Forest', 'hamlet': 'Rosslyn', 'city': 'Houston', 'county': 'Harris County', 'state': 'Texas', 'postcode': '77092', 'country': 'United States', 'country_code': 'us'}}]\n",
      "-------------------------------------------------\n",
      "26+N+Champion+Villa+Dr+Houston+TX+77069\n",
      "[]\n",
      "-------------------------------------------------\n",
      "1812+Iris+Knoll+Ln+Pearland+TX+77089\n",
      "[]\n",
      "-------------------------------------------------\n",
      "2649+Bellwick+Canyon+Ct+Pearland+TX+77089\n",
      "[]\n",
      "-------------------------------------------------\n",
      "406+Oriole+St+Houston+TX+77018\n",
      "[{'place_id': 226309324, 'licence': 'Data © OpenStreetMap contributors, ODbL 1.0. https://osm.org/copyright', 'osm_type': 'way', 'osm_id': 680377292, 'boundingbox': ['29.8238732', '29.82388', '-95.4018569', '-95.400457'], 'lat': '29.82388', 'lon': '-95.400764', 'display_name': 'Oriole Street, Independence Heights, Houston, Harris County, Texas, 77018, United States', 'class': 'highway', 'type': 'residential', 'importance': 0.5199999999999999, 'address': {'road': 'Oriole Street', 'neighbourhood': 'Independence Heights', 'city': 'Houston', 'county': 'Harris County', 'state': 'Texas', 'postcode': '77018', 'country': 'United States', 'country_code': 'us'}, 'geojson': {'type': 'LineString', 'coordinates': [[-95.400457, 29.823877], [-95.4005327, 29.8238777], [-95.400764, 29.82388], [-95.4017771, 29.8238771], [-95.401812, 29.823877], [-95.4018569, 29.8238732]]}}, {'place_id': 91062643, 'licence': 'Data © OpenStreetMap contributors, ODbL 1.0. https://osm.org/copyright', 'osm_type': 'way', 'osm_id': 15366655, 'boundingbox': ['29.823514', '29.8235307', '-95.405042', '-95.4035254'], 'lat': '29.8235269', 'lon': '-95.4038719', 'display_name': 'Oriole Street, Independence Heights, Houston, Harris County, Texas, 77018, United States', 'class': 'highway', 'type': 'unclassified', 'importance': 0.5199999999999999, 'address': {'road': 'Oriole Street', 'neighbourhood': 'Independence Heights', 'city': 'Houston', 'county': 'Harris County', 'state': 'Texas', 'postcode': '77018', 'country': 'United States', 'country_code': 'us'}, 'geojson': {'type': 'LineString', 'coordinates': [[-95.4035254, 29.8235307], [-95.4038719, 29.8235269], [-95.4048999, 29.8235156], [-95.405042, 29.823514]]}}]\n",
      "-------------------------------------------------\n",
      "11010+Crescent+Lgt+Houston+TX+77043\n",
      "[]\n",
      "-------------------------------------------------\n",
      "209+Cockerel+St+Houston+TX+77018\n",
      "[{'place_id': 291316164, 'licence': 'Data © OpenStreetMap contributors, ODbL 1.0. https://osm.org/copyright', 'osm_type': 'way', 'osm_id': 15365138, 'boundingbox': ['29.822589333333', '29.822689333333', '-95.400375666667', '-95.400275666667'], 'lat': '29.822639333333335', 'lon': '-95.40032566666666', 'display_name': '209, Cockerel Street, Independence Heights, Houston, Harris County, Texas, 77018, United States', 'class': 'place', 'type': 'house', 'importance': 0.5309999999999999, 'address': {'house_number': '209', 'road': 'Cockerel Street', 'neighbourhood': 'Independence Heights', 'city': 'Houston', 'county': 'Harris County', 'state': 'Texas', 'postcode': '77018', 'country': 'United States', 'country_code': 'us'}}]\n",
      "-------------------------------------------------\n",
      "3123+Briarwood+Point+Place+Houston+TX+77063\n",
      "[]\n",
      "-------------------------------------------------\n",
      "4712+Libbey+Ln+Houston+TX+77092\n",
      "[{'place_id': 89839708, 'licence': 'Data © OpenStreetMap contributors, ODbL 1.0. https://osm.org/copyright', 'osm_type': 'way', 'osm_id': 15357936, 'boundingbox': ['29.830832', '29.830987', '-95.4727524', '-95.462298'], 'lat': '29.830835', 'lon': '-95.466487', 'display_name': 'Libbey Lane, Oak Forest, Rosslyn, Houston, Harris County, Texas, 77092, United States', 'class': 'highway', 'type': 'residential', 'importance': 0.42000000000000004, 'address': {'road': 'Libbey Lane', 'neighbourhood': 'Oak Forest', 'hamlet': 'Rosslyn', 'city': 'Houston', 'county': 'Harris County', 'state': 'Texas', 'postcode': '77092', 'country': 'United States', 'country_code': 'us'}, 'geojson': {'type': 'LineString', 'coordinates': [[-95.462298, 29.830836], [-95.466487, 29.830835], [-95.469675, 29.830836], [-95.470002, 29.830832], [-95.470631, 29.830832], [-95.47085, 29.83085], [-95.471186, 29.830891], [-95.471852, 29.830965], [-95.472232, 29.830987], [-95.4727524, 29.8309713]]}}, {'place_id': 256898950, 'licence': 'Data © OpenStreetMap contributors, ODbL 1.0. https://osm.org/copyright', 'osm_type': 'way', 'osm_id': 866616078, 'boundingbox': ['29.830813', '29.8309076', '-95.461143', '-95.457079'], 'lat': '29.830896', 'lon': '-95.457996', 'display_name': 'Libbey Lane, Oak Forest, Houston, Harris County, Texas, 77092, United States', 'class': 'highway', 'type': 'residential', 'importance': 0.42000000000000004, 'address': {'road': 'Libbey Lane', 'neighbourhood': 'Oak Forest', 'city': 'Houston', 'county': 'Harris County', 'state': 'Texas', 'postcode': '77092', 'country': 'United States', 'country_code': 'us'}, 'geojson': {'type': 'LineString', 'coordinates': [[-95.457079, 29.8309076], [-95.457996, 29.830896], [-95.461143, 29.830813]]}}, {'place_id': 91816369, 'licence': 'Data © OpenStreetMap contributors, ODbL 1.0. https://osm.org/copyright', 'osm_type': 'way', 'osm_id': 15357931, 'boundingbox': ['29.8308439', '29.8309109', '-95.4568156', '-95.4566886'], 'lat': '29.8308439', 'lon': '-95.4566886', 'display_name': 'Libbey Lane, Houston, Harris County, Texas, 77092, United States', 'class': 'highway', 'type': 'residential', 'importance': 0.42000000000000004, 'address': {'road': 'Libbey Lane', 'city': 'Houston', 'county': 'Harris County', 'state': 'Texas', 'postcode': '77092', 'country': 'United States', 'country_code': 'us'}, 'geojson': {'type': 'LineString', 'coordinates': [[-95.4566886, 29.8308439], [-95.4568156, 29.8309109]]}}]\n",
      "-------------------------------------------------\n",
      "5115+Del+Sur+St+Unit+H+Houston+TX+77018\n",
      "[]\n",
      "-------------------------------------------------\n",
      "203+Glenridge+Frst+Houston+TX+77094\n",
      "[]\n",
      "-------------------------------------------------\n",
      "643+Press+St+Houston+TX+77020\n",
      "[{'place_id': 91845593, 'licence': 'Data © OpenStreetMap contributors, ODbL 1.0. https://osm.org/copyright', 'osm_type': 'way', 'osm_id': 15396739, 'boundingbox': ['29.772689', '29.774382', '-95.328856', '-95.328816'], 'lat': '29.774382', 'lon': '-95.328856', 'display_name': 'Press Street, Houston, Harris County, Texas, 77020, United States', 'class': 'highway', 'type': 'residential', 'importance': 0.5199999999999999, 'address': {'road': 'Press Street', 'city': 'Houston', 'county': 'Harris County', 'state': 'Texas', 'postcode': '77020', 'country': 'United States', 'country_code': 'us'}, 'geojson': {'type': 'LineString', 'coordinates': [[-95.328816, 29.772689], [-95.328856, 29.774382]]}}]\n"
     ]
    }
   ],
   "source": [
    "# https://nominatim.org/\n",
    "url_address = 'https://nominatim.openstreetmap.org/search?q='\n",
    "searchformat = '&format=json&polygon_geojson=1&addressdetails=1'\n",
    "for index,row in listing_df.iterrows():\n",
    "    print('-------------------------------------------------')\n",
    "    # Format address to search for coordinates\n",
    "    address = listing_df.iloc[index].Address.split(' ')\n",
    "    x = \"+\".join(address)\n",
    "    address_search = x.replace(',','')\n",
    "    coordinate_search = f\"{url_address}{address_search}{searchformat}\"\n",
    "    print(address_search)\n",
    "    \n",
    "    #  Perform a request for data\n",
    "    response_coordinates = requests.get(coordinate_search).json()\n",
    "    print(response_coordinates)"
   ]
  },
  {
   "cell_type": "code",
   "execution_count": 79,
   "metadata": {},
   "outputs": [],
   "source": [
    "def get_coordinates(address):    \n",
    "    # https://nominatim.org/\n",
    "    url_address = 'https://nominatim.openstreetmap.org/search?q='\n",
    "    searchformat = '&format=json&polygon_geojson=1&addressdetails=1'\n",
    "    \n",
    "    # Format address to search for coordinates\n",
    "    address_string = address.Address.split(' ')\n",
    "    x = \"+\".join(address_string)\n",
    "    address_search = x.replace(',','')\n",
    "    coordinate_search = f\"{url_address}{address_search}{searchformat}\"\n",
    "    \n",
    "    #  Perform a request for data\n",
    "    response_coordinates = requests.get(coordinate_search).json()\n",
    "    \n",
    "    # return coordinates\n",
    "    lat = round(float(response_coordinates[0]['lat'])*100)/100\n",
    "    lon = round(float(response_coordinates[0]['lon'])*100)/100\n",
    "    \n",
    "    map_url = f\"https://www.openstreetmap.org/#map=15/{lat}/{lon}\"\n",
    "    print(f\"Map: {map_url}\")\n",
    "\n",
    "    return {\"latitude\": lat, \"longitude\": lon, \"map\": map_url}"
   ]
  },
  {
   "cell_type": "code",
   "execution_count": 80,
   "metadata": {},
   "outputs": [],
   "source": [
    "address_cord = get_coordinates(listing_df.iloc[index])"
   ]
  },
  {
   "cell_type": "code",
   "execution_count": 81,
   "metadata": {},
   "outputs": [
    {
     "data": {
      "text/plain": [
       "29.77"
      ]
     },
     "execution_count": 81,
     "metadata": {},
     "output_type": "execute_result"
    }
   ],
   "source": [
    "address_cord['latitude']\n",
    "# address_cord['longitude']"
   ]
  },
  {
   "cell_type": "code",
   "execution_count": 85,
   "metadata": {},
   "outputs": [],
   "source": [
    "coordinates = get_coordinates(listing_df.iloc[index])\n",
    "coordinates['latitude']"
   ]
  },
  {
   "cell_type": "code",
   "execution_count": 86,
   "metadata": {},
   "outputs": [
    {
     "data": {
      "text/plain": [
       "29.77"
      ]
     },
     "execution_count": 86,
     "metadata": {},
     "output_type": "execute_result"
    }
   ],
   "source": [
    "coordinates['latitude']"
   ]
  },
  {
   "cell_type": "markdown",
   "metadata": {},
   "source": [
    "#### Complete Script To Get Coordinates (positionstack)"
   ]
  },
  {
   "cell_type": "markdown",
   "metadata": {},
   "source": [
    "https://positionstack.com/quickstart"
   ]
  },
  {
   "cell_type": "code",
   "execution_count": 32,
   "metadata": {},
   "outputs": [
    {
     "name": "stdout",
     "output_type": "stream",
     "text": [
      "Query URL:\n",
      "http://api.positionstack.com/v1/forward?access_key=334c62c7568d1f1becd64b7dca301c0c&query=1600%20Pennsylvania%20Ave%20NW,%20Washington%20DC& limit=1\n",
      "\n",
      "Results:\n",
      "{'data': [{'latitude': 38.897675, 'longitude': -77.036547, 'type': 'address', 'name': '1600 Pennsylvania Avenue NW', 'number': '1600', 'postal_code': '20500', 'street': 'Pennsylvania Avenue NW', 'confidence': 1, 'region': 'District of Columbia', 'region_code': 'DC', 'county': None, 'locality': 'Washington', 'administrative_area': None, 'neighbourhood': 'White House Grounds', 'country': 'United States', 'country_code': 'USA', 'continent': 'North America', 'label': '1600 Pennsylvania Avenue NW, Washington, DC, USA'}]}\n",
      "\n",
      "Latitude: 38.897675\n",
      "Longitude: -77.036547\n",
      "Map: https://www.openstreetmap.org/?mlat=38.897675&mlon=-77.036547#map=15/38.897675/-77.036547\n"
     ]
    },
    {
     "data": {
      "text/plain": [
       "{'latitude': 38.897675,\n",
       " 'longitude': -77.036547,\n",
       " 'map': 'https://www.openstreetmap.org/?mlat=38.897675&mlon=-77.036547#map=15/38.897675/-77.036547'}"
      ]
     },
     "execution_count": 32,
     "metadata": {},
     "output_type": "execute_result"
    }
   ],
   "source": [
    "def positiontrack_coordinates(address):\n",
    "    # Forward Geocoding API Endpoint\n",
    "    url_positiontrack = f\"http://api.positionstack.com/v1/forward?access_key={positionstack_key}&query=\"\n",
    "    \n",
    "    address_lookup = address.replace(\" \", \"%20\")\n",
    "    url_coordinates = f\"{url_positiontrack}{address_lookup}& limit=1\"\n",
    "\n",
    "    print(f\"Query URL:\")\n",
    "    print(url_coordinates)\n",
    "    print('')\n",
    "\n",
    "    #  Perform a request for data\n",
    "    response_coordinates = requests.get(url_coordinates).json()\n",
    "    print(f\"Results:\")\n",
    "    print(response_coordinates)\n",
    "    print('')\n",
    "\n",
    "    lat = response_coordinates['data'][0]['latitude']\n",
    "    lon = response_coordinates['data'][0]['longitude']\n",
    "\n",
    "    print(f\"Latitude: {lat}\")\n",
    "    print(f\"Longitude: {lon}\")\n",
    "    \n",
    "    map_url = f\"https://www.openstreetmap.org/?mlat={lat}&mlon={lon}#map=15/{lat}/{lon}\"\n",
    "    \n",
    "    print(f\"Map: {map_url}\")\n",
    "\n",
    "    return {\"latitude\": lat, \"longitude\": lon, \"map\": map_url}\n",
    "    \n",
    "address = \"1600 Pennsylvania Ave NW, Washington DC\"\n",
    "positiontrack_coordinates(address)"
   ]
  },
  {
   "cell_type": "code",
   "execution_count": 24,
   "metadata": {},
   "outputs": [
    {
     "name": "stdout",
     "output_type": "stream",
     "text": [
      "Query URL:\n",
      "http://api.positionstack.com/v1/forward?access_key=334c62c7568d1f1becd64b7dca301c0c&query=650%20Westcross%20St%20Unit%2038,%20Houston,%20TX%2077018\n",
      "\n",
      "Results:\n",
      "{'data': [{'latitude': 29.829312, 'longitude': -95.409167, 'type': 'address', 'name': '650 Westcross St', 'number': '650', 'postal_code': '77018', 'street': 'Westcross St', 'confidence': 1, 'region': 'Texas', 'region_code': 'TX', 'county': None, 'locality': None, 'administrative_area': None, 'neighbourhood': 'Independence Heights', 'country': 'United States', 'country_code': 'USA', 'continent': 'North America', 'label': '650 Westcross St, TX, USA'}]}\n",
      "\n",
      "Latitude: 29.829312\n",
      "Longitude: -95.409167\n"
     ]
    }
   ],
   "source": [
    "# Example of query for coordinates\n",
    "address = \"650 Westcross St Unit 38, Houston, TX 77018\"\n",
    "positiontrack_coordinates(address)"
   ]
  },
  {
   "cell_type": "code",
   "execution_count": 29,
   "metadata": {},
   "outputs": [
    {
     "name": "stdout",
     "output_type": "stream",
     "text": [
      "Query URL:\n",
      "http://api.positionstack.com/v1/forward?access_key=334c62c7568d1f1becd64b7dca301c0c&query=17511%20Lonesome%20Dove%20Trl,%20Houston,%20TX%2077095\n",
      "\n",
      "Results:\n",
      "{'data': [{'latitude': 29.934773, 'longitude': -95.678385, 'type': 'address', 'name': '17511 Lonesome Dove Trl', 'number': '17511', 'postal_code': '77095', 'street': 'Lonesome Dove Trl', 'confidence': 1, 'region': 'Texas', 'region_code': 'TX', 'county': None, 'locality': None, 'administrative_area': None, 'neighbourhood': None, 'country': 'United States', 'country_code': 'USA', 'continent': 'North America', 'label': '17511 Lonesome Dove Trl, TX, USA'}]}\n",
      "\n",
      "Latitude: 29.934773\n",
      "Longitude: -95.678385\n",
      "https://www.openstreetmap.org/#map=15/29.934773/-95.678385\n"
     ]
    },
    {
     "data": {
      "text/plain": [
       "{'latitude': 29.934773, 'longitude': -95.678385}"
      ]
     },
     "execution_count": 29,
     "metadata": {},
     "output_type": "execute_result"
    }
   ],
   "source": [
    "# Example of query for coordinates\n",
    "address = \"17511 Lonesome Dove Trl, Houston, TX 77095\"\n",
    "positiontrack_coordinates(address)"
   ]
  },
  {
   "cell_type": "code",
   "execution_count": 28,
   "metadata": {},
   "outputs": [
    {
     "name": "stdout",
     "output_type": "stream",
     "text": [
      "Query URL:\n",
      "http://api.positionstack.com/v1/forward?access_key=334c62c7568d1f1becd64b7dca301c0c&query=10418%20Springland%20Ct,%20Houston,TX%2077065\n",
      "\n",
      "Results:\n",
      "{'data': [{'latitude': 29.924385, 'longitude': -95.591604, 'type': 'address', 'name': '10418 Springland Ct', 'number': '10418', 'postal_code': '77065', 'street': 'Springland Ct', 'confidence': 1, 'region': 'Texas', 'region_code': 'TX', 'county': None, 'locality': None, 'administrative_area': None, 'neighbourhood': 'Willowbrook', 'country': 'United States', 'country_code': 'USA', 'continent': 'North America', 'label': '10418 Springland Ct, TX, USA'}]}\n",
      "\n",
      "Latitude: 29.924385\n",
      "Longitude: -95.591604\n",
      "https://www.openstreetmap.org/#map=15/29.924385/-95.591604\n"
     ]
    },
    {
     "data": {
      "text/plain": [
       "{'latitude': 29.924385, 'longitude': -95.591604}"
      ]
     },
     "execution_count": 28,
     "metadata": {},
     "output_type": "execute_result"
    }
   ],
   "source": [
    "# Example of query for coordinates\n",
    "address = \"10418 Springland Ct, Houston,TX 77065\"\n",
    "positiontrack_coordinates(address)"
   ]
  },
  {
   "cell_type": "code",
   "execution_count": null,
   "metadata": {},
   "outputs": [],
   "source": []
  }
 ],
 "metadata": {
  "kernelspec": {
   "display_name": "Python 3",
   "language": "python",
   "name": "python3"
  },
  "language_info": {
   "codemirror_mode": {
    "name": "ipython",
    "version": 3
   },
   "file_extension": ".py",
   "mimetype": "text/x-python",
   "name": "python",
   "nbconvert_exporter": "python",
   "pygments_lexer": "ipython3",
   "version": "3.7.6"
  }
 },
 "nbformat": 4,
 "nbformat_minor": 4
}
