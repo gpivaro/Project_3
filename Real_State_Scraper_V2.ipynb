{
 "cells": [
  {
   "cell_type": "markdown",
   "metadata": {},
   "source": [
    "# Real State Scrapy"
   ]
  },
  {
   "cell_type": "markdown",
   "metadata": {},
   "source": [
    "Scrapy the real state website and retrieve house listing of a target price and retrieve the info and save to database."
   ]
  },
  {
   "cell_type": "markdown",
   "metadata": {},
   "source": [
    "### Import Dependencies"
   ]
  },
  {
   "cell_type": "code",
   "execution_count": 1,
   "metadata": {},
   "outputs": [],
   "source": [
    "import os\n",
    "from bs4 import BeautifulSoup\n",
    "import requests\n",
    "from splinter import Browser\n",
    "import pandas as pd\n",
    "import time\n",
    "import numpy as np\n",
    "import pprint\n",
    "import datetime\n",
    "\n",
    "# Import DB user and password\n",
    "from api_keys import positionstack_key\n",
    "from api_keys import opencagedata_API\n",
    "from api_keys import DATABASE_URL"
   ]
  },
  {
   "cell_type": "markdown",
   "metadata": {},
   "source": [
    "### Setup Splinter (For Mac)"
   ]
  },
  {
   "cell_type": "markdown",
   "metadata": {},
   "source": [
    "Check Splinter documentation for info on how to find elements:\n",
    "https://splinter.readthedocs.io/en/latest/finding.html"
   ]
  },
  {
   "cell_type": "code",
   "execution_count": 2,
   "metadata": {},
   "outputs": [],
   "source": [
    "# identify location of chromedriver and store it as a variable\n",
    "driverPath = !which chromedriver\n",
    "\n",
    "# Setup configuration variables to enable Splinter to interact with browser\n",
    "executable_path = {'executable_path': driverPath[0]}\n",
    "browser = Browser('chrome', **executable_path, headless=False)"
   ]
  },
  {
   "cell_type": "markdown",
   "metadata": {},
   "source": [
    "### Scraping"
   ]
  },
  {
   "cell_type": "code",
   "execution_count": 3,
   "metadata": {},
   "outputs": [
    {
     "name": "stdout",
     "output_type": "stream",
     "text": [
      "https://www.realtor.com/realestateandhomes-search/Houston_TX/type-single-family-home/price-200000-300000/sby-6/pg-4\n"
     ]
    }
   ],
   "source": [
    "# URL of page to be scraped\n",
    "url_realtor = \"https://www.realtor.com/realestateandhomes-search/Houston_TX/type-single-family-home/price-\"\n",
    "link_details = \"https://www.realtor.com\"\n",
    "min_price = '200000'\n",
    "max_price = '300000'\n",
    "sort_by = '/sby-2' # Highest to lowest price\n",
    "sort_by = '/sby-6' # Newest listings\n",
    "page_number = 4\n",
    "\n",
    "query_url = f\"{url_realtor}{min_price}-{max_price}{sort_by}/pg-{page_number}\"\n",
    "print(query_url)"
   ]
  },
  {
   "cell_type": "markdown",
   "metadata": {},
   "source": [
    "### BeautifulSoup"
   ]
  },
  {
   "cell_type": "code",
   "execution_count": 4,
   "metadata": {},
   "outputs": [],
   "source": [
    "# Scrap with BeautifulSoup. However it does \n",
    "# page = requests.get(query_url)\n",
    "# soup = BeautifulSoup(page.content, 'html.parser')"
   ]
  },
  {
   "cell_type": "markdown",
   "metadata": {},
   "source": [
    "### Splinter"
   ]
  },
  {
   "cell_type": "code",
   "execution_count": 5,
   "metadata": {},
   "outputs": [],
   "source": [
    "# Use the browser to visit the url\n",
    "browser.visit(query_url)"
   ]
  },
  {
   "cell_type": "code",
   "execution_count": 6,
   "metadata": {},
   "outputs": [],
   "source": [
    "# Wait for x seconds for error purpouses\n",
    "time.sleep(5)"
   ]
  },
  {
   "cell_type": "code",
   "execution_count": 7,
   "metadata": {},
   "outputs": [],
   "source": [
    "# Return the rendered page by the browser\n",
    "html_realtor = browser.html"
   ]
  },
  {
   "cell_type": "code",
   "execution_count": 8,
   "metadata": {},
   "outputs": [],
   "source": [
    "# Use beatifulsoup to scrap the page rendered by the browser\n",
    "soup = BeautifulSoup(html_realtor, 'html.parser')"
   ]
  },
  {
   "cell_type": "code",
   "execution_count": 9,
   "metadata": {},
   "outputs": [],
   "source": [
    "\"\"\"\n",
    "Find all lis in order to find each house item.\n",
    "Then look for the class = \"photo-wrap\" to retrieve the unique id\n",
    "for each listing. Hover the mouse over the house to load the picture and\n",
    "finally get the picture link to save in the database\n",
    "\"\"\"\n",
    "house_ads = soup.find_all('li')\n",
    "for kk in range(len(house_ads)):\n",
    "    if house_ads[kk].find_all('div', class_= \"photo-wrap\"):\n",
    "        div_tag = house_ads[kk].find('div', class_= \"photo-wrap\")\n",
    "        browser.find_by_id(div_tag['id']).mouse_over()\n",
    "        time.sleep(1)"
   ]
  },
  {
   "cell_type": "code",
   "execution_count": 10,
   "metadata": {},
   "outputs": [],
   "source": [
    "# Return the rendered page by the browser after loading all photos\n",
    "html_realtor = browser.html"
   ]
  },
  {
   "cell_type": "code",
   "execution_count": 11,
   "metadata": {},
   "outputs": [],
   "source": [
    "# Use beatifulsoup to scrap the page rendered by the browser\n",
    "soup = BeautifulSoup(html_realtor, 'html.parser')"
   ]
  },
  {
   "cell_type": "code",
   "execution_count": 12,
   "metadata": {},
   "outputs": [
    {
     "name": "stdout",
     "output_type": "stream",
     "text": [
      "Total results: 48\n"
     ]
    }
   ],
   "source": [
    "# Search for the div where the title is located\n",
    "results = soup.find_all('div', class_=\"card-box\")\n",
    "# print(results[0].prettify())\n",
    "print(f\"Total results: {len(results)}\")"
   ]
  },
  {
   "cell_type": "code",
   "execution_count": 13,
   "metadata": {},
   "outputs": [
    {
     "data": {
      "text/plain": [
       "{'Beds': 3.0, 'Bath': 2.5, 'Sqft': 1902.0, 'Lot': nan}"
      ]
     },
     "execution_count": 13,
     "metadata": {},
     "output_type": "execute_result"
    }
   ],
   "source": [
    "# Find beds, baths, sqft and lot\n",
    "def find_features(house_feat_temp):\n",
    "    list_features = []\n",
    "    for jj in range(len(house_feat_temp)):\n",
    "        list_features.append(house_feat_temp[jj].text)\n",
    "\n",
    "    try:\n",
    "        index_pos = list_features.index(\"bed\")\n",
    "    except ValueError:\n",
    "        bed = 1.0\n",
    "    else:\n",
    "        bed = float(list_features[index_pos-1])\n",
    "\n",
    "    try:\n",
    "        index_pos = list_features.index(\"bath\")\n",
    "    except ValueError:\n",
    "        bath = 1.0\n",
    "    else:\n",
    "        bath = float(list_features[index_pos-1].replace(\"+\",\"\"))\n",
    "\n",
    "    try:\n",
    "        index_pos = list_features.index(\"sqft\")\n",
    "    except ValueError:\n",
    "        sqft = np.nan\n",
    "    else:\n",
    "        sqft = float(list_features[index_pos-1].replace(\",\",\"\"))\n",
    "\n",
    "    try:\n",
    "        index_pos = list_features.index(\"sqft lot\")\n",
    "    except ValueError:\n",
    "        try:\n",
    "            index_pos = list_features.index(\"acre lot\")\n",
    "        except ValueError:\n",
    "            lot = np.nan\n",
    "        else:\n",
    "            lot = round(float(list_features[index_pos-1])*43560)    \n",
    "    else:\n",
    "        lot = float(list_features[index_pos-1].replace(',',''))\n",
    "\n",
    "#     print(f\"Beds: {bed}, Bath: {bath}, Sqft: {sqft}, Lot: {lot}\")\n",
    "    \n",
    "    return {\"Beds\": bed, \"Bath\": bath, \"Sqft\": sqft, \"Lot\": lot}\n",
    "\n",
    "find_features(results[6].find('ul').find_all('span'))"
   ]
  },
  {
   "cell_type": "code",
   "execution_count": 14,
   "metadata": {
    "scrolled": true
   },
   "outputs": [
    {
     "name": "stdout",
     "output_type": "stream",
     "text": [
      "-----------------------------------\n",
      "\n",
      "Result: 1 of 48\n",
      "Price: $280000.0 | Beds: 3.0, Bath: 2.5, Sqft: 2458.0, Lot: 9120.0\n",
      "Address: 3810 Woodbridge Dr, Kingwood, TX 77339\n",
      "Link: https://www.realtor.com/realestateandhomes-detail/3810-Woodbridge-Dr_Kingwood_TX_77339_M88961-28456\n",
      "Google Maps: https://www.google.com/maps/place/3810+Woodbridge+Dr,+Kingwood,+TX+77339\n",
      "Image_0: https://ap.rdcpix.com/7c9d7cac1b315b6ed250467bf1a20f8el-m1376079040od-w480_h360_x2.jpg\n",
      "Image_1: https://ap.rdcpix.com/7c9d7cac1b315b6ed250467bf1a20f8el-m108964704od-w480_h360_x2.jpg\n",
      "\n",
      "-----------------------------------\n",
      "\n",
      "Result: 2 of 48\n",
      "Price: $215000.0 | Beds: 4.0, Bath: 2.0, Sqft: 1700.0, Lot: 6600.0\n",
      "Address: 711 Woodbine St, Houston, TX 77017\n",
      "Link: https://www.realtor.com/realestateandhomes-detail/711-Woodbine-St_Houston_TX_77017_M86030-09347\n",
      "Google Maps: https://www.google.com/maps/place/711+Woodbine+St,+Houston,+TX+77017\n",
      "Image_0: https://ap.rdcpix.com/f796993f0705dce50e2cff547253b05al-m3516385302od-w480_h360_x2.jpg\n",
      "Image_1: https://ap.rdcpix.com/f796993f0705dce50e2cff547253b05al-m1967772927od-w480_h360_x2.jpg\n",
      "\n",
      "-----------------------------------\n",
      "\n",
      "Result: 3 of 48\n",
      "Price: $209599.0 | Beds: 4.0, Bath: 2.5, Sqft: 2411.0, Lot: 4901.0\n",
      "Address: 10543 Pine Landing Dr, Houston, TX 77088\n",
      "Link: https://www.realtor.com/realestateandhomes-detail/10543-Pine-Landing-Dr_Houston_TX_77088_M89408-93197\n",
      "Google Maps: https://www.google.com/maps/place/10543+Pine+Landing+Dr,+Houston,+TX+77088\n",
      "Image_0: https://ap.rdcpix.com/a56f2fc087b7af068962d1f35ba70511l-m49808381od-w480_h360_x2.jpg\n",
      "Image_1: https://ap.rdcpix.com/a56f2fc087b7af068962d1f35ba70511l-m3825380697od-w480_h360_x2.jpg\n",
      "\n",
      "-----------------------------------\n",
      "\n",
      "Result: 4 of 48\n",
      "Data not available or Ads\n",
      "\n",
      "-----------------------------------\n",
      "\n",
      "Result: 5 of 48\n",
      "Price: $289500.0 | Beds: 3.0, Bath: 2.0, Sqft: 1632.0, Lot: 9880.0\n",
      "Address: 3207 Rockyridge Dr, Houston, TX 77063\n",
      "Link: https://www.realtor.com/realestateandhomes-detail/3207-Rockyridge-Dr_Houston_TX_77063_M73493-97563\n",
      "Google Maps: https://www.google.com/maps/place/3207+Rockyridge+Dr,+Houston,+TX+77063\n",
      "Image_0: https://ap.rdcpix.com/cafd7f615342b6f9871dd4b99ab01893l-m4093884848od-w480_h360_x2.jpg\n",
      "Image_1: https://ap.rdcpix.com/cafd7f615342b6f9871dd4b99ab01893l-m3371215801od-w480_h360_x2.jpg\n",
      "\n",
      "-----------------------------------\n",
      "\n",
      "Result: 6 of 48\n",
      "Price: $234000.0 | Beds: 4.0, Bath: 2.5, Sqft: 2206.0, Lot: 3619.0\n",
      "Address: 10211 W Palm Lake Dr, Houston, TX 77034\n",
      "Link: https://www.realtor.com/realestateandhomes-detail/10211-W-Palm-Lake-Dr_Houston_TX_77034_M81412-82394\n",
      "Google Maps: https://www.google.com/maps/place/10211+W+Palm+Lake+Dr,+Houston,+TX+77034\n",
      "Image_0: https://maps.googleapis.com/maps/api/streetview?channel=rdc-streetview&client=gme-movesalesinc&location=10211%20W%20Palm%20Lake%20Dr%2C%20Houston%2C%20TX%2077034&size=640x480&source=outdoor&signature=RS8AIY__dfZFRx9kLN5pi_BroSc=\n",
      "\n",
      "-----------------------------------\n",
      "\n",
      "Result: 7 of 48\n",
      "Price: $295000.0 | Beds: 3.0, Bath: 2.5, Sqft: 1902.0, Lot: nan\n",
      "Address: 4402 Santorini Ln, Houston, TX 77045\n",
      "Link: https://www.realtor.com/realestateandhomes-detail/4402-Santorini-Ln_Houston_TX_77045_M94421-47652\n",
      "Google Maps: https://www.google.com/maps/place/4402+Santorini+Ln,+Houston,+TX+77045\n",
      "Image_0: https://ap.rdcpix.com/8d0de2452fc599f0cf7ad17a4e760c9bl-m885261131od-w480_h360_x2.jpg\n",
      "Image_1: https://ap.rdcpix.com/8d0de2452fc599f0cf7ad17a4e760c9bl-m3207877787od-w480_h360_x2.jpg\n",
      "\n",
      "-----------------------------------\n",
      "\n",
      "Result: 8 of 48\n",
      "Price: $297990.0 | Beds: 2.0, Bath: 2.5, Sqft: 1808.0, Lot: nan\n",
      "Address: 1502 Upland Glen Way, Houston, TX 77043\n",
      "Link: https://www.realtor.com/realestateandhomes-detail/Upland-Square-The-Birch_Upland-Square_1502-Upland-Glen-Way_Houston_TX_77043_P417000483452\n",
      "Google Maps: https://www.google.com/maps/place/1502+Upland+Glen+Way,+Houston,+TX+77043\n",
      "Image_0: https://an.rdcpix.com/2295e9c489cabe76fcc42dc9769372dap-f2949949036od-w480_h360_x2.jpg\n",
      "Image_1: https://an.rdcpix.com/2295e9c489cabe76fcc42dc9769372dae-f451423974od-w480_h360_x2.jpg\n",
      "\n",
      "-----------------------------------\n",
      "\n",
      "Result: 9 of 48\n",
      "Price: $288990.0 | Beds: 3.0, Bath: 2.5, Sqft: 1905.0, Lot: nan\n",
      "Address: 7606 Granite Terrace Lane, Houston, TX 77083\n",
      "Link: https://www.realtor.com/realestateandhomes-detail/Lancaster-II_Terra-Del-Sol_7606-Granite-Terrace-Lane_Houston_TX_77083_P417000495602\n",
      "Google Maps: https://www.google.com/maps/place/7606+Granite+Terrace+Lane,+Houston,+TX+77083\n",
      "Image_0: https://an.rdcpix.com/a0d587192ff920e720f29132e94733d5e-f752859479od-w480_h360_x2.jpg\n",
      "Image_1: https://an.rdcpix.com/a0d587192ff920e720f29132e94733d5e-f4162926161od-w480_h360_x2.jpg\n",
      "\n",
      "-----------------------------------\n",
      "\n",
      "Result: 10 of 48\n",
      "Price: $255000.0 | Beds: 3.0, Bath: 2.0, Sqft: 1516.0, Lot: 7995.0\n",
      "Address: 12635 N Westella Dr, Houston, TX 77077\n",
      "Link: https://www.realtor.com/realestateandhomes-detail/12635-Westella-Dr_Houston_TX_77077_M76833-28137\n",
      "Google Maps: https://www.google.com/maps/place/12635+N+Westella+Dr,+Houston,+TX+77077\n",
      "Image_0: https://ap.rdcpix.com/2be289230e8771b493fbb8b078fd0815l-m3021959170od-w480_h360_x2.jpg\n",
      "Image_1: https://ap.rdcpix.com/2be289230e8771b493fbb8b078fd0815l-m2522553229od-w480_h360_x2.jpg\n",
      "\n",
      "-----------------------------------\n",
      "\n",
      "Result: 11 of 48\n",
      "Price: $300000.0 | Beds: 3.0, Bath: 2.0, Sqft: 2186.0, Lot: 8107.0\n",
      "Address: 13911 Brooklet View Ct, Houston, TX 77059\n",
      "Link: https://www.realtor.com/realestateandhomes-detail/13911-Brooklet-View-Ct_Houston_TX_77059_M76263-64345\n",
      "Google Maps: https://www.google.com/maps/place/13911+Brooklet+View+Ct,+Houston,+TX+77059\n",
      "Image_0: https://ap.rdcpix.com/72340e5f7b681b8c44bc5b50bf620e74l-m3642196428od-w480_h360_x2.jpg\n",
      "Image_1: https://ap.rdcpix.com/72340e5f7b681b8c44bc5b50bf620e74l-m2897133852od-w480_h360_x2.jpg\n",
      "\n",
      "-----------------------------------\n",
      "\n",
      "Result: 12 of 48\n",
      "Price: $264830.0 | Beds: 4.0, Bath: 3.0, Sqft: 2606.0, Lot: 14375\n",
      "Address: 10838 Fall Mill Dr, Houston, TX 77075\n",
      "Link: https://www.realtor.com/realestateandhomes-detail/10838-Fall-Mill-Dr_Houston_TX_77075_M95180-24703\n",
      "Google Maps: https://www.google.com/maps/place/10838+Fall+Mill+Dr,+Houston,+TX+77075\n",
      "Image_0: https://maps.googleapis.com/maps/api/streetview?channel=rdc-streetview&client=gme-movesalesinc&location=10838%20Fall%20Mill%20Dr%2C%20Houston%2C%20TX%2077075&size=640x480&source=outdoor&signature=mM89yBqRMJFTWbCqsM0iJ0IxobQ=\n",
      "\n",
      "-----------------------------------\n",
      "\n",
      "Result: 13 of 48\n",
      "Data not available or Ads\n",
      "\n",
      "-----------------------------------\n",
      "\n",
      "Result: 14 of 48\n",
      "Price: $254544.0 | Beds: 4.0, Bath: 2.5, Sqft: 2345.0, Lot: 3744.0\n",
      "Address: 17554 Desmond St, Humble, TX 77346\n",
      "Link: https://www.realtor.com/realestateandhomes-detail/17554-Desmond-St_Humble_TX_77346_M92776-73018\n",
      "Google Maps: https://www.google.com/maps/place/17554+Desmond+St,+Humble,+TX+77346\n",
      "Image_0: https://ap.rdcpix.com/673169cd87c371a3c187992936ffd81el-m3849339674od-w480_h360_x2.jpg\n",
      "Image_1: https://ap.rdcpix.com/673169cd87c371a3c187992936ffd81el-m1763668748od-w480_h360_x2.jpg\n",
      "\n",
      "-----------------------------------\n",
      "\n",
      "Result: 15 of 48\n",
      "Price: $233000.0 | Beds: 4.0, Bath: 2.0, Sqft: 1865.0, Lot: 7744.0\n",
      "Address: 8910 Emerald Heights Ln, Houston, TX 77083\n",
      "Link: https://www.realtor.com/realestateandhomes-detail/8910-Emerald-Heights-Ln_Houston_TX_77083_M73559-72909\n",
      "Google Maps: https://www.google.com/maps/place/8910+Emerald+Heights+Ln,+Houston,+TX+77083\n",
      "Image_0: https://ap.rdcpix.com/fc3c34cb37b453211cb138e180189f76l-m3845045186od-w480_h360_x2.jpg\n",
      "Image_1: https://ap.rdcpix.com/fc3c34cb37b453211cb138e180189f76l-m1361580558od-w480_h360_x2.jpg\n",
      "\n",
      "-----------------------------------\n",
      "\n",
      "Result: 16 of 48\n",
      "Price: $245000.0 | Beds: 3.0, Bath: 2.5, Sqft: 2560.0, Lot: 4792.0\n",
      "Address: 8826 Summerset Meadow Ct, Houston, TX 77075\n",
      "Link: https://www.realtor.com/realestateandhomes-detail/8826-Summerset-Meadow-Ct_Houston_TX_77075_M73602-02760\n",
      "Google Maps: https://www.google.com/maps/place/8826+Summerset+Meadow+Ct,+Houston,+TX+77075\n",
      "Image_0: https://ap.rdcpix.com/cb245f40463d6f7b6c6166b5525f013al-w641602340od-w480_h360_x2.jpg\n",
      "Image_1: https://ap.rdcpix.com/cb245f40463d6f7b6c6166b5525f013al-w2970020263od-w480_h360_x2.jpg\n",
      "\n",
      "-----------------------------------\n",
      "\n",
      "Result: 17 of 48\n",
      "Price: $259495.0 | Beds: 4.0, Bath: 2.5, Sqft: 2646.0, Lot: nan\n",
      "Address: 15650 Pennfield Point Ct, Houston, TX 77044\n",
      "Link: https://www.realtor.com/realestateandhomes-detail/15650-Pennfield-Point-Ct_Houston_TX_77044_M90258-41252\n",
      "Google Maps: https://www.google.com/maps/place/15650+Pennfield+Point+Ct,+Houston,+TX+77044\n",
      "Image_0: https://ap.rdcpix.com/22be88a080b3e90d4ba30a1b17b4ce46l-m382531957od-w480_h360_x2.jpg\n",
      "Image_1: https://ap.rdcpix.com/22be88a080b3e90d4ba30a1b17b4ce46l-m1131054678od-w480_h360_x2.jpg\n",
      "\n",
      "-----------------------------------\n",
      "\n",
      "Result: 18 of 48\n",
      "Price: $299900.0 | Beds: 4.0, Bath: 3.5, Sqft: 2959.0, Lot: 16117\n",
      "Address: 5514 Olympia Fields Ln, Houston, TX 77069\n",
      "Link: https://www.realtor.com/realestateandhomes-detail/5514-Olympia-Fields-Ln_Houston_TX_77069_M80260-43415\n",
      "Google Maps: https://www.google.com/maps/place/5514+Olympia+Fields+Ln,+Houston,+TX+77069\n",
      "Image_0: https://ap.rdcpix.com/8925e290128366e250d1f69fe33f2b2cl-m1129755542od-w480_h360_x2.jpg\n",
      "Image_1: https://ap.rdcpix.com/8925e290128366e250d1f69fe33f2b2cl-m2029070128od-w480_h360_x2.jpg\n",
      "\n",
      "-----------------------------------\n",
      "\n",
      "Result: 19 of 48\n",
      "Price: $270000.0 | Beds: 4.0, Bath: 2.5, Sqft: 2464.0, Lot: 6734.0\n",
      "Address: 18839 Buffalo River Way, Houston, TX 77084\n",
      "Link: https://www.realtor.com/realestateandhomes-detail/18839-Buffalo-River-Way_Houston_TX_77084_M85838-49578\n",
      "Google Maps: https://www.google.com/maps/place/18839+Buffalo+River+Way,+Houston,+TX+77084\n",
      "Image_0: https://ap.rdcpix.com/322f42ee7b2e810a03d07bdf0596eda7l-m4091301916od-w480_h360_x2.jpg\n",
      "Image_1: https://ap.rdcpix.com/322f42ee7b2e810a03d07bdf0596eda7l-m196171972od-w480_h360_x2.jpg\n",
      "\n",
      "-----------------------------------\n",
      "\n",
      "Result: 20 of 48\n",
      "Price: $207230.0 | Beds: 3.0, Bath: 2.0, Sqft: 1307.0, Lot: 3744.0\n",
      "Address: 17542 Desmond St, Humble, TX 77346\n",
      "Link: https://www.realtor.com/realestateandhomes-detail/17542-Desmond-St_Humble_TX_77346_M91047-41456\n",
      "Google Maps: https://www.google.com/maps/place/17542+Desmond+St,+Humble,+TX+77346\n",
      "Image_0: https://ap.rdcpix.com/b7c3725aabb2f00acf4671bd1c54c615l-m664409804od-w480_h360_x2.jpg\n",
      "Image_1: https://ap.rdcpix.com/b7c3725aabb2f00acf4671bd1c54c615l-m2613238326od-w480_h360_x2.jpg\n",
      "\n",
      "-----------------------------------\n",
      "\n",
      "Result: 21 of 48\n",
      "Price: $274900.0 | Beds: 4.0, Bath: 3.5, Sqft: 3273.0, Lot: 13939\n",
      "Address: 2318 Hyland Park, Houston, TX 77014\n",
      "Link: https://www.realtor.com/realestateandhomes-detail/2318-Hyland-Park_Houston_TX_77014_M83640-79080\n",
      "Google Maps: https://www.google.com/maps/place/2318+Hyland+Park,+Houston,+TX+77014\n",
      "Image_0: https://ap.rdcpix.com/c04bc68f047a8287a91d3f0f0b6ae2c5l-m3148918698od-w480_h360_x2.jpg\n",
      "Image_1: https://ap.rdcpix.com/c04bc68f047a8287a91d3f0f0b6ae2c5l-m1126093127od-w480_h360_x2.jpg\n",
      "\n",
      "-----------------------------------\n",
      "\n",
      "Result: 22 of 48\n",
      "Data not available or Ads\n",
      "\n",
      "-----------------------------------\n",
      "\n",
      "Result: 23 of 48\n",
      "Price: $230000.0 | Beds: 4.0, Bath: 3.0, Sqft: 2682.0, Lot: 10019\n",
      "Address: 3910 Highpines Dr, Houston, TX 77068\n",
      "Link: https://www.realtor.com/realestateandhomes-detail/3910-Highpines-Dr_Houston_TX_77068_M89110-10804\n",
      "Google Maps: https://www.google.com/maps/place/3910+Highpines+Dr,+Houston,+TX+77068\n",
      "Image_0: https://ap.rdcpix.com/2d8da74bfbb80e1e1c43c8f49e973a53l-m2982391770od-w480_h360_x2.jpg\n",
      "Image_1: https://ap.rdcpix.com/2d8da74bfbb80e1e1c43c8f49e973a53l-m2230508127od-w480_h360_x2.jpg\n",
      "\n",
      "-----------------------------------\n",
      "\n",
      "Result: 24 of 48\n",
      "Price: $215886.0 | Beds: 3.0, Bath: 2.0, Sqft: 1360.0, Lot: nan\n",
      "Address: 5002 Jonina Ln, Houston, TX 77048\n",
      "Link: https://www.realtor.com/realestateandhomes-detail/5002-Jonina-Ln_Houston_TX_77048_M90684-13795\n",
      "Google Maps: https://www.google.com/maps/place/5002+Jonina+Ln,+Houston,+TX+77048\n",
      "Image_0: https://ap.rdcpix.com/aacf05294b7413cf7098285df459834bl-m2359425386od-w480_h360_x2.jpg\n",
      "Image_1: https://ap.rdcpix.com/aacf05294b7413cf7098285df459834bl-m2705011044od-w480_h360_x2.jpg\n",
      "\n",
      "-----------------------------------\n",
      "\n",
      "Result: 25 of 48\n",
      "Price: $215000.0 | Beds: 3.0, Bath: 2.0, Sqft: 1738.0, Lot: 6825.0\n",
      "Address: 11543 Bickwood Dr, Houston, TX 77089\n",
      "Link: https://www.realtor.com/realestateandhomes-detail/11543-Bickwood-Dr_Houston_TX_77089_M74622-41986\n",
      "Google Maps: https://www.google.com/maps/place/11543+Bickwood+Dr,+Houston,+TX+77089\n",
      "Image_0: https://ap.rdcpix.com/a90fa6179f8ea5e823941106721cdfa3l-m3598051306od-w480_h360_x2.jpg\n",
      "Image_1: https://ap.rdcpix.com/a90fa6179f8ea5e823941106721cdfa3l-m2265612301od-w480_h360_x2.jpg\n",
      "\n",
      "-----------------------------------\n",
      "\n",
      "Result: 26 of 48\n",
      "Price: $265000.0 | Beds: 4.0, Bath: 2.5, Sqft: 2305.0, Lot: 5500.0\n",
      "Address: 13531 Rural Oak St, Houston, TX 77034\n",
      "Link: https://www.realtor.com/realestateandhomes-detail/13531-Rural-Oak-St_Houston_TX_77034_M77805-88517\n",
      "Google Maps: https://www.google.com/maps/place/13531+Rural+Oak+St,+Houston,+TX+77034\n",
      "Image_0: https://ap.rdcpix.com/7f8a2c1de6f1b1d89777503aadbd10f3l-m887446818od-w480_h360_x2.jpg\n",
      "Image_1: https://ap.rdcpix.com/7f8a2c1de6f1b1d89777503aadbd10f3l-m437690160od-w480_h360_x2.jpg\n",
      "\n",
      "-----------------------------------\n",
      "\n",
      "Result: 27 of 48\n",
      "Price: $249000.0 | Beds: 4.0, Bath: 2.0, Sqft: 2153.0, Lot: 8742.0\n",
      "Address: 15307 Penn Hills Ln, Houston, TX 77062\n",
      "Link: https://www.realtor.com/realestateandhomes-detail/15307-Penn-Hills-Ln_Houston_TX_77062_M74661-03123\n",
      "Google Maps: https://www.google.com/maps/place/15307+Penn+Hills+Ln,+Houston,+TX+77062\n",
      "Image_0: https://ap.rdcpix.com/180cee311fbfad2fb3a180b1fe9943b8l-m2015358658od-w480_h360_x2.jpg\n",
      "Image_1: https://ap.rdcpix.com/180cee311fbfad2fb3a180b1fe9943b8l-m3752079202od-w480_h360_x2.jpg\n",
      "\n",
      "-----------------------------------\n",
      "\n",
      "Result: 28 of 48\n",
      "Price: $244990.0 | Beds: 3.0, Bath: 2.0, Sqft: 1566.0, Lot: nan\n",
      "Address: 12354 Summerbrook Drive, Houston, TX 77066\n",
      "Link: https://www.realtor.com/realestateandhomes-detail/Plan-Carlton_Klein-Orchard_12354-Summerbrook-Drive_Houston_TX_77066_P417000450824\n",
      "Google Maps: https://www.google.com/maps/place/12354+Summerbrook+Drive,+Houston,+TX+77066\n",
      "Image_0: https://an.rdcpix.com/c700eeb2ae42dd6b14007f1fa6fa37cbe-f2317530384od-w480_h360_x2.jpg\n",
      "Image_1: https://an.rdcpix.com/c700eeb2ae42dd6b14007f1fa6fa37cbe-f1628953003od-w480_h360_x2.jpg\n",
      "\n",
      "-----------------------------------\n",
      "\n",
      "Result: 29 of 48\n",
      "Price: $225000.0 | Beds: 3.0, Bath: 2.0, Sqft: 1581.0, Lot: 7000.0\n",
      "Address: 5905 Ariel St, Houston, TX 77074\n",
      "Link: https://www.realtor.com/realestateandhomes-detail/5905-Ariel-St_Houston_TX_77074_M84063-68342\n",
      "Google Maps: https://www.google.com/maps/place/5905+Ariel+St,+Houston,+TX+77074\n",
      "Image_0: https://ap.rdcpix.com/bac2838ee16471b0d302c839a4fcb539l-m1829850110od-w480_h360_x2.jpg\n",
      "Image_1: https://ap.rdcpix.com/bac2838ee16471b0d302c839a4fcb539l-m3474390399od-w480_h360_x2.jpg\n",
      "\n",
      "-----------------------------------\n",
      "\n",
      "Result: 30 of 48\n",
      "Price: $219900.0 | Beds: 4.0, Bath: 2.0, Sqft: 1984.0, Lot: 7361.0\n",
      "Address: 11430 Sagewind Dr, Houston, TX 77089\n",
      "Link: https://www.realtor.com/realestateandhomes-detail/11430-Sagewind-Dr_Houston_TX_77089_M75097-15557\n",
      "Google Maps: https://www.google.com/maps/place/11430+Sagewind+Dr,+Houston,+TX+77089\n",
      "Image_0: https://ap.rdcpix.com/f319f603c3ad42de7797bfe068f4866al-m199452453od-w480_h360_x2.jpg\n",
      "\n",
      "-----------------------------------\n",
      "\n",
      "Result: 31 of 48\n",
      "Data not available or Ads\n",
      "\n",
      "-----------------------------------\n",
      "\n",
      "Result: 32 of 48\n",
      "Price: $255000.0 | Beds: 4.0, Bath: 2.5, Sqft: 2605.0, Lot: 6765.0\n",
      "Address: 7535 Grand Terrace Ct, Houston, TX 77095\n",
      "Link: https://www.realtor.com/realestateandhomes-detail/7535-Grand-Terrace-Ct_Houston_TX_77095_M81490-89779\n",
      "Google Maps: https://www.google.com/maps/place/7535+Grand+Terrace+Ct,+Houston,+TX+77095\n",
      "Image_0: https://ap.rdcpix.com/69f8aac3464aca3f07e27088005eb833l-m425302062od-w480_h360_x2.jpg\n",
      "Image_1: https://ap.rdcpix.com/69f8aac3464aca3f07e27088005eb833l-m1234589036od-w480_h360_x2.jpg\n",
      "\n",
      "-----------------------------------\n",
      "\n",
      "Result: 33 of 48\n",
      "Price: $270000.0 | Beds: 4.0, Bath: 2.5, Sqft: 3406.0, Lot: 9000.0\n",
      "Address: 15411 Pebble Bend Dr, Houston, TX 77068\n",
      "Link: https://www.realtor.com/realestateandhomes-detail/15411-Pebble-Bend-Dr_Houston_TX_77068_M80053-29938\n",
      "Google Maps: https://www.google.com/maps/place/15411+Pebble+Bend+Dr,+Houston,+TX+77068\n",
      "Image_0: https://ap.rdcpix.com/b5f003200c72db68648e0c399456ddd6l-m2952142168od-w480_h360_x2.jpg\n",
      "Image_1: https://ap.rdcpix.com/b5f003200c72db68648e0c399456ddd6l-m2127472618od-w480_h360_x2.jpg\n",
      "\n",
      "-----------------------------------\n",
      "\n",
      "Result: 34 of 48\n",
      "Price: $215000.0 | Beds: 3.0, Bath: 2.0, Sqft: 1140.0, Lot: 4320.0\n",
      "Address: 3224 Francis St, Houston, TX 77004\n",
      "Link: https://www.realtor.com/realestateandhomes-detail/3224-Francis-St_Houston_TX_77004_M79943-89589\n",
      "Google Maps: https://www.google.com/maps/place/3224+Francis+St,+Houston,+TX+77004\n",
      "Image_0: https://ap.rdcpix.com/3a00a0928a99338ab71928d78f25cc21l-m4022792016od-w480_h360_x2.jpg\n",
      "Image_1: https://ap.rdcpix.com/3a00a0928a99338ab71928d78f25cc21l-m3417831327od-w480_h360_x2.jpg\n",
      "\n",
      "-----------------------------------\n",
      "\n",
      "Result: 35 of 48\n",
      "Price: $287475.0 | Beds: 4.0, Bath: 2.5, Sqft: 2785.0, Lot: nan\n",
      "Address: 12650 Barclay Terrace Dr, Humble, TX 77346\n",
      "Link: https://www.realtor.com/realestateandhomes-detail/12650-Barclay-Terrace-Dr_Humble_TX_77346_M98287-95920\n",
      "Google Maps: https://www.google.com/maps/place/12650+Barclay+Terrace+Dr,+Humble,+TX+77346\n",
      "Image_0: https://ap.rdcpix.com/d487ac28cc5ef6adcc9ea35fa588e14dl-m854096198od-w480_h360_x2.jpg\n",
      "Image_1: https://ap.rdcpix.com/d487ac28cc5ef6adcc9ea35fa588e14dl-m1122812104od-w480_h360_x2.jpg\n",
      "\n",
      "-----------------------------------\n",
      "\n",
      "Result: 36 of 48\n",
      "Price: $226990.0 | Beds: 3.0, Bath: 2.0, Sqft: 1801.0, Lot: nan\n",
      "Address: Greeley-Silver, Houston, TX 77063\n",
      "Link: https://www.realtor.com/realestateandhomes-detail/Greeley-Silver_Build-on-Your-Lot_Houston_TX_77063_P415273469895\n",
      "Google Maps: https://www.google.com/maps/place/Greeley-Silver,+Houston,+TX+77063\n",
      "Image_0: https://an.rdcpix.com/e5a8678152fad21adf4bc67f43202c4de-f1867510106od-w480_h360_x2.jpg\n",
      "Image_1: https://an.rdcpix.com/e5a8678152fad21adf4bc67f43202c4de-f2900649275od-w480_h360_x2.jpg\n",
      "\n",
      "-----------------------------------\n",
      "\n",
      "Result: 37 of 48\n",
      "Price: $289999.0 | Beds: 3.0, Bath: 2.0, Sqft: 2477.0, Lot: 9480.0\n",
      "Address: 8043 Triola Ln, Houston, TX 77036\n",
      "Link: https://www.realtor.com/realestateandhomes-detail/8043-Triola-Ln_Houston_TX_77036_M72684-93202\n",
      "Google Maps: https://www.google.com/maps/place/8043+Triola+Ln,+Houston,+TX+77036\n",
      "Image_0: https://ap.rdcpix.com/0f8b42219b6f3b4c1cde65d0b03c642fl-m3500488457od-w480_h360_x2.jpg\n",
      "Image_1: https://ap.rdcpix.com/0f8b42219b6f3b4c1cde65d0b03c642fl-m3836100381od-w480_h360_x2.jpg\n",
      "\n",
      "-----------------------------------\n",
      "\n",
      "Result: 38 of 48\n",
      "Price: $289900.0 | Beds: 3.0, Bath: 2.5, Sqft: 2664.0, Lot: 5200.0\n",
      "Address: 11223 Riverview Way, Houston, TX 77042\n",
      "Link: https://www.realtor.com/realestateandhomes-detail/11223-Riverview-Way_Houston_TX_77042_M80952-14691\n",
      "Google Maps: https://www.google.com/maps/place/11223+Riverview+Way,+Houston,+TX+77042\n",
      "Image_0: https://ap.rdcpix.com/ace7b42dd3c39b69fc29a4af724b03d0l-m3700598506od-w480_h360_x2.jpg\n",
      "Image_1: https://ap.rdcpix.com/ace7b42dd3c39b69fc29a4af724b03d0l-m985188557od-w480_h360_x2.jpg\n",
      "\n",
      "-----------------------------------\n",
      "\n",
      "Result: 39 of 48\n",
      "Price: $250000.0 | Beds: 4.0, Bath: 2.5, Sqft: 3428.0, Lot: 8334.0\n",
      "Address: 6203 Oak Bay Dr, Houston, TX 77091\n",
      "Link: https://www.realtor.com/realestateandhomes-detail/6203-Oak-Bay-Dr_Houston_TX_77091_M87009-99180\n",
      "Google Maps: https://www.google.com/maps/place/6203+Oak+Bay+Dr,+Houston,+TX+77091\n",
      "Image_0: https://maps.googleapis.com/maps/api/streetview?channel=rdc-streetview&client=gme-movesalesinc&location=6203%20Oak%20Bay%20Dr%2C%20Houston%2C%20TX%2077091&size=640x480&source=outdoor&signature=lPHkE0rcDsLxKblaDtsV9t-IRyg=\n",
      "\n",
      "-----------------------------------\n",
      "\n",
      "Result: 40 of 48\n",
      "Data not available or Ads\n",
      "\n",
      "-----------------------------------\n",
      "\n",
      "Result: 41 of 48\n",
      "Price: $289000.0 | Beds: 3.0, Bath: 2.5, Sqft: 2194.0, Lot: 1579.0\n",
      "Address: 9716 Marlive Ln, Houston, TX 77025\n",
      "Link: https://www.realtor.com/realestateandhomes-detail/9716-Marlive-Ln_Houston_TX_77025_M88143-53649\n",
      "Google Maps: https://www.google.com/maps/place/9716+Marlive+Ln,+Houston,+TX+77025\n",
      "Image_0: https://ap.rdcpix.com/e3a2b7a51edde78e4de61736f660a2a9l-m362533586od-w480_h360_x2.jpg\n",
      "Image_1: https://ap.rdcpix.com/e3a2b7a51edde78e4de61736f660a2a9l-m2515155301od-w480_h360_x2.jpg\n",
      "\n",
      "-----------------------------------\n",
      "\n",
      "Result: 42 of 48\n",
      "Price: $265000.0 | Beds: 3.0, Bath: 2.5, Sqft: 2164.0, Lot: 9372.0\n",
      "Address: 2011 Trail Water Ct, Houston, TX 77339\n",
      "Link: https://www.realtor.com/realestateandhomes-detail/2011-Trail-Water-Ct_Humble_TX_77339_M80534-32047\n",
      "Google Maps: https://www.google.com/maps/place/2011+Trail+Water+Ct,+Houston,+TX+77339\n",
      "Image_0: https://ap.rdcpix.com/0358e6f4a84a6f971bd1462c313f7c9dl-m1835191522od-w480_h360_x2.jpg\n",
      "Image_1: https://ap.rdcpix.com/0358e6f4a84a6f971bd1462c313f7c9dl-m2242079137od-w480_h360_x2.jpg\n",
      "\n",
      "-----------------------------------\n",
      "\n",
      "Result: 43 of 48\n",
      "Price: $250000.0 | Beds: 4.0, Bath: 2.5, Sqft: 2526.0, Lot: 8260.0\n",
      "Address: 10314 Springland Ct, Houston, TX 77065\n",
      "Link: https://www.realtor.com/realestateandhomes-detail/10314-Springland-Ct_Houston_TX_77065_M85672-77606\n",
      "Google Maps: https://www.google.com/maps/place/10314+Springland+Ct,+Houston,+TX+77065\n",
      "Image_0: https://ap.rdcpix.com/f3074fb09191d9fd3918f4928209bf80l-m150770141od-w480_h360_x2.jpg\n",
      "Image_1: https://ap.rdcpix.com/f3074fb09191d9fd3918f4928209bf80l-m2764212650od-w480_h360_x2.jpg\n",
      "\n",
      "-----------------------------------\n",
      "\n",
      "Result: 44 of 48\n",
      "Price: $256000.0 | Beds: 4.0, Bath: 2.0, Sqft: 2116.0, Lot: 9030.0\n",
      "Address: 5507 Sheraton Oaks Dr, Houston, TX 77091\n",
      "Link: https://www.realtor.com/realestateandhomes-detail/5507-Sheraton-Oaks-Dr_Houston_TX_77091_M82067-00571\n",
      "Google Maps: https://www.google.com/maps/place/5507+Sheraton+Oaks+Dr,+Houston,+TX+77091\n",
      "Image_0: https://ap.rdcpix.com/4d8c024dd4a2728b7d87226a09cf99d2l-m3288981190od-w480_h360_x2.jpg\n",
      "Image_1: https://ap.rdcpix.com/4d8c024dd4a2728b7d87226a09cf99d2l-m503930115od-w480_h360_x2.jpg\n",
      "\n",
      "-----------------------------------\n",
      "\n",
      "Result: 45 of 48\n",
      "Price: $200000.0 | Beds: 3.0, Bath: 2.0, Sqft: 2054.0, Lot: 17424\n",
      "Address: 5527 Chantilly Ln, Houston, TX 77092\n",
      "Price reduced: $50k\n",
      "Link: https://www.realtor.com/realestateandhomes-detail/5527-Chantilly-Ln_Houston_TX_77092_M78428-84546\n",
      "Google Maps: https://www.google.com/maps/place/5527+Chantilly+Ln,+Houston,+TX+77092\n",
      "Image_0: https://ap.rdcpix.com/e8b708c4d8f69c80f5000aa3b58e6ca1l-m3964638258od-w480_h360_x2.jpg\n",
      "\n",
      "-----------------------------------\n",
      "\n",
      "Result: 46 of 48\n",
      "Price: $287000.0 | Beds: 3.0, Bath: 2.5, Sqft: 1902.0, Lot: nan\n",
      "Address: 4403 Santorini Ln, Houston, TX 77045\n",
      "Link: https://www.realtor.com/realestateandhomes-detail/4403-Santorini-Ln_Houston_TX_77045_M91320-90184\n",
      "Google Maps: https://www.google.com/maps/place/4403+Santorini+Ln,+Houston,+TX+77045\n",
      "Image_0: https://maps.googleapis.com/maps/api/streetview?channel=rdc-streetview&client=gme-movesalesinc&location=4403%20Santorini%20Ln%2C%20Houston%2C%20TX%2077045&size=640x480&source=outdoor&signature=lQUJTmym3LStNdajT07ni4wSGzk=\n",
      "\n",
      "-----------------------------------\n",
      "\n"
     ]
    },
    {
     "name": "stdout",
     "output_type": "stream",
     "text": [
      "Result: 47 of 48\n",
      "Price: $210000.0 | Beds: 3.0, Bath: 2.5, Sqft: 1982.0, Lot: 9450.0\n",
      "Address: 18703 Sun Lodge Ct, Houston, TX 77073\n",
      "Link: https://www.realtor.com/realestateandhomes-detail/18703-Sun-Lodge-Ct_Houston_TX_77073_M74742-83226\n",
      "Google Maps: https://www.google.com/maps/place/18703+Sun+Lodge+Ct,+Houston,+TX+77073\n",
      "Image_0: https://ap.rdcpix.com/5f37fc08274dc13fd5052392c7adac39l-m96138853od-w480_h360_x2.jpg\n",
      "Image_1: https://ap.rdcpix.com/5f37fc08274dc13fd5052392c7adac39l-m190009968od-w480_h360_x2.jpg\n",
      "\n",
      "-----------------------------------\n",
      "\n",
      "Result: 48 of 48\n",
      "Data not available or Ads\n",
      "\n"
     ]
    }
   ],
   "source": [
    "# Print results and save to a dictionary\n",
    "n = 0\n",
    "realstate_list = []\n",
    "for result in results:\n",
    "#     Clear the variables to not store repeated info\n",
    "    house_price = ''\n",
    "    address = ''\n",
    "    link_page = ''\n",
    "    photo_url = ''\n",
    "                \n",
    "    n = n + 1\n",
    "    print('-----------------------------------')\n",
    "    print('')\n",
    "    print(f'Result: {n} of {len(results)}')\n",
    "    if not result.find('div', class_=\"ads\"):\n",
    "#         print(f'Result: {n} of {len(results)}')\n",
    "        price_div = result.find('div', class_=\"price\")\n",
    "        house_price = float(price_div.find('span').text.split('$')[-1].replace(\",\",\"\"))\n",
    "        link_page = result.find('a')['href']\n",
    "        img_label = result.find('img')\n",
    "        address = img_label['alt']\n",
    "        \n",
    "        \n",
    "#         house_features = result.find('ul').text\n",
    "#         list_house_features = house_features.replace(\"bed\",\";\").replace(\"bath\",\";\").replace(\"lot\",\";\").replace(\"sqft\",\";\").split(\";\")\n",
    "#         bed = float(list_house_features[0])\n",
    "#         bath = float(list_house_features[1])\n",
    "#         sqft = int(list_house_features[2].replace(\",\",\"\"))\n",
    "#         lot = list_house_features[3]\n",
    "\n",
    "#         # Convert acre to sqft\n",
    "#         if (lot.find('acre') != -1): \n",
    "#             lot = (round(float(lot.replace('acre',''))*43560))\n",
    "#         else:\n",
    "#             lot = int(lot.replace(\",\",\"\"))\n",
    "\n",
    "        \n",
    "\n",
    "        features = find_features(result.find('ul').find_all('span'))\n",
    "        \n",
    "        bed = features['Beds']\n",
    "        bath = features['Bath']\n",
    "        sqft = features['Sqft']\n",
    "        lot = features['Lot']\n",
    "            \n",
    "        print(f\"Price: ${house_price} | Beds: {bed}, Bath: {bath}, Sqft: {sqft}, Lot: {lot}\")\n",
    "        \n",
    "        print(f\"Address: {address}\")\n",
    "        \n",
    "        try:\n",
    "            price_reduced = result.find('span', class_=\"price-reduced-amount\")\n",
    "            price_now = price_reduced.text\n",
    "            print(f\"Price reduced: {price_now}\")\n",
    "        except:\n",
    "            pass\n",
    "        print(f\"Link: {link_details}{link_page}\")\n",
    "#         photo_url = img_label['srcset'].split(',')[1].split(' ')[1]\n",
    "        \n",
    "#         try:\n",
    "#             photo_url = img_label['srcset'].split(',')[1].split(' ')[1]\n",
    "#             print(f\"Photo link: {photo_url}\")\n",
    "#         except KeyError:\n",
    "#             print(f\"Photo not available\")\n",
    "            \n",
    "        separator = '+'\n",
    "        address_google = separator.join(address.split(\" \"))\n",
    "        url_google_maps = f\"https://www.google.com/maps/place/{address_google}\"\n",
    "        print(f\"Google Maps: {url_google_maps}\")\n",
    "    \n",
    "        list_images = ['', '']\n",
    "        house_pictures_tag = result.find_all('picture')\n",
    "        for uu in range(len(house_pictures_tag)):\n",
    "            list_images[uu] = house_pictures_tag[uu].find('img')['srcset'].split(',')[1].split(' ')[1]\n",
    "            print(f\"Image_{uu}: {list_images[uu]}\")\n",
    "        \n",
    "        # Save results to a dictionary\n",
    "        realstate_list.append(\n",
    "            {\n",
    "                \"Price\": house_price,\n",
    "                \"Address\": address,\n",
    "                \"Beds\": bed,\n",
    "                \"Baths\": bath,\n",
    "                \"Sqft\": sqft,\n",
    "                \"Lot\": lot,\n",
    "                \"Image_1\": list_images[0],\n",
    "                \"Image_2\": list_images[1],\n",
    "                \"Link\": str(link_details+link_page),\n",
    "                \"Google Maps\": url_google_maps\n",
    "            }\n",
    "        )\n",
    "\n",
    "    \n",
    "    else:\n",
    "        print('Data not available or Ads')\n",
    "\n",
    "    print('')\n",
    "    \n",
    "    "
   ]
  },
  {
   "cell_type": "code",
   "execution_count": 15,
   "metadata": {},
   "outputs": [],
   "source": [
    "# When you’ve finished testing, close your browser using browser.quit:\n",
    "browser.quit()"
   ]
  },
  {
   "cell_type": "markdown",
   "metadata": {},
   "source": [
    "<hr style=\"border: 3px solid red;\">"
   ]
  },
  {
   "cell_type": "markdown",
   "metadata": {},
   "source": [
    "### Data Cleaning"
   ]
  },
  {
   "cell_type": "code",
   "execution_count": 16,
   "metadata": {
    "scrolled": true
   },
   "outputs": [
    {
     "data": {
      "text/html": [
       "<div>\n",
       "<style scoped>\n",
       "    .dataframe tbody tr th:only-of-type {\n",
       "        vertical-align: middle;\n",
       "    }\n",
       "\n",
       "    .dataframe tbody tr th {\n",
       "        vertical-align: top;\n",
       "    }\n",
       "\n",
       "    .dataframe thead th {\n",
       "        text-align: right;\n",
       "    }\n",
       "</style>\n",
       "<table border=\"1\" class=\"dataframe\">\n",
       "  <thead>\n",
       "    <tr style=\"text-align: right;\">\n",
       "      <th></th>\n",
       "      <th>Price</th>\n",
       "      <th>Address</th>\n",
       "      <th>Beds</th>\n",
       "      <th>Baths</th>\n",
       "      <th>Sqft</th>\n",
       "      <th>Lot</th>\n",
       "      <th>Image_1</th>\n",
       "      <th>Image_2</th>\n",
       "      <th>Link</th>\n",
       "      <th>Google Maps</th>\n",
       "    </tr>\n",
       "  </thead>\n",
       "  <tbody>\n",
       "    <tr>\n",
       "      <th>0</th>\n",
       "      <td>280000.0</td>\n",
       "      <td>3810 Woodbridge Dr, Kingwood, TX 77339</td>\n",
       "      <td>3.0</td>\n",
       "      <td>2.5</td>\n",
       "      <td>2458.0</td>\n",
       "      <td>9120.0</td>\n",
       "      <td>https://ap.rdcpix.com/7c9d7cac1b315b6ed250467b...</td>\n",
       "      <td>https://ap.rdcpix.com/7c9d7cac1b315b6ed250467b...</td>\n",
       "      <td>https://www.realtor.com/realestateandhomes-det...</td>\n",
       "      <td>https://www.google.com/maps/place/3810+Woodbri...</td>\n",
       "    </tr>\n",
       "    <tr>\n",
       "      <th>1</th>\n",
       "      <td>215000.0</td>\n",
       "      <td>711 Woodbine St, Houston, TX 77017</td>\n",
       "      <td>4.0</td>\n",
       "      <td>2.0</td>\n",
       "      <td>1700.0</td>\n",
       "      <td>6600.0</td>\n",
       "      <td>https://ap.rdcpix.com/f796993f0705dce50e2cff54...</td>\n",
       "      <td>https://ap.rdcpix.com/f796993f0705dce50e2cff54...</td>\n",
       "      <td>https://www.realtor.com/realestateandhomes-det...</td>\n",
       "      <td>https://www.google.com/maps/place/711+Woodbine...</td>\n",
       "    </tr>\n",
       "  </tbody>\n",
       "</table>\n",
       "</div>"
      ],
      "text/plain": [
       "      Price                                 Address  Beds  Baths    Sqft  \\\n",
       "0  280000.0  3810 Woodbridge Dr, Kingwood, TX 77339   3.0    2.5  2458.0   \n",
       "1  215000.0      711 Woodbine St, Houston, TX 77017   4.0    2.0  1700.0   \n",
       "\n",
       "      Lot                                            Image_1  \\\n",
       "0  9120.0  https://ap.rdcpix.com/7c9d7cac1b315b6ed250467b...   \n",
       "1  6600.0  https://ap.rdcpix.com/f796993f0705dce50e2cff54...   \n",
       "\n",
       "                                             Image_2  \\\n",
       "0  https://ap.rdcpix.com/7c9d7cac1b315b6ed250467b...   \n",
       "1  https://ap.rdcpix.com/f796993f0705dce50e2cff54...   \n",
       "\n",
       "                                                Link  \\\n",
       "0  https://www.realtor.com/realestateandhomes-det...   \n",
       "1  https://www.realtor.com/realestateandhomes-det...   \n",
       "\n",
       "                                         Google Maps  \n",
       "0  https://www.google.com/maps/place/3810+Woodbri...  \n",
       "1  https://www.google.com/maps/place/711+Woodbine...  "
      ]
     },
     "execution_count": 16,
     "metadata": {},
     "output_type": "execute_result"
    }
   ],
   "source": [
    "# Save the data to a dataframe\n",
    "listing_df = pd.DataFrame(realstate_list)\n",
    "# listing_df.to_csv(os.path.join('Database','ScrapedData.csv'))\n",
    "listing_df.head(2)"
   ]
  },
  {
   "cell_type": "code",
   "execution_count": 17,
   "metadata": {},
   "outputs": [],
   "source": [
    "# Dataframe to dictionary\n",
    "# listing_df.to_dict(orient=\"records\")"
   ]
  },
  {
   "cell_type": "markdown",
   "metadata": {},
   "source": [
    "<hr style=\"border: 3px solid red;\">"
   ]
  },
  {
   "cell_type": "markdown",
   "metadata": {},
   "source": [
    "## Save Scraped House Data to Database"
   ]
  },
  {
   "cell_type": "markdown",
   "metadata": {},
   "source": [
    "Info about primary key auto increment even with roll back: https://stackoverflow.com/questions/449346/mysql-auto-increment-does-not-rollback"
   ]
  },
  {
   "cell_type": "code",
   "execution_count": 18,
   "metadata": {},
   "outputs": [],
   "source": [
    " # Imports the method used to connect to DBs\n",
    "from sqlalchemy import create_engine\n",
    "from sqlalchemy import exc\n",
    "from sqlalchemy import update\n",
    "\n",
    "# Imports the methods needed to abstract python classes into database tables\n",
    "from sqlalchemy.ext.declarative import declarative_base\n",
    "Base = declarative_base()\n",
    "\n",
    "# function to establish a session with a connected database\n",
    "from sqlalchemy.orm import Session\n",
    "\n",
    "# database compliant datatypes\n",
    "from sqlalchemy import Column, Integer, String, Float, ForeignKey, DateTime\n",
    "\n",
    "# from config import db_user, dialect"
   ]
  },
  {
   "cell_type": "code",
   "execution_count": 19,
   "metadata": {},
   "outputs": [],
   "source": [
    "# Create database connection\n",
    "engine = create_engine(DATABASE_URL) "
   ]
  },
  {
   "cell_type": "code",
   "execution_count": 20,
   "metadata": {},
   "outputs": [],
   "source": [
    "# Create class to frame each real state instance\n",
    "class RealState(Base):\n",
    "    __tablename__ = 'realstatelisting'\n",
    "\n",
    "    house_id = Column(Integer, primary_key=True)\n",
    "    address = Column(String(300), unique=True, nullable=False)\n",
    "    price = Column(Float, nullable=False)\n",
    "    bed = Column(Float, nullable=True)\n",
    "    bath = Column(Float, nullable=True)\n",
    "    sqft = Column(Float, nullable=True)\n",
    "    lot = Column(Float, nullable=True)\n",
    "    latitude = Column(Float, nullable=True)\n",
    "    longitude = Column(Float, nullable=True)\n",
    "    house_link = Column(String(300), nullable=True)\n",
    "    image_1 = Column(String(300), nullable=True)\n",
    "    image_2 = Column(String(300), nullable=True)\n",
    "    map_link = Column(String(300), nullable=True)\n",
    "    google_map = Column(String(300), nullable=True)\n",
    "    created_date = Column(DateTime, default=datetime.datetime.utcnow)\n",
    "\n",
    "    def __repr__(self):\n",
    "        return '<Listing %r>' % (self.address)"
   ]
  },
  {
   "cell_type": "code",
   "execution_count": 21,
   "metadata": {},
   "outputs": [],
   "source": [
    "# Create class to frame each real state instance\n",
    "class UserSelection(Base):\n",
    "    __tablename__ = 'userselection'\n",
    "\n",
    "    userselection_id = Column(Integer, primary_key=True)\n",
    "    username = Column(String(300))\n",
    "    useremail = Column(String(300))\n",
    "    house_id = Column(Integer, ForeignKey('realstatelisting.house_id'))\n",
    "    user_choice = Column(String(300))\n",
    "    created_date = Column(DateTime, default=datetime.datetime.utcnow)\n",
    "    \n",
    "    def __repr__(self):\n",
    "        return '<Listing %r>' % (self.userselection_id)"
   ]
  },
  {
   "cell_type": "code",
   "execution_count": 22,
   "metadata": {},
   "outputs": [],
   "source": [
    "# Create all of the tables in our database based on the classes we've associated with our declarative base.\n",
    "Base.metadata.create_all(engine)"
   ]
  },
  {
   "cell_type": "code",
   "execution_count": 23,
   "metadata": {},
   "outputs": [],
   "source": [
    "# Create a Session object to connect to DB\n",
    "session = Session(bind=engine)"
   ]
  },
  {
   "cell_type": "code",
   "execution_count": 24,
   "metadata": {},
   "outputs": [
    {
     "name": "stdout",
     "output_type": "stream",
     "text": [
      "--> 41 records to be added.\n"
     ]
    }
   ],
   "source": [
    "\"\"\" Verify if the items are in the database to avoid roll back\"\"\"\n",
    "new_entries_index = []\n",
    "for nn in range(len(listing_df)):\n",
    "    house_item = listing_df.iloc[nn]\n",
    "    query_results = session.query(RealState).filter(RealState.address == house_item.Address).all()\n",
    "    if query_results:\n",
    "        pass\n",
    "    else:\n",
    "        new_entries_index.append(nn)\n",
    "\n",
    "new_houses_df = listing_df.iloc[new_entries_index]\n",
    "new_houses_df = new_houses_df.drop_duplicates()\n",
    "print(f\"--> {len(new_houses_df)} records to be added.\")"
   ]
  },
  {
   "cell_type": "code",
   "execution_count": 25,
   "metadata": {},
   "outputs": [
    {
     "name": "stdout",
     "output_type": "stream",
     "text": [
      "--> Total recordes added to database: 41.\n"
     ]
    }
   ],
   "source": [
    "ll = 0\n",
    "for nn in range(len(new_houses_df)):\n",
    "#     print('-'*25)\n",
    "#     print(f\"{nn+1} of {len(listing_df)}\")\n",
    "    house_item = new_houses_df.iloc[nn]\n",
    "\n",
    "    new_house = RealState(\n",
    "        address = house_item.Address,\n",
    "        price = house_item.Price,\n",
    "        bed = house_item.Beds,\n",
    "        bath = house_item.Baths,\n",
    "        sqft = house_item.Sqft,\n",
    "        lot = house_item.Lot,\n",
    "        image_1 = house_item['Image_1'],\n",
    "        image_2 = house_item['Image_2'],\n",
    "        house_link = house_item.Link,\n",
    "        google_map = house_item['Google Maps']\n",
    "        )\n",
    "    \n",
    "    try:\n",
    "        session.add(new_house)\n",
    "        session.commit()\n",
    "        ll = ll + 1\n",
    "    except exc.IntegrityError:\n",
    "        session.rollback()\n",
    "        print(f'Roll back: {new_house}')\n",
    "\n",
    "print(f\"--> Total recordes added to database: {ll}.\")"
   ]
  },
  {
   "cell_type": "markdown",
   "metadata": {},
   "source": [
    "<hr style=\"border: 3px solid red;\">"
   ]
  },
  {
   "cell_type": "markdown",
   "metadata": {},
   "source": [
    "### Get Coordinates Using Google Maps"
   ]
  },
  {
   "cell_type": "code",
   "execution_count": 26,
   "metadata": {},
   "outputs": [],
   "source": [
    "\"\"\" Get house coordinates using Splinter to scrap Google Maps \"\"\"\n",
    "def find_coordinates(url):\n",
    "    browser = Browser('chrome', **executable_path, headless=False)\n",
    "    browser.visit(url)\n",
    "    time.sleep(5)\n",
    "    current_url = browser.url\n",
    "    browser.quit()\n",
    "\n",
    "    try:\n",
    "        latitude = float(current_url.split(\"!\")[-2].split(\"d\")[1])\n",
    "        longitude = float(current_url.split(\"!\")[-1].split(\"d\")[1])\n",
    "    except IndexError:\n",
    "        url_string_list = current_url.split(\"/\")\n",
    "        for jj in range(len(url_string_list)):\n",
    "            try:\n",
    "                index_coordinates = url_string_list[jj].index(\"@\")\n",
    "            except ValueError:\n",
    "                pass\n",
    "            else:\n",
    "                latitude = float(url_string_list[jj][1:-1].split(\",\")[0])\n",
    "                longitude = float(url_string_list[jj][1:-1].split(\",\")[1])\n",
    "        \n",
    "    map_link = f\"https://www.openstreetmap.org/?mlat={latitude}&mlon={longitude}#map=15/{latitude}/{longitude}\"\n",
    "\n",
    "    return {\"latitude\":latitude, \"longitude\":longitude, \"map_link\": map_link}"
   ]
  },
  {
   "cell_type": "code",
   "execution_count": 27,
   "metadata": {},
   "outputs": [],
   "source": [
    "\"\"\" Query houses and update entry with coordinates and map link \"\"\"\n",
    "def update_house_coordinates(HouseID):\n",
    "    house = session.query(RealState).filter(RealState.house_id == HouseID)\n",
    "    coordinates = find_coordinates(house[0].google_map)\n",
    "    stmt = update(RealState).where(RealState.house_id == HouseID).values(coordinates).\\\n",
    "        execution_options(synchronize_session=\"fetch\")\n",
    "\n",
    "    session.execute(stmt)\n",
    "    session.commit()\n"
   ]
  },
  {
   "cell_type": "code",
   "execution_count": 28,
   "metadata": {
    "scrolled": true
   },
   "outputs": [
    {
     "ename": "UnboundLocalError",
     "evalue": "local variable 'latitude' referenced before assignment",
     "output_type": "error",
     "traceback": [
      "\u001b[0;31m---------------------------------------------------------------------------\u001b[0m",
      "\u001b[0;31mUnboundLocalError\u001b[0m                         Traceback (most recent call last)",
      "\u001b[0;32m<ipython-input-28-568947b8bfc0>\u001b[0m in \u001b[0;36m<module>\u001b[0;34m\u001b[0m\n\u001b[1;32m      3\u001b[0m \u001b[0mnn\u001b[0m \u001b[0;34m=\u001b[0m \u001b[0;36m0\u001b[0m\u001b[0;34m\u001b[0m\u001b[0;34m\u001b[0m\u001b[0m\n\u001b[1;32m      4\u001b[0m \u001b[0;32mfor\u001b[0m \u001b[0mhouse\u001b[0m \u001b[0;32min\u001b[0m \u001b[0mhouse_list\u001b[0m\u001b[0;34m:\u001b[0m\u001b[0;34m\u001b[0m\u001b[0;34m\u001b[0m\u001b[0m\n\u001b[0;32m----> 5\u001b[0;31m     \u001b[0mupdate_house_coordinates\u001b[0m\u001b[0;34m(\u001b[0m\u001b[0mhouse\u001b[0m\u001b[0;34m.\u001b[0m\u001b[0mhouse_id\u001b[0m\u001b[0;34m)\u001b[0m\u001b[0;34m\u001b[0m\u001b[0;34m\u001b[0m\u001b[0m\n\u001b[0m\u001b[1;32m      6\u001b[0m     \u001b[0mnn\u001b[0m \u001b[0;34m=\u001b[0m \u001b[0mnn\u001b[0m \u001b[0;34m+\u001b[0m \u001b[0;36m1\u001b[0m\u001b[0;34m\u001b[0m\u001b[0;34m\u001b[0m\u001b[0m\n\u001b[1;32m      7\u001b[0m \u001b[0;34m\u001b[0m\u001b[0m\n",
      "\u001b[0;32m<ipython-input-27-e3b4f6af2e20>\u001b[0m in \u001b[0;36mupdate_house_coordinates\u001b[0;34m(HouseID)\u001b[0m\n\u001b[1;32m      2\u001b[0m \u001b[0;32mdef\u001b[0m \u001b[0mupdate_house_coordinates\u001b[0m\u001b[0;34m(\u001b[0m\u001b[0mHouseID\u001b[0m\u001b[0;34m)\u001b[0m\u001b[0;34m:\u001b[0m\u001b[0;34m\u001b[0m\u001b[0;34m\u001b[0m\u001b[0m\n\u001b[1;32m      3\u001b[0m     \u001b[0mhouse\u001b[0m \u001b[0;34m=\u001b[0m \u001b[0msession\u001b[0m\u001b[0;34m.\u001b[0m\u001b[0mquery\u001b[0m\u001b[0;34m(\u001b[0m\u001b[0mRealState\u001b[0m\u001b[0;34m)\u001b[0m\u001b[0;34m.\u001b[0m\u001b[0mfilter\u001b[0m\u001b[0;34m(\u001b[0m\u001b[0mRealState\u001b[0m\u001b[0;34m.\u001b[0m\u001b[0mhouse_id\u001b[0m \u001b[0;34m==\u001b[0m \u001b[0mHouseID\u001b[0m\u001b[0;34m)\u001b[0m\u001b[0;34m\u001b[0m\u001b[0;34m\u001b[0m\u001b[0m\n\u001b[0;32m----> 4\u001b[0;31m     \u001b[0mcoordinates\u001b[0m \u001b[0;34m=\u001b[0m \u001b[0mfind_coordinates\u001b[0m\u001b[0;34m(\u001b[0m\u001b[0mhouse\u001b[0m\u001b[0;34m[\u001b[0m\u001b[0;36m0\u001b[0m\u001b[0;34m]\u001b[0m\u001b[0;34m.\u001b[0m\u001b[0mgoogle_map\u001b[0m\u001b[0;34m)\u001b[0m\u001b[0;34m\u001b[0m\u001b[0;34m\u001b[0m\u001b[0m\n\u001b[0m\u001b[1;32m      5\u001b[0m     \u001b[0mstmt\u001b[0m \u001b[0;34m=\u001b[0m \u001b[0mupdate\u001b[0m\u001b[0;34m(\u001b[0m\u001b[0mRealState\u001b[0m\u001b[0;34m)\u001b[0m\u001b[0;34m.\u001b[0m\u001b[0mwhere\u001b[0m\u001b[0;34m(\u001b[0m\u001b[0mRealState\u001b[0m\u001b[0;34m.\u001b[0m\u001b[0mhouse_id\u001b[0m \u001b[0;34m==\u001b[0m \u001b[0mHouseID\u001b[0m\u001b[0;34m)\u001b[0m\u001b[0;34m.\u001b[0m\u001b[0mvalues\u001b[0m\u001b[0;34m(\u001b[0m\u001b[0mcoordinates\u001b[0m\u001b[0;34m)\u001b[0m\u001b[0;34m.\u001b[0m\u001b[0;31m\\\u001b[0m\u001b[0;34m\u001b[0m\u001b[0;34m\u001b[0m\u001b[0m\n\u001b[1;32m      6\u001b[0m         \u001b[0mexecution_options\u001b[0m\u001b[0;34m(\u001b[0m\u001b[0msynchronize_session\u001b[0m\u001b[0;34m=\u001b[0m\u001b[0;34m\"fetch\"\u001b[0m\u001b[0;34m)\u001b[0m\u001b[0;34m\u001b[0m\u001b[0;34m\u001b[0m\u001b[0m\n",
      "\u001b[0;32m<ipython-input-26-79de7180b22a>\u001b[0m in \u001b[0;36mfind_coordinates\u001b[0;34m(url)\u001b[0m\n\u001b[1;32m     21\u001b[0m                 \u001b[0mlongitude\u001b[0m \u001b[0;34m=\u001b[0m \u001b[0mfloat\u001b[0m\u001b[0;34m(\u001b[0m\u001b[0murl_string_list\u001b[0m\u001b[0;34m[\u001b[0m\u001b[0mjj\u001b[0m\u001b[0;34m]\u001b[0m\u001b[0;34m[\u001b[0m\u001b[0;36m1\u001b[0m\u001b[0;34m:\u001b[0m\u001b[0;34m-\u001b[0m\u001b[0;36m1\u001b[0m\u001b[0;34m]\u001b[0m\u001b[0;34m.\u001b[0m\u001b[0msplit\u001b[0m\u001b[0;34m(\u001b[0m\u001b[0;34m\",\"\u001b[0m\u001b[0;34m)\u001b[0m\u001b[0;34m[\u001b[0m\u001b[0;36m1\u001b[0m\u001b[0;34m]\u001b[0m\u001b[0;34m)\u001b[0m\u001b[0;34m\u001b[0m\u001b[0;34m\u001b[0m\u001b[0m\n\u001b[1;32m     22\u001b[0m \u001b[0;34m\u001b[0m\u001b[0m\n\u001b[0;32m---> 23\u001b[0;31m     \u001b[0mmap_link\u001b[0m \u001b[0;34m=\u001b[0m \u001b[0;34mf\"https://www.openstreetmap.org/?mlat={latitude}&mlon={longitude}#map=15/{latitude}/{longitude}\"\u001b[0m\u001b[0;34m\u001b[0m\u001b[0;34m\u001b[0m\u001b[0m\n\u001b[0m\u001b[1;32m     24\u001b[0m \u001b[0;34m\u001b[0m\u001b[0m\n\u001b[1;32m     25\u001b[0m     \u001b[0;32mreturn\u001b[0m \u001b[0;34m{\u001b[0m\u001b[0;34m\"latitude\"\u001b[0m\u001b[0;34m:\u001b[0m\u001b[0mlatitude\u001b[0m\u001b[0;34m,\u001b[0m \u001b[0;34m\"longitude\"\u001b[0m\u001b[0;34m:\u001b[0m\u001b[0mlongitude\u001b[0m\u001b[0;34m,\u001b[0m \u001b[0;34m\"map_link\"\u001b[0m\u001b[0;34m:\u001b[0m \u001b[0mmap_link\u001b[0m\u001b[0;34m}\u001b[0m\u001b[0;34m\u001b[0m\u001b[0;34m\u001b[0m\u001b[0m\n",
      "\u001b[0;31mUnboundLocalError\u001b[0m: local variable 'latitude' referenced before assignment"
     ]
    }
   ],
   "source": [
    "# Update coordinates for all entries of the database that doesn't have coordinates\n",
    "house_list = session.query(RealState).filter(RealState.latitude == None).order_by(RealState.house_id).all()\n",
    "nn = 0\n",
    "for house in house_list:\n",
    "    update_house_coordinates(house.house_id)\n",
    "    nn = nn + 1\n",
    "\n",
    "print(f\"{nn} records updated.\")"
   ]
  },
  {
   "cell_type": "code",
   "execution_count": null,
   "metadata": {},
   "outputs": [],
   "source": [
    "session.close()"
   ]
  },
  {
   "cell_type": "markdown",
   "metadata": {},
   "source": [
    "<hr style=\"border: 3px solid red;\">"
   ]
  },
  {
   "cell_type": "markdown",
   "metadata": {},
   "source": [
    "### Query database"
   ]
  },
  {
   "cell_type": "code",
   "execution_count": null,
   "metadata": {},
   "outputs": [],
   "source": [
    "# Query all records and create a list with the returned data\n",
    "query_result = session.query(RealState).all()\n",
    "query_result[0:2]"
   ]
  },
  {
   "cell_type": "code",
   "execution_count": null,
   "metadata": {},
   "outputs": [],
   "source": [
    "query_res = query_result[1]\n",
    "print(f\"house_id: {query_res.house_id}\")\n",
    "print(f\"address: {query_res.address}\")\n",
    "print(f\"price: {query_res.price}\")\n",
    "print(f\"bed: {query_res.bed}\")\n",
    "print(f\"bath: {query_res.bath}\")\n",
    "print(f\"sqft: {query_res.sqft}\")\n",
    "print(f\"lot: {query_res.lot}\")\n",
    "print(f\"latitude: {query_res.latitude}\")\n",
    "print(f\"longitude: {query_res.longitude}\")\n",
    "print(f\"house_link: {query_res.house_link}\")\n",
    "print(f\"image_1: {query_res.image_1}\")\n",
    "print(f\"image_2: {query_res.image_2}\")\n",
    "print(f\"map_link: {query_res.map_link}\")\n",
    "print(f\"google_map: {query_res.google_map}\")"
   ]
  },
  {
   "cell_type": "code",
   "execution_count": null,
   "metadata": {},
   "outputs": [],
   "source": []
  },
  {
   "cell_type": "markdown",
   "metadata": {},
   "source": [
    "<hr style=\"border: 3px solid red;\">"
   ]
  },
  {
   "cell_type": "markdown",
   "metadata": {},
   "source": [
    "### Basic Analysis"
   ]
  },
  {
   "cell_type": "code",
   "execution_count": null,
   "metadata": {},
   "outputs": [],
   "source": [
    "# Query database using pandas\n",
    "SQL_Query_df = pd.read_sql_query('''select * from realstatelisting''', engine)"
   ]
  },
  {
   "cell_type": "code",
   "execution_count": null,
   "metadata": {},
   "outputs": [],
   "source": [
    "SQL_Query_df.describe()"
   ]
  },
  {
   "cell_type": "code",
   "execution_count": null,
   "metadata": {},
   "outputs": [],
   "source": [
    "SQL_Query_df.head(2)"
   ]
  },
  {
   "cell_type": "code",
   "execution_count": null,
   "metadata": {},
   "outputs": [],
   "source": [
    "ax1 = SQL_Query_df.plot.scatter(x='sqft',y='price',c='lot', colormap='viridis',figsize=(18,4))\n",
    "ax1.set_xlabel(\"sqft\", fontsize=14)\n",
    "ax1.set_ylabel(\"price\", fontsize=14)"
   ]
  },
  {
   "cell_type": "code",
   "execution_count": null,
   "metadata": {},
   "outputs": [],
   "source": [
    "ax1 = SQL_Query_df['price'].plot(kind='hist',bins=15,figsize=(18,5));\n",
    "ax1.set_xlabel(\"Price\", fontsize=14);"
   ]
  },
  {
   "cell_type": "code",
   "execution_count": null,
   "metadata": {},
   "outputs": [],
   "source": [
    "ax1 = SQL_Query_df.plot.scatter(x='latitude',y='longitude',c='price', colormap='viridis',figsize=(18,10))\n",
    "ax1.set_xlabel(\"latitude\", fontsize=14)\n",
    "ax1.set_ylabel(\"longitude\", fontsize=14)"
   ]
  },
  {
   "cell_type": "code",
   "execution_count": null,
   "metadata": {},
   "outputs": [],
   "source": []
  }
 ],
 "metadata": {
  "kernelspec": {
   "display_name": "Python 3",
   "language": "python",
   "name": "python3"
  },
  "language_info": {
   "codemirror_mode": {
    "name": "ipython",
    "version": 3
   },
   "file_extension": ".py",
   "mimetype": "text/x-python",
   "name": "python",
   "nbconvert_exporter": "python",
   "pygments_lexer": "ipython3",
   "version": "3.7.9"
  }
 },
 "nbformat": 4,
 "nbformat_minor": 4
}
