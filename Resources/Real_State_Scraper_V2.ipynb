{
 "cells": [
  {
   "cell_type": "markdown",
   "metadata": {},
   "source": [
    "# Real State Scrapy"
   ]
  },
  {
   "cell_type": "markdown",
   "metadata": {},
   "source": [
    "Scrapy the real state website and retrieve house listing of a target price and retrieve the info and save to database."
   ]
  },
  {
   "cell_type": "markdown",
   "metadata": {},
   "source": [
    "### Import Dependencies"
   ]
  },
  {
   "cell_type": "code",
   "execution_count": 1,
   "metadata": {},
   "outputs": [],
   "source": [
    "import os\n",
    "from bs4 import BeautifulSoup\n",
    "import requests\n",
    "from splinter import Browser\n",
    "import pandas as pd\n",
    "import time\n",
    "import numpy as np\n",
    "import pprint\n",
    "import datetime\n",
    "\n",
    "# Import DB user and password\n",
    "from api_keys import positionstack_key\n",
    "from api_keys import opencagedata_API\n",
    "from api_keys import DATABASE_URL"
   ]
  },
  {
   "cell_type": "markdown",
   "metadata": {},
   "source": [
    "### Setup Splinter (For Mac)"
   ]
  },
  {
   "cell_type": "markdown",
   "metadata": {},
   "source": [
    "Check Splinter documentation for info on how to find elements:\n",
    "https://splinter.readthedocs.io/en/latest/finding.html"
   ]
  },
  {
   "cell_type": "code",
   "execution_count": 2,
   "metadata": {},
   "outputs": [],
   "source": [
    "# identify location of chromedriver and store it as a variable\n",
    "driverPath = !which chromedriver\n",
    "\n",
    "# Setup configuration variables to enable Splinter to interact with browser\n",
    "executable_path = {'executable_path': driverPath[0]}\n",
    "browser = Browser('chrome', **executable_path, headless=False)"
   ]
  },
  {
   "cell_type": "markdown",
   "metadata": {},
   "source": [
    "### Scraping"
   ]
  },
  {
   "cell_type": "code",
   "execution_count": 3,
   "metadata": {},
   "outputs": [
    {
     "name": "stdout",
     "output_type": "stream",
     "text": [
      "https://www.realtor.com/realestateandhomes-search/Houston_TX/type-single-family-home/price-150000-350000/sby-6/pg-9\n"
     ]
    }
   ],
   "source": [
    "# URL of page to be scraped\n",
    "url_realtor = \"https://www.realtor.com/realestateandhomes-search/Houston_TX/type-single-family-home/price-\"\n",
    "link_details = \"https://www.realtor.com\"\n",
    "min_price = '150000'\n",
    "max_price = '350000'\n",
    "sort_by = '/sby-2' # Highest to lowest price\n",
    "sort_by = '/sby-6' # Newest listings\n",
    "page_number = 9\n",
    "\n",
    "query_url = f\"{url_realtor}{min_price}-{max_price}{sort_by}/pg-{page_number}\"\n",
    "print(query_url)"
   ]
  },
  {
   "cell_type": "markdown",
   "metadata": {},
   "source": [
    "### BeautifulSoup"
   ]
  },
  {
   "cell_type": "code",
   "execution_count": 4,
   "metadata": {},
   "outputs": [],
   "source": [
    "# Scrap with BeautifulSoup. However it does \n",
    "# page = requests.get(query_url)\n",
    "# soup = BeautifulSoup(page.content, 'html.parser')"
   ]
  },
  {
   "cell_type": "markdown",
   "metadata": {},
   "source": [
    "### Splinter"
   ]
  },
  {
   "cell_type": "code",
   "execution_count": 5,
   "metadata": {},
   "outputs": [],
   "source": [
    "# Use the browser to visit the url\n",
    "browser.visit(query_url)"
   ]
  },
  {
   "cell_type": "code",
   "execution_count": 6,
   "metadata": {},
   "outputs": [],
   "source": [
    "# Wait for x seconds for error purpouses\n",
    "time.sleep(5)"
   ]
  },
  {
   "cell_type": "code",
   "execution_count": 7,
   "metadata": {},
   "outputs": [],
   "source": [
    "# Return the rendered page by the browser\n",
    "html_realtor = browser.html"
   ]
  },
  {
   "cell_type": "code",
   "execution_count": 8,
   "metadata": {},
   "outputs": [],
   "source": [
    "# Use beatifulsoup to scrap the page rendered by the browser\n",
    "soup = BeautifulSoup(html_realtor, 'html.parser')"
   ]
  },
  {
   "cell_type": "code",
   "execution_count": 9,
   "metadata": {},
   "outputs": [],
   "source": [
    "\"\"\"\n",
    "Find all lis in order to find each house item.\n",
    "Then look for the class = \"photo-wrap\" to retrieve the unique id\n",
    "for each listing. Hover the mouse over the house to load the picture and\n",
    "finally get the picture link to save in the database\n",
    "\"\"\"\n",
    "house_ads = soup.find_all('li')\n",
    "for kk in range(len(house_ads)):\n",
    "    if house_ads[kk].find_all('div', class_= \"photo-wrap\"):\n",
    "        div_tag = house_ads[kk].find('div', class_= \"photo-wrap\")\n",
    "        browser.find_by_id(div_tag['id']).mouse_over()\n",
    "        time.sleep(1)"
   ]
  },
  {
   "cell_type": "code",
   "execution_count": 10,
   "metadata": {},
   "outputs": [],
   "source": [
    "# Return the rendered page by the browser after loading all photos\n",
    "html_realtor = browser.html"
   ]
  },
  {
   "cell_type": "code",
   "execution_count": 11,
   "metadata": {},
   "outputs": [],
   "source": [
    "# Use beatifulsoup to scrap the page rendered by the browser\n",
    "soup = BeautifulSoup(html_realtor, 'html.parser')"
   ]
  },
  {
   "cell_type": "code",
   "execution_count": 12,
   "metadata": {},
   "outputs": [
    {
     "name": "stdout",
     "output_type": "stream",
     "text": [
      "Total results: 48\n"
     ]
    }
   ],
   "source": [
    "# Search for the div where the title is located\n",
    "results = soup.find_all('div', class_=\"card-box\")\n",
    "# print(results[0].prettify())\n",
    "print(f\"Total results: {len(results)}\")"
   ]
  },
  {
   "cell_type": "code",
   "execution_count": 13,
   "metadata": {},
   "outputs": [],
   "source": [
    "# Find beds, baths, sqft and lot\n",
    "def find_features(house_feat_temp):\n",
    "    list_features = []\n",
    "    for jj in range(len(house_feat_temp)):\n",
    "        list_features.append(house_feat_temp[jj].text)\n",
    "\n",
    "    try:\n",
    "        index_pos = list_features.index(\"bed\")\n",
    "    except ValueError:\n",
    "        bed = 1.0\n",
    "    else:\n",
    "        bed = float(list_features[index_pos-1])\n",
    "\n",
    "    try:\n",
    "        index_pos = list_features.index(\"bath\")\n",
    "    except ValueError:\n",
    "        bath = 1.0\n",
    "    else:\n",
    "        bath = float(list_features[index_pos-1].replace(\"+\",\"\"))\n",
    "\n",
    "    try:\n",
    "        index_pos = list_features.index(\"sqft\")\n",
    "    except ValueError:\n",
    "        sqft = np.nan\n",
    "    else:\n",
    "        sqft = float(list_features[index_pos-1].replace(\",\",\"\"))\n",
    "\n",
    "    try:\n",
    "        index_pos = list_features.index(\"sqft lot\")\n",
    "    except ValueError:\n",
    "        try:\n",
    "            index_pos = list_features.index(\"acre lot\")\n",
    "        except ValueError:\n",
    "            lot = np.nan\n",
    "        else:\n",
    "            lot = round(float(list_features[index_pos-1])*43560)    \n",
    "    else:\n",
    "        lot = float(list_features[index_pos-1].replace(',',''))\n",
    "\n",
    "#     print(f\"Beds: {bed}, Bath: {bath}, Sqft: {sqft}, Lot: {lot}\")\n",
    "    \n",
    "    return {\"Beds\": bed, \"Bath\": bath, \"Sqft\": sqft, \"Lot\": lot}\n",
    "\n",
    "# find_features(results[6].find('ul').find_all('span'))"
   ]
  },
  {
   "cell_type": "code",
   "execution_count": 14,
   "metadata": {
    "scrolled": true
   },
   "outputs": [
    {
     "name": "stdout",
     "output_type": "stream",
     "text": [
      "-----------------------------------\n",
      "\n",
      "Result: 1 of 48\n",
      "Price: $285995.0 | Beds: 5.0, Bath: 2.5, Sqft: 3031.0, Lot: nan\n",
      "Address: 4330 Mossy Banks Ln, Houston, TX 77068\n",
      "Link: https://www.realtor.com/realestateandhomes-detail/4330-Mossy-Banks-Ln_Houston_TX_77068_M90847-59408\n",
      "Google Maps: https://www.google.com/maps/place/4330+Mossy+Banks+Ln,+Houston,+TX+77068\n",
      "Image_0: https://ap.rdcpix.com/6ee62095ba8d8ebc08cca0f2b06389adl-m563535056od-w480_h360_x2.jpg\n",
      "Image_1: https://ap.rdcpix.com/6ee62095ba8d8ebc08cca0f2b06389adl-m3376692700od-w480_h360_x2.jpg\n",
      "\n",
      "-----------------------------------\n",
      "\n",
      "Result: 2 of 48\n",
      "Price: $315915.0 | Beds: 4.0, Bath: 2.5, Sqft: 2336.0, Lot: nan\n",
      "Address: 2711 Georgina Rose Way, Pearland, TX 77089\n",
      "Link: https://www.realtor.com/realestateandhomes-detail/2711-Georgina-Rose-Way_Pearland_TX_77089_M91554-86660\n",
      "Google Maps: https://www.google.com/maps/place/2711+Georgina+Rose+Way,+Pearland,+TX+77089\n",
      "Image_0: https://maps.googleapis.com/maps/api/streetview?channel=rdc-streetview&client=gme-movesalesinc&location=2711%20Georgina%20Rose%20Way%2C%20Pearland%2C%20TX%2077089&size=640x480&source=outdoor&signature=e1eIrjF7o8ED0yJGsLShRxWQDuo=\n",
      "\n",
      "-----------------------------------\n",
      "\n",
      "Result: 3 of 48\n",
      "Price: $249000.0 | Beds: 4.0, Bath: 2.5, Sqft: 2372.0, Lot: 3348.0\n",
      "Address: 6511 Wilshire Rdg, Houston, TX 77040\n",
      "Link: https://www.realtor.com/realestateandhomes-detail/6511-Wilshire-Rdg_Houston_TX_77040_M74368-70177\n",
      "Google Maps: https://www.google.com/maps/place/6511+Wilshire+Rdg,+Houston,+TX+77040\n",
      "Image_0: https://ap.rdcpix.com/db1eab8aacf1bbad33b7f8da1c52a0a0l-m3693400259od-w480_h360_x2.jpg\n",
      "Image_1: https://ap.rdcpix.com/db1eab8aacf1bbad33b7f8da1c52a0a0l-m2974253857od-w480_h360_x2.jpg\n",
      "\n",
      "-----------------------------------\n",
      "\n",
      "Result: 4 of 48\n",
      "Data not available or Ads\n",
      "\n",
      "-----------------------------------\n",
      "\n",
      "Result: 5 of 48\n",
      "Price: $344665.0 | Beds: 4.0, Bath: 2.5, Sqft: 2594.0, Lot: nan\n",
      "Address: 1708 Allendale Bluff Ln, Pearland, TX 77089\n",
      "Link: https://www.realtor.com/realestateandhomes-detail/1708-Allendale-Bluff-Ln_Pearland_TX_77089_M91125-59512\n",
      "Google Maps: https://www.google.com/maps/place/1708+Allendale+Bluff+Ln,+Pearland,+TX+77089\n",
      "Image_0: https://maps.googleapis.com/maps/api/streetview?channel=rdc-streetview&client=gme-movesalesinc&location=1708%20Allendale%20Bluff%20Ln%2C%20Pearland%2C%20TX%2077089&size=640x480&source=outdoor&signature=YwHM-Z8EUd4GlNwfoJqTyp5xe3A=\n",
      "\n",
      "-----------------------------------\n",
      "\n",
      "Result: 6 of 48\n",
      "Price: $350000.0 | Beds: 5.0, Bath: 4.0, Sqft: 3397.0, Lot: 9600.0\n",
      "Address: 9719 Atwell Dr, Houston, TX 77096\n",
      "Link: https://www.realtor.com/realestateandhomes-detail/9719-Atwell-Dr_Houston_TX_77096_M88878-05739\n",
      "Google Maps: https://www.google.com/maps/place/9719+Atwell+Dr,+Houston,+TX+77096\n",
      "Image_0: https://ap.rdcpix.com/c7217e2e0824200b5cda1efbedb4d5c8l-m2211968907od-w480_h360_x2.jpg\n",
      "Image_1: https://ap.rdcpix.com/c7217e2e0824200b5cda1efbedb4d5c8l-m2674661764od-w480_h360_x2.jpg\n",
      "\n",
      "-----------------------------------\n",
      "\n",
      "Result: 7 of 48\n",
      "Price: $214439.0 | Beds: 3.0, Bath: 2.0, Sqft: 1365.0, Lot: 3744.0\n",
      "Address: 17523 Desmond St, Humble, TX 77346\n",
      "Link: https://www.realtor.com/realestateandhomes-detail/17523-Desmond-St_Humble_TX_77346_M94874-98666\n",
      "Google Maps: https://www.google.com/maps/place/17523+Desmond+St,+Humble,+TX+77346\n",
      "Image_0: https://ap.rdcpix.com/5117b000b21f7dc29aacf1b73aa32eb7l-m1869557975od-w480_h360_x2.jpg\n",
      "Image_1: https://ap.rdcpix.com/5117b000b21f7dc29aacf1b73aa32eb7l-m1763668748od-w480_h360_x2.jpg\n",
      "\n",
      "-----------------------------------\n",
      "\n",
      "Result: 8 of 48\n",
      "Price: $297740.0 | Beds: 3.0, Bath: 2.0, Sqft: 1688.0, Lot: nan\n",
      "Address: 1725 Allendale Bluff Ln, Pearland, TX 77089\n",
      "Link: https://www.realtor.com/realestateandhomes-detail/1725-Allendale-Bluff-Ln_Pearland_TX_77089_M99181-91304\n",
      "Google Maps: https://www.google.com/maps/place/1725+Allendale+Bluff+Ln,+Pearland,+TX+77089\n",
      "Image_0: https://maps.googleapis.com/maps/api/streetview?channel=rdc-streetview&client=gme-movesalesinc&location=1725%20Allendale%20Bluff%20Ln%2C%20Pearland%2C%20TX%2077089&size=640x480&source=outdoor&signature=qSlmBZaTui9-p0JtIKARyA5_VoU=\n",
      "\n",
      "-----------------------------------\n",
      "\n",
      "Result: 9 of 48\n",
      "Price: $155000.0 | Beds: 3.0, Bath: 2.0, Sqft: 1180.0, Lot: 4559.0\n",
      "Address: 838 Staffordale Manor Ln, Houston, TX 77047\n",
      "Link: https://www.realtor.com/realestateandhomes-detail/838-Staffordale-Manor-Ln_Houston_TX_77047_M78028-69515\n",
      "Google Maps: https://www.google.com/maps/place/838+Staffordale+Manor+Ln,+Houston,+TX+77047\n",
      "Image_0: https://ap.rdcpix.com/b78b0cea0cc2f606aa3ffac6ffa1b4a9l-m3834245990od-w480_h360_x2.jpg\n",
      "Image_1: https://ap.rdcpix.com/b78b0cea0cc2f606aa3ffac6ffa1b4a9l-m1498791302od-w480_h360_x2.jpg\n",
      "\n",
      "-----------------------------------\n",
      "\n",
      "Result: 10 of 48\n",
      "Price: $269900.0 | Beds: 3.0, Bath: 2.0, Sqft: 1794.0, Lot: 8362.0\n",
      "Address: 4750 Benning Dr, Houston, TX 77035\n",
      "Link: https://www.realtor.com/realestateandhomes-detail/4750-Benning-Dr_Houston_TX_77035_M70651-44326\n",
      "Google Maps: https://www.google.com/maps/place/4750+Benning+Dr,+Houston,+TX+77035\n",
      "Image_0: https://ap.rdcpix.com/1d2b861ff100dbf611c41c9dc7acf2cal-m3260329033od-w480_h360_x2.jpg\n",
      "Image_1: https://ap.rdcpix.com/1d2b861ff100dbf611c41c9dc7acf2cal-m2887945207od-w480_h360_x2.jpg\n",
      "\n",
      "-----------------------------------\n",
      "\n",
      "Result: 11 of 48\n",
      "Price: $302640.0 | Beds: 4.0, Bath: 3.0, Sqft: 2012.0, Lot: nan\n",
      "Address: 1717 Allendale Bluff Ln, Pearland, TX 77089\n",
      "Link: https://www.realtor.com/realestateandhomes-detail/1717-Allendale-Bluff-Ln_Pearland_TX_77089_M99347-57722\n",
      "Google Maps: https://www.google.com/maps/place/1717+Allendale+Bluff+Ln,+Pearland,+TX+77089\n",
      "Image_0: https://maps.googleapis.com/maps/api/streetview?channel=rdc-streetview&client=gme-movesalesinc&location=1717%20Allendale%20Bluff%20Ln%2C%20Pearland%2C%20TX%2077089&size=640x480&source=outdoor&signature=Y5ZDuD3UNriLPFzx9K25ekUvTRk=\n",
      "\n",
      "-----------------------------------\n",
      "\n",
      "Result: 12 of 48\n",
      "Price: $155000.0 | Beds: 3.0, Bath: 1.5, Sqft: 1502.0, Lot: 5928.0\n",
      "Address: 2218 Deerhurst Ln, Houston, TX 77088\n",
      "Link: https://www.realtor.com/realestateandhomes-detail/2218-Deerhurst-Ln_Houston_TX_77088_M80871-65948\n",
      "Google Maps: https://www.google.com/maps/place/2218+Deerhurst+Ln,+Houston,+TX+77088\n",
      "Image_0: https://ap.rdcpix.com/6d6e0d8e9b919e93c5c0b0abd800e94cl-m3377247240od-w480_h360_x2.jpg\n",
      "Image_1: https://ap.rdcpix.com/6d6e0d8e9b919e93c5c0b0abd800e94cl-m1776168188od-w480_h360_x2.jpg\n",
      "\n",
      "-----------------------------------\n",
      "\n",
      "Result: 13 of 48\n",
      "Data not available or Ads\n",
      "\n",
      "-----------------------------------\n",
      "\n",
      "Result: 14 of 48\n",
      "Price: $240000.0 | Beds: 4.0, Bath: 2.5, Sqft: 2437.0, Lot: 10019\n",
      "Address: 13902 Brunswick Place Dr, Houston, TX 77047\n",
      "Link: https://www.realtor.com/realestateandhomes-detail/13902-Brunswick-Place-Dr_Houston_TX_77047_M83062-13293\n",
      "Google Maps: https://www.google.com/maps/place/13902+Brunswick+Place+Dr,+Houston,+TX+77047\n",
      "Image_0: https://ap.rdcpix.com/a68362e7631fdcb808b3e7919eeca722l-m337264945od-w480_h360_x2.jpg\n",
      "Image_1: https://ap.rdcpix.com/a68362e7631fdcb808b3e7919eeca722l-m2205915488od-w480_h360_x2.jpg\n",
      "\n",
      "-----------------------------------\n",
      "\n",
      "Result: 15 of 48\n",
      "Price: $239000.0 | Beds: 4.0, Bath: 1.5, Sqft: 2278.0, Lot: 9676.0\n",
      "Address: 7206 Bayou Oaks Dr, Houston, TX 77088\n",
      "Link: https://www.realtor.com/realestateandhomes-detail/7206-Bayou-Oaks-Dr_Houston_TX_77088_M88041-10894\n",
      "Google Maps: https://www.google.com/maps/place/7206+Bayou+Oaks+Dr,+Houston,+TX+77088\n",
      "Image_0: https://ap.rdcpix.com/e8fac3b4b80cf759668804e5cbd3f1b3l-m216232819od-w480_h360_x2.jpg\n",
      "Image_1: https://ap.rdcpix.com/e8fac3b4b80cf759668804e5cbd3f1b3l-m3693130289od-w480_h360_x2.jpg\n",
      "\n",
      "-----------------------------------\n",
      "\n",
      "Result: 16 of 48\n",
      "Price: $225000.0 | Beds: 4.0, Bath: 3.0, Sqft: 2480.0, Lot: 10454\n",
      "Address: 5815 Green Falls Dr, Houston, TX 77088\n",
      "Link: https://www.realtor.com/realestateandhomes-detail/5815-Green-Falls-Dr_Houston_TX_77088_M79370-32838\n",
      "Google Maps: https://www.google.com/maps/place/5815+Green+Falls+Dr,+Houston,+TX+77088\n",
      "Image_0: https://ap.rdcpix.com/1db7e20068e96c9ef6d452c8263363cfl-m3791907284od-w480_h360_x2.jpg\n",
      "Image_1: https://ap.rdcpix.com/1db7e20068e96c9ef6d452c8263363cfl-m3283798630od-w480_h360_x2.jpg\n",
      "\n",
      "-----------------------------------\n",
      "\n",
      "Result: 17 of 48\n",
      "Price: $289000.0 | Beds: 5.0, Bath: 2.0, Sqft: 3055.0, Lot: 9840.0\n",
      "Address: 7902 Roos Rd, Houston, TX 77036\n",
      "Link: https://www.realtor.com/realestateandhomes-detail/7902-Roos-Rd_Houston_TX_77036_M72610-77279\n",
      "Google Maps: https://www.google.com/maps/place/7902+Roos+Rd,+Houston,+TX+77036\n",
      "Image_0: https://maps.googleapis.com/maps/api/streetview?channel=rdc-streetview&client=gme-movesalesinc&location=7902%20Roos%20Rd%2C%20Houston%2C%20TX%2077036&size=640x480&source=outdoor&signature=AHk8H-Tct5u-MhFIgcFQR2ubwR4=\n",
      "\n",
      "-----------------------------------\n",
      "\n",
      "Result: 18 of 48\n",
      "Price: $264900.0 | Beds: 5.0, Bath: 2.5, Sqft: 2560.0, Lot: 8778.0\n",
      "Address: 7814 Feather Springs Dr, Houston, TX 77095\n",
      "Link: https://www.realtor.com/realestateandhomes-detail/7814-Feather-Springs-Dr_Houston_TX_77095_M86259-08032\n",
      "Google Maps: https://www.google.com/maps/place/7814+Feather+Springs+Dr,+Houston,+TX+77095\n",
      "Image_0: https://ap.rdcpix.com/8f94cc114e8cd8d96a8247e57fb6e5acl-m1125494603od-w480_h360_x2.jpg\n",
      "Image_1: https://ap.rdcpix.com/8f94cc114e8cd8d96a8247e57fb6e5acl-m3634202136od-w480_h360_x2.jpg\n",
      "\n",
      "-----------------------------------\n",
      "\n",
      "Result: 19 of 48\n",
      "Price: $164000.0 | Beds: 3.0, Bath: 1.0, Sqft: 2016.0, Lot: 5000.0\n",
      "Address: 2307 Keene St, Houston, TX 77009\n",
      "Link: https://www.realtor.com/realestateandhomes-detail/2307-Keene-St_Houston_TX_77009_M78227-17374\n",
      "Google Maps: https://www.google.com/maps/place/2307+Keene+St,+Houston,+TX+77009\n",
      "Image_0: https://ap.rdcpix.com/e0401db381b9be9d1bd2da9dc11b69f7l-m2807102096od-w480_h360_x2.jpg\n",
      "\n",
      "-----------------------------------\n",
      "\n",
      "Result: 20 of 48\n",
      "Price: $275000.0 | Beds: 3.0, Bath: 3.5, Sqft: 1900.0, Lot: 42689\n",
      "Address: 7351 Brace St, Houston, TX 77061\n",
      "Link: https://www.realtor.com/realestateandhomes-detail/7351-Brace-St_Houston_TX_77061_M78881-23384\n",
      "Google Maps: https://www.google.com/maps/place/7351+Brace+St,+Houston,+TX+77061\n",
      "Image_0: https://maps.googleapis.com/maps/api/streetview?channel=rdc-streetview&client=gme-movesalesinc&location=7351%20Brace%20St%2C%20Houston%2C%20TX%2077061&size=640x480&source=outdoor&signature=O4cOlzjgQPLMJAJthMGxEpwiJ34=\n",
      "\n",
      "-----------------------------------\n",
      "\n",
      "Result: 21 of 48\n",
      "Price: $201000.0 | Beds: 4.0, Bath: 2.5, Sqft: 2210.0, Lot: 4000.0\n",
      "Address: 18810 Remington Park Dr, Houston, TX 77073\n",
      "Link: https://www.realtor.com/realestateandhomes-detail/18810-Remington-Park-Dr_Houston_TX_77073_M83712-22402\n",
      "Google Maps: https://www.google.com/maps/place/18810+Remington+Park+Dr,+Houston,+TX+77073\n",
      "Image_0: https://ap.rdcpix.com/3e67e178ea2c185011c3fab1ab3e44d4l-m2747682942od-w480_h360_x2.jpg\n",
      "Image_1: https://ap.rdcpix.com/3e67e178ea2c185011c3fab1ab3e44d4l-m2893694077od-w480_h360_x2.jpg\n",
      "\n",
      "-----------------------------------\n",
      "\n",
      "Result: 22 of 48\n",
      "Data not available or Ads\n",
      "\n",
      "-----------------------------------\n",
      "\n",
      "Result: 23 of 48\n",
      "Price: $155000.0 | Beds: 3.0, Bath: 2.0, Sqft: 1277.0, Lot: 7526.0\n",
      "Address: 4115 Dragonwick Dr, Houston, TX 77045\n",
      "Link: https://www.realtor.com/realestateandhomes-detail/4115-Dragonwick-Dr_Houston_TX_77045_M76951-12521\n",
      "Google Maps: https://www.google.com/maps/place/4115+Dragonwick+Dr,+Houston,+TX+77045\n",
      "Image_0: https://ap.rdcpix.com/1fe5b9e62fd26380231dfa86f4b63933l-m3883027350od-w480_h360_x2.jpg\n",
      "Image_1: https://ap.rdcpix.com/1fe5b9e62fd26380231dfa86f4b63933l-m1915146996od-w480_h360_x2.jpg\n",
      "\n",
      "-----------------------------------\n",
      "\n",
      "Result: 24 of 48\n",
      "Price: $195000.0 | Beds: 4.0, Bath: 2.5, Sqft: 2200.0, Lot: 3611.0\n",
      "Address: 19514 Fletcher Way Dr, Houston, TX 77073\n",
      "Link: https://www.realtor.com/realestateandhomes-detail/19514-Fletcher-Way-Dr_Houston_TX_77073_M84728-17400\n",
      "Google Maps: https://www.google.com/maps/place/19514+Fletcher+Way+Dr,+Houston,+TX+77073\n",
      "Image_0: https://ap.rdcpix.com/9933c6ee5bcf3eea69d30d45698dbf33l-m1806324821od-w480_h360_x2.jpg\n",
      "Image_1: https://ap.rdcpix.com/9933c6ee5bcf3eea69d30d45698dbf33l-m3461713522od-w480_h360_x2.jpg\n",
      "\n",
      "-----------------------------------\n",
      "\n",
      "Result: 25 of 48\n",
      "Price: $315000.0 | Beds: 3.0, Bath: 2.0, Sqft: 1839.0, Lot: 9925.0\n",
      "Address: 1419 Basilan Ln, Houston, TX 77058\n",
      "Link: https://www.realtor.com/realestateandhomes-detail/1419-Basilan-Ln_Houston_TX_77058_M78207-74470\n",
      "Google Maps: https://www.google.com/maps/place/1419+Basilan+Ln,+Houston,+TX+77058\n",
      "Image_0: https://maps.googleapis.com/maps/api/streetview?channel=rdc-streetview&client=gme-movesalesinc&location=1419%20Basilan%20Ln%2C%20Houston%2C%20TX%2077058&size=640x480&source=outdoor&signature=rhvFw0LKClxeBR7TvFk29YtF35w=\n",
      "\n",
      "-----------------------------------\n",
      "\n",
      "Result: 26 of 48\n",
      "Price: $168000.0 | Beds: 3.0, Bath: 2.0, Sqft: 1384.0, Lot: 7040.0\n",
      "Address: 12014 Flushing Meadows Dr, Houston, TX 77089\n",
      "Link: https://www.realtor.com/realestateandhomes-detail/12014-Flushing-Meadows-Dr_Houston_TX_77089_M74007-01394\n",
      "Google Maps: https://www.google.com/maps/place/12014+Flushing+Meadows+Dr,+Houston,+TX+77089\n",
      "Image_0: https://ap.rdcpix.com/875ec701ec68ebb2c5baa722c45bffe4l-m2136728547od-w480_h360_x2.jpg\n",
      "Image_1: https://ap.rdcpix.com/875ec701ec68ebb2c5baa722c45bffe4l-m4201996889od-w480_h360_x2.jpg\n",
      "\n",
      "-----------------------------------\n",
      "\n",
      "Result: 27 of 48\n",
      "Price: $195000.0 | Beds: 3.0, Bath: 2.0, Sqft: 1862.0, Lot: 5050.0\n",
      "Address: 7807 Redgate Cir, Houston, TX 77071\n",
      "Link: https://www.realtor.com/realestateandhomes-detail/7807-Redgate-Cir_Houston_TX_77071_M88841-95131\n",
      "Google Maps: https://www.google.com/maps/place/7807+Redgate+Cir,+Houston,+TX+77071\n",
      "Image_0: https://ap.rdcpix.com/f4d085b85d174898486db14169f00160l-m2204375425od-w480_h360_x2.jpg\n",
      "Image_1: https://ap.rdcpix.com/f4d085b85d174898486db14169f00160l-m3818171809od-w480_h360_x2.jpg\n",
      "\n",
      "-----------------------------------\n",
      "\n",
      "Result: 28 of 48\n",
      "Price: $302990.0 | Beds: 3.0, Bath: 2.5, Sqft: 1831.0, Lot: nan\n",
      "Address: 8959 Monterey View Drive, Houston, TX 77080\n",
      "Link: https://www.realtor.com/realestateandhomes-detail/Leland_Summerlyn-At-Spring-Branch_8959-Monterey-View-Drive_Houston_TX_77080_P417000449038\n",
      "Google Maps: https://www.google.com/maps/place/8959+Monterey+View+Drive,+Houston,+TX+77080\n",
      "Image_0: https://an.rdcpix.com/e22293cf93d4857aded20845e05ef88ae-f2964613648od-w480_h360_x2.jpg\n",
      "Image_1: https://an.rdcpix.com/e22293cf93d4857aded20845e05ef88ae-f1558052414od-w480_h360_x2.jpg\n",
      "\n",
      "-----------------------------------\n",
      "\n",
      "Result: 29 of 48\n",
      "Price: $199995.0 | Beds: 3.0, Bath: 2.0, Sqft: 1631.0, Lot: nan\n",
      "Address: 14623 Cypress Landing Dr., Houston, TX 77068\n",
      "Link: https://www.realtor.com/realestateandhomes-detail/Plan-1631_Cypress-Creek-Landing_14623-Cypress-Landing-Dr_Houston_TX_77068_P417000447801\n",
      "Google Maps: https://www.google.com/maps/place/14623+Cypress+Landing+Dr.,+Houston,+TX+77068\n",
      "Image_0: https://an.rdcpix.com/5ac186de7dc39d003a3f0e32e993d4d8e-f1423612021od-w480_h360_x2.jpg\n",
      "Image_1: https://an.rdcpix.com/5ac186de7dc39d003a3f0e32e993d4d8e-f2112408653od-w480_h360_x2.jpg\n",
      "\n",
      "-----------------------------------\n",
      "\n",
      "Result: 30 of 48\n",
      "Price: $336997.0 | Beds: 5.0, Bath: 3.0, Sqft: 2413.0, Lot: 5480.0\n",
      "Address: 5019 Klein Orchard Dr, Houston, TX 77066\n",
      "Link: https://www.realtor.com/realestateandhomes-detail/5019-Klein-Orchard-Dr_Houston_TX_77066_M98886-65921\n",
      "Google Maps: https://www.google.com/maps/place/5019+Klein+Orchard+Dr,+Houston,+TX+77066\n",
      "Image_0: https://ap.rdcpix.com/d13faa662c651d4c255ba92e5dd9aa87l-m1739469935od-w480_h360_x2.jpg\n",
      "Image_1: https://ap.rdcpix.com/d13faa662c651d4c255ba92e5dd9aa87l-m1973286673od-w480_h360_x2.jpg\n",
      "\n",
      "-----------------------------------\n",
      "\n",
      "Result: 31 of 48\n",
      "Data not available or Ads\n",
      "\n",
      "-----------------------------------\n",
      "\n",
      "Result: 32 of 48\n",
      "Price: $217000.0 | Beds: 3.0, Bath: 2.0, Sqft: 1570.0, Lot: 15246\n",
      "Address: 27206 Huffman Cleveland Rd, Houston, TX 77336\n",
      "Link: https://www.realtor.com/realestateandhomes-detail/27206-Huffman-Cleveland-Rd_Huffman_TX_77336_M77636-83046\n",
      "Google Maps: https://www.google.com/maps/place/27206+Huffman+Cleveland+Rd,+Houston,+TX+77336\n",
      "Image_0: https://ap.rdcpix.com/dc2f61924dee27226c2367be60f01b19l-m4214596909od-w480_h360_x2.jpg\n",
      "Image_1: https://ap.rdcpix.com/dc2f61924dee27226c2367be60f01b19l-m390513302od-w480_h360_x2.jpg\n",
      "\n",
      "-----------------------------------\n",
      "\n",
      "Result: 33 of 48\n",
      "Price: $159999.0 | Beds: 3.0, Bath: 2.0, Sqft: 1278.0, Lot: 5000.0\n",
      "Address: 416 Tennessee St, Houston, TX 77029\n",
      "Link: https://www.realtor.com/realestateandhomes-detail/416-Tennessee-St_Houston_TX_77029_M93759-41922\n",
      "Google Maps: https://www.google.com/maps/place/416+Tennessee+St,+Houston,+TX+77029\n",
      "Image_0: https://ap.rdcpix.com/ebd445cd6c9c4f647ae91901a3045970l-m4094421234od-w480_h360_x2.jpg\n",
      "Image_1: https://ap.rdcpix.com/ebd445cd6c9c4f647ae91901a3045970l-m2742132669od-w480_h360_x2.jpg\n",
      "\n",
      "-----------------------------------\n",
      "\n",
      "Result: 34 of 48\n",
      "Price: $165000.0 | Beds: 3.0, Bath: 2.0, Sqft: 1561.0, Lot: 6600.0\n",
      "Address: 5415 Fairview Forest Dr, Houston, TX 77088\n",
      "Link: https://www.realtor.com/realestateandhomes-detail/5415-Fairview-Forest-Dr_Houston_TX_77088_M84590-94575\n",
      "Google Maps: https://www.google.com/maps/place/5415+Fairview+Forest+Dr,+Houston,+TX+77088\n",
      "Image_0: https://ap.rdcpix.com/bc80813e28a91e4d2b48e5b77b05b948l-m2274335804od-w480_h360_x2.jpg\n",
      "Image_1: https://ap.rdcpix.com/bc80813e28a91e4d2b48e5b77b05b948l-m1144175510od-w480_h360_x2.jpg\n",
      "\n",
      "-----------------------------------\n",
      "\n",
      "Result: 35 of 48\n",
      "Price: $219999.0 | Beds: 3.0, Bath: 2.5, Sqft: 1529.0, Lot: 5522.0\n",
      "Address: 8313 Fountain St, Houston, TX 77051\n",
      "Link: https://www.realtor.com/realestateandhomes-detail/8313-Fountain-St_Houston_TX_77051_M74561-58557\n",
      "Google Maps: https://www.google.com/maps/place/8313+Fountain+St,+Houston,+TX+77051\n",
      "Image_0: https://ap.rdcpix.com/d6e792a8e1f9d9a350e3dfdc158f19bal-m2757816790od-w480_h360_x2.jpg\n",
      "Image_1: https://ap.rdcpix.com/d6e792a8e1f9d9a350e3dfdc158f19bal-m1594864331od-w480_h360_x2.jpg\n",
      "\n",
      "-----------------------------------\n",
      "\n",
      "Result: 36 of 48\n",
      "Price: $284900.0 | Beds: 2.0, Bath: 2.5, Sqft: 1747.0, Lot: 2375.0\n",
      "Address: 2307 Clementine St, Houston, TX 77020\n",
      "Link: https://www.realtor.com/realestateandhomes-detail/2307-Clementine-St_Houston_TX_77020_M90364-15455\n",
      "Google Maps: https://www.google.com/maps/place/2307+Clementine+St,+Houston,+TX+77020\n",
      "Image_0: https://ap.rdcpix.com/aa936cf2faff57a7f5ced3fa00dfe61fl-m3149940343od-w480_h360_x2.jpg\n",
      "Image_1: https://ap.rdcpix.com/aa936cf2faff57a7f5ced3fa00dfe61fl-m360297205od-w480_h360_x2.jpg\n",
      "\n",
      "-----------------------------------\n",
      "\n",
      "Result: 37 of 48\n",
      "Price: $294900.0 | Beds: 3.0, Bath: 2.5, Sqft: 1747.0, Lot: 2771.0\n",
      "Address: 5112 Hershe St, Houston, TX 77020\n",
      "Link: https://www.realtor.com/realestateandhomes-detail/5112-Hershe-St_Houston_TX_77020_M80637-30745\n",
      "Google Maps: https://www.google.com/maps/place/5112+Hershe+St,+Houston,+TX+77020\n",
      "Image_0: https://ap.rdcpix.com/3f6c9cb375e12c6f1020612d5b5e27b4l-m3938304093od-w480_h360_x2.jpg\n",
      "Image_1: https://ap.rdcpix.com/3f6c9cb375e12c6f1020612d5b5e27b4l-m3571065141od-w480_h360_x2.jpg\n",
      "\n",
      "-----------------------------------\n",
      "\n",
      "Result: 38 of 48\n",
      "Price: $182500.0 | Beds: 4.0, Bath: 2.0, Sqft: 1931.0, Lot: 5980.0\n",
      "Address: 12702 Fern Forest Dr, Houston, TX 77044\n",
      "Link: https://www.realtor.com/realestateandhomes-detail/12702-Fern-Forest-Dr_Houston_TX_77044_M88341-59168\n",
      "Google Maps: https://www.google.com/maps/place/12702+Fern+Forest+Dr,+Houston,+TX+77044\n",
      "Image_0: https://maps.googleapis.com/maps/api/streetview?channel=rdc-streetview&client=gme-movesalesinc&location=12702%20Fern%20Forest%20Dr%2C%20Houston%2C%20TX%2077044&size=640x480&source=outdoor&signature=wxiy_xn5oXxKaEYeSmCW2CHuOog=\n",
      "\n",
      "-----------------------------------\n",
      "\n",
      "Result: 39 of 48\n",
      "Price: $155000.0 | Beds: 3.0, Bath: 2.0, Sqft: 2074.0, Lot: 7560.0\n",
      "Address: 14630 Merry Meadow Dr, Houston, TX 77049\n",
      "Link: https://www.realtor.com/realestateandhomes-detail/14630-Merry-Meadow-Dr_Houston_TX_77049_M82437-08800\n",
      "Google Maps: https://www.google.com/maps/place/14630+Merry+Meadow+Dr,+Houston,+TX+77049\n",
      "Image_0: https://ap.rdcpix.com/937b83ad5974e97db10a8f779323f737l-m2885384697od-w480_h360_x2.jpg\n",
      "Image_1: https://ap.rdcpix.com/937b83ad5974e97db10a8f779323f737l-m2714415763od-w480_h360_x2.jpg\n",
      "\n",
      "-----------------------------------\n",
      "\n",
      "Result: 40 of 48\n",
      "Data not available or Ads\n",
      "\n",
      "-----------------------------------\n",
      "\n",
      "Result: 41 of 48\n"
     ]
    },
    {
     "name": "stdout",
     "output_type": "stream",
     "text": [
      "Price: $248500.0 | Beds: 4.0, Bath: 2.0, Sqft: 2023.0, Lot: 6752.0\n",
      "Address: 17234 Branch Canyon Ct, Houston, TX 77095\n",
      "Link: https://www.realtor.com/realestateandhomes-detail/17234-Branch-Canyon-Ct_Houston_TX_77095_M73520-01104\n",
      "Google Maps: https://www.google.com/maps/place/17234+Branch+Canyon+Ct,+Houston,+TX+77095\n",
      "Image_0: https://ap.rdcpix.com/e77abeda8e96370afd557a376409c3f7l-m349790080od-w480_h360_x2.jpg\n",
      "Image_1: https://ap.rdcpix.com/e77abeda8e96370afd557a376409c3f7l-m587341790od-w480_h360_x2.jpg\n",
      "\n",
      "-----------------------------------\n",
      "\n",
      "Result: 42 of 48\n",
      "Price: $185000.0 | Beds: 3.0, Bath: 2.0, Sqft: 1976.0, Lot: 6448.0\n",
      "Address: 3910 Lochmire Ln, Houston, TX 77039\n",
      "Link: https://www.realtor.com/realestateandhomes-detail/3910-Lochmire-Ln_Houston_TX_77039_M78712-35705\n",
      "Google Maps: https://www.google.com/maps/place/3910+Lochmire+Ln,+Houston,+TX+77039\n",
      "Image_0: https://ap.rdcpix.com/349e920b03af3e3518a9dfe3f8a41e32l-m1657719165od-w480_h360_x2.jpg\n",
      "Image_1: https://ap.rdcpix.com/349e920b03af3e3518a9dfe3f8a41e32l-m2699057712od-w480_h360_x2.jpg\n",
      "\n",
      "-----------------------------------\n",
      "\n",
      "Result: 43 of 48\n",
      "Price: $249900.0 | Beds: 3.0, Bath: 2.5, Sqft: 2371.0, Lot: 5550.0\n",
      "Address: 8214 Mariah St, Houston, TX 77051\n",
      "Link: https://www.realtor.com/realestateandhomes-detail/Mariah-St_Houston_TX_77051_M83141-35134\n",
      "Google Maps: https://www.google.com/maps/place/8214+Mariah+St,+Houston,+TX+77051\n",
      "Image_0: https://ap.rdcpix.com/963e72092f643bb9fa6cbc50fcad5af4l-m479537595od-w480_h360_x2.jpg\n",
      "Image_1: https://ap.rdcpix.com/963e72092f643bb9fa6cbc50fcad5af4l-m3622539207od-w480_h360_x2.jpg\n",
      "\n",
      "-----------------------------------\n",
      "\n",
      "Result: 44 of 48\n",
      "Price: $204900.0 | Beds: 3.0, Bath: 2.5, Sqft: 1458.0, Lot: 3000.0\n",
      "Address: 7925 Tower St, Houston, TX 77088\n",
      "Link: https://www.realtor.com/realestateandhomes-detail/7900-Tower-St_Houston_TX_77088_M83923-64571\n",
      "Google Maps: https://www.google.com/maps/place/7925+Tower+St,+Houston,+TX+77088\n",
      "Image_0: https://ap.rdcpix.com/02fba7f93157b898a9175b40c4193b1el-m1833446040od-w480_h360_x2.jpg\n",
      "Image_1: https://ap.rdcpix.com/02fba7f93157b898a9175b40c4193b1el-m4287389496od-w480_h360_x2.jpg\n",
      "\n",
      "-----------------------------------\n",
      "\n",
      "Result: 45 of 48\n",
      "Price: $198990.0 | Beds: 3.0, Bath: 2.0, Sqft: 1250.0, Lot: 3971.0\n",
      "Address: 12902 Marciano St, Houston, TX 77048\n",
      "Link: https://www.realtor.com/realestateandhomes-detail/12902-Marciano-St_Houston_TX_77048_M96873-78357\n",
      "Google Maps: https://www.google.com/maps/place/12902+Marciano+St,+Houston,+TX+77048\n",
      "Image_0: https://maps.googleapis.com/maps/api/streetview?channel=rdc-streetview&client=gme-movesalesinc&location=12902%20Marciano%20St%2C%20Houston%2C%20TX%2077048&size=640x480&source=outdoor&signature=_U_4mQi78MQfXCAgL1RaeZxGXTE=\n",
      "\n",
      "-----------------------------------\n",
      "\n",
      "Result: 46 of 48\n",
      "Price: $237000.0 | Beds: 3.0, Bath: 2.0, Sqft: 1844.0, Lot: 8614.0\n",
      "Address: 12011 Dunlap St, Houston, TX 77035\n",
      "Link: https://www.realtor.com/realestateandhomes-detail/12011-Dunlap-St_Houston_TX_77035_M84219-85127\n",
      "Google Maps: https://www.google.com/maps/place/12011+Dunlap+St,+Houston,+TX+77035\n",
      "Image_0: https://ap.rdcpix.com/38a526794844a5066eac0e556083cf24l-m3179838895od-w480_h360_x2.jpg\n",
      "Image_1: https://ap.rdcpix.com/38a526794844a5066eac0e556083cf24l-m1146032474od-w480_h360_x2.jpg\n",
      "\n",
      "-----------------------------------\n",
      "\n",
      "Result: 47 of 48\n",
      "Price: $229990.0 | Beds: 4.0, Bath: 2.5, Sqft: 1918.0, Lot: 3965.0\n",
      "Address: 12816 Marciano St, Houston, TX 77048\n",
      "Link: https://www.realtor.com/realestateandhomes-detail/12816-Marciano-St_Houston_TX_77048_M93575-65911\n",
      "Google Maps: https://www.google.com/maps/place/12816+Marciano+St,+Houston,+TX+77048\n",
      "Image_0: https://maps.googleapis.com/maps/api/streetview?channel=rdc-streetview&client=gme-movesalesinc&location=12816%20Marciano%20St%2C%20Houston%2C%20TX%2077048&size=640x480&source=outdoor&signature=ljDpbP2pKizX3BCY1o2rTUt-OEQ=\n",
      "\n",
      "-----------------------------------\n",
      "\n",
      "Result: 48 of 48\n",
      "Data not available or Ads\n",
      "\n"
     ]
    }
   ],
   "source": [
    "# Print results and save to a dictionary\n",
    "n = 0\n",
    "realstate_list = []\n",
    "for result in results:\n",
    "#     Clear the variables to not store repeated info\n",
    "    house_price = ''\n",
    "    address = ''\n",
    "    link_page = ''\n",
    "    photo_url = ''\n",
    "                \n",
    "    n = n + 1\n",
    "    print('-----------------------------------')\n",
    "    print('')\n",
    "    print(f'Result: {n} of {len(results)}')\n",
    "    if not result.find('div', class_=\"ads\"):\n",
    "\n",
    "        price_div = result.find('div', class_=\"price\")\n",
    "        house_price = float(price_div.find('span').text.split('$')[-1].replace(\",\",\"\"))\n",
    "        link_page = result.find('a')['href']\n",
    "        img_label = result.find('img')\n",
    "        address = img_label['alt']\n",
    "        \n",
    "        features = find_features(result.find('ul').find_all('span'))\n",
    "        \n",
    "        bed = features['Beds']\n",
    "        bath = features['Bath']\n",
    "        sqft = features['Sqft']\n",
    "        lot = features['Lot']\n",
    "            \n",
    "        print(f\"Price: ${house_price} | Beds: {bed}, Bath: {bath}, Sqft: {sqft}, Lot: {lot}\")        \n",
    "        print(f\"Address: {address}\")\n",
    "        \n",
    "        try:\n",
    "            price_reduced = result.find('span', class_=\"price-reduced-amount\")\n",
    "            price_now = price_reduced.text\n",
    "            print(f\"Price reduced: {price_now}\")\n",
    "        except:\n",
    "            pass\n",
    "        print(f\"Link: {link_details}{link_page}\")\n",
    "      \n",
    "        separator = '+'\n",
    "        address_google = separator.join(address.split(\" \"))\n",
    "        url_google_maps = f\"https://www.google.com/maps/place/{address_google}\"\n",
    "        print(f\"Google Maps: {url_google_maps}\")\n",
    "    \n",
    "        list_images = ['', '']\n",
    "        house_pictures_tag = result.find_all('picture')\n",
    "        for uu in range(len(house_pictures_tag)):\n",
    "            list_images[uu] = house_pictures_tag[uu].find('img')['srcset'].split(',')[1].split(' ')[1]\n",
    "            print(f\"Image_{uu}: {list_images[uu]}\")\n",
    "        \n",
    "        # Save results to a dictionary\n",
    "        realstate_list.append(\n",
    "            {\n",
    "                \"Price\": house_price,\n",
    "                \"Address\": address,\n",
    "                \"Beds\": bed,\n",
    "                \"Baths\": bath,\n",
    "                \"Sqft\": sqft,\n",
    "                \"Lot\": lot,\n",
    "                \"Image_1\": list_images[0],\n",
    "                \"Image_2\": list_images[1],\n",
    "                \"Link\": str(link_details+link_page),\n",
    "                \"Google Maps\": url_google_maps\n",
    "            }\n",
    "        )\n",
    "\n",
    "    \n",
    "    else:\n",
    "        print('Data not available or Ads')\n",
    "\n",
    "    print('')"
   ]
  },
  {
   "cell_type": "code",
   "execution_count": 15,
   "metadata": {},
   "outputs": [],
   "source": [
    "# When you’ve finished testing, close your browser using browser.quit:\n",
    "browser.quit()"
   ]
  },
  {
   "cell_type": "markdown",
   "metadata": {},
   "source": [
    "<hr style=\"border: 3px solid red;\">"
   ]
  },
  {
   "cell_type": "markdown",
   "metadata": {},
   "source": [
    "### Data Cleaning"
   ]
  },
  {
   "cell_type": "code",
   "execution_count": 16,
   "metadata": {
    "scrolled": true
   },
   "outputs": [
    {
     "data": {
      "text/html": [
       "<div>\n",
       "<style scoped>\n",
       "    .dataframe tbody tr th:only-of-type {\n",
       "        vertical-align: middle;\n",
       "    }\n",
       "\n",
       "    .dataframe tbody tr th {\n",
       "        vertical-align: top;\n",
       "    }\n",
       "\n",
       "    .dataframe thead th {\n",
       "        text-align: right;\n",
       "    }\n",
       "</style>\n",
       "<table border=\"1\" class=\"dataframe\">\n",
       "  <thead>\n",
       "    <tr style=\"text-align: right;\">\n",
       "      <th></th>\n",
       "      <th>Price</th>\n",
       "      <th>Address</th>\n",
       "      <th>Beds</th>\n",
       "      <th>Baths</th>\n",
       "      <th>Sqft</th>\n",
       "      <th>Lot</th>\n",
       "      <th>Image_1</th>\n",
       "      <th>Image_2</th>\n",
       "      <th>Link</th>\n",
       "      <th>Google Maps</th>\n",
       "    </tr>\n",
       "  </thead>\n",
       "  <tbody>\n",
       "    <tr>\n",
       "      <th>0</th>\n",
       "      <td>285995.0</td>\n",
       "      <td>4330 Mossy Banks Ln, Houston, TX 77068</td>\n",
       "      <td>5.0</td>\n",
       "      <td>2.5</td>\n",
       "      <td>3031.0</td>\n",
       "      <td>NaN</td>\n",
       "      <td>https://ap.rdcpix.com/6ee62095ba8d8ebc08cca0f2...</td>\n",
       "      <td>https://ap.rdcpix.com/6ee62095ba8d8ebc08cca0f2...</td>\n",
       "      <td>https://www.realtor.com/realestateandhomes-det...</td>\n",
       "      <td>https://www.google.com/maps/place/4330+Mossy+B...</td>\n",
       "    </tr>\n",
       "    <tr>\n",
       "      <th>1</th>\n",
       "      <td>315915.0</td>\n",
       "      <td>2711 Georgina Rose Way, Pearland, TX 77089</td>\n",
       "      <td>4.0</td>\n",
       "      <td>2.5</td>\n",
       "      <td>2336.0</td>\n",
       "      <td>NaN</td>\n",
       "      <td>https://maps.googleapis.com/maps/api/streetvie...</td>\n",
       "      <td></td>\n",
       "      <td>https://www.realtor.com/realestateandhomes-det...</td>\n",
       "      <td>https://www.google.com/maps/place/2711+Georgin...</td>\n",
       "    </tr>\n",
       "  </tbody>\n",
       "</table>\n",
       "</div>"
      ],
      "text/plain": [
       "      Price                                     Address  Beds  Baths    Sqft  \\\n",
       "0  285995.0      4330 Mossy Banks Ln, Houston, TX 77068   5.0    2.5  3031.0   \n",
       "1  315915.0  2711 Georgina Rose Way, Pearland, TX 77089   4.0    2.5  2336.0   \n",
       "\n",
       "   Lot                                            Image_1  \\\n",
       "0  NaN  https://ap.rdcpix.com/6ee62095ba8d8ebc08cca0f2...   \n",
       "1  NaN  https://maps.googleapis.com/maps/api/streetvie...   \n",
       "\n",
       "                                             Image_2  \\\n",
       "0  https://ap.rdcpix.com/6ee62095ba8d8ebc08cca0f2...   \n",
       "1                                                      \n",
       "\n",
       "                                                Link  \\\n",
       "0  https://www.realtor.com/realestateandhomes-det...   \n",
       "1  https://www.realtor.com/realestateandhomes-det...   \n",
       "\n",
       "                                         Google Maps  \n",
       "0  https://www.google.com/maps/place/4330+Mossy+B...  \n",
       "1  https://www.google.com/maps/place/2711+Georgin...  "
      ]
     },
     "execution_count": 16,
     "metadata": {},
     "output_type": "execute_result"
    }
   ],
   "source": [
    "# Save the data to a dataframe\n",
    "listing_df = pd.DataFrame(realstate_list)\n",
    "# listing_df.to_csv(os.path.join('Database','ScrapedData.csv'))\n",
    "listing_df.head(2)"
   ]
  },
  {
   "cell_type": "code",
   "execution_count": 17,
   "metadata": {},
   "outputs": [],
   "source": [
    "# Dataframe to dictionary\n",
    "# listing_df.to_dict(orient=\"records\")"
   ]
  },
  {
   "cell_type": "markdown",
   "metadata": {},
   "source": [
    "<hr style=\"border: 3px solid red;\">"
   ]
  },
  {
   "cell_type": "markdown",
   "metadata": {},
   "source": [
    "## Save Scraped House Data to Database"
   ]
  },
  {
   "cell_type": "markdown",
   "metadata": {},
   "source": [
    "Info about primary key auto increment even with roll back: https://stackoverflow.com/questions/449346/mysql-auto-increment-does-not-rollback"
   ]
  },
  {
   "cell_type": "code",
   "execution_count": 18,
   "metadata": {},
   "outputs": [],
   "source": [
    " # Imports the method used to connect to DBs\n",
    "from sqlalchemy import create_engine\n",
    "from sqlalchemy import exc\n",
    "from sqlalchemy import update\n",
    "\n",
    "# Imports the methods needed to abstract python classes into database tables\n",
    "from sqlalchemy.ext.declarative import declarative_base\n",
    "Base = declarative_base()\n",
    "\n",
    "# function to establish a session with a connected database\n",
    "from sqlalchemy.orm import Session\n",
    "\n",
    "# database compliant datatypes\n",
    "from sqlalchemy import Column, Integer, String, Float, ForeignKey, DateTime\n",
    "\n",
    "# from config import db_user, dialect"
   ]
  },
  {
   "cell_type": "code",
   "execution_count": 19,
   "metadata": {},
   "outputs": [],
   "source": [
    "# Create database connection\n",
    "engine = create_engine(DATABASE_URL) "
   ]
  },
  {
   "cell_type": "code",
   "execution_count": 20,
   "metadata": {},
   "outputs": [],
   "source": [
    "# Create class to frame each real state instance\n",
    "class RealState(Base):\n",
    "    __tablename__ = 'realstatelisting'\n",
    "\n",
    "    house_id = Column(Integer, primary_key=True)\n",
    "    address = Column(String(300), unique=True, nullable=False)\n",
    "    price = Column(Float, nullable=False)\n",
    "    bed = Column(Float, nullable=True)\n",
    "    bath = Column(Float, nullable=True)\n",
    "    sqft = Column(Float, nullable=True)\n",
    "    lot = Column(Float, nullable=True)\n",
    "    latitude = Column(Float, nullable=True)\n",
    "    longitude = Column(Float, nullable=True)\n",
    "    house_link = Column(String(300), nullable=True)\n",
    "    image_1 = Column(String(300), nullable=True)\n",
    "    image_2 = Column(String(300), nullable=True)\n",
    "    map_link = Column(String(300), nullable=True)\n",
    "    google_map = Column(String(300), nullable=True)\n",
    "    created_date = Column(DateTime, default=datetime.datetime.utcnow)\n",
    "\n",
    "    def __repr__(self):\n",
    "        return '<Listing %r>' % (self.address)"
   ]
  },
  {
   "cell_type": "code",
   "execution_count": 21,
   "metadata": {},
   "outputs": [],
   "source": [
    "# Create class to frame each real state instance\n",
    "class UserSelection(Base):\n",
    "    __tablename__ = 'userselection'\n",
    "\n",
    "    userselection_id = Column(Integer, primary_key=True)\n",
    "    username = Column(String(300))\n",
    "    useremail = Column(String(300))\n",
    "    house_id = Column(Integer, ForeignKey('realstatelisting.house_id'))\n",
    "    user_choice = Column(String(300))\n",
    "    created_date = Column(DateTime, default=datetime.datetime.utcnow)\n",
    "    \n",
    "    def __repr__(self):\n",
    "        return '<Listing %r>' % (self.userselection_id)"
   ]
  },
  {
   "cell_type": "code",
   "execution_count": 22,
   "metadata": {},
   "outputs": [],
   "source": [
    "# Create all of the tables in our database based on the classes we've associated with our declarative base.\n",
    "Base.metadata.create_all(engine)"
   ]
  },
  {
   "cell_type": "code",
   "execution_count": 23,
   "metadata": {},
   "outputs": [],
   "source": [
    "# Create a Session object to connect to DB\n",
    "session = Session(bind=engine)"
   ]
  },
  {
   "cell_type": "code",
   "execution_count": 24,
   "metadata": {},
   "outputs": [
    {
     "name": "stdout",
     "output_type": "stream",
     "text": [
      "--> 40 records to be added.\n"
     ]
    }
   ],
   "source": [
    "\"\"\" Verify if the items are in the database to avoid roll back\"\"\"\n",
    "new_entries_index = []\n",
    "for nn in range(len(listing_df)):\n",
    "    house_item = listing_df.iloc[nn]\n",
    "    query_results = session.query(RealState).filter(RealState.address == house_item.Address).all()\n",
    "    if query_results:\n",
    "        pass\n",
    "    else:\n",
    "        new_entries_index.append(nn)\n",
    "\n",
    "new_houses_df = listing_df.iloc[new_entries_index]\n",
    "new_houses_df = new_houses_df.drop_duplicates()\n",
    "print(f\"--> {len(new_houses_df)} records to be added.\")"
   ]
  },
  {
   "cell_type": "code",
   "execution_count": 25,
   "metadata": {},
   "outputs": [
    {
     "name": "stdout",
     "output_type": "stream",
     "text": [
      "--> Total recordes added to database: 40.\n"
     ]
    }
   ],
   "source": [
    "ll = 0\n",
    "for nn in range(len(new_houses_df)):\n",
    "#     print('-'*25)\n",
    "#     print(f\"{nn+1} of {len(listing_df)}\")\n",
    "    house_item = new_houses_df.iloc[nn]\n",
    "\n",
    "    new_house = RealState(\n",
    "        address = house_item.Address,\n",
    "        price = house_item.Price,\n",
    "        bed = house_item.Beds,\n",
    "        bath = house_item.Baths,\n",
    "        sqft = house_item.Sqft,\n",
    "        lot = house_item.Lot,\n",
    "        image_1 = house_item['Image_1'],\n",
    "        image_2 = house_item['Image_2'],\n",
    "        house_link = house_item.Link,\n",
    "        google_map = house_item['Google Maps']\n",
    "        )\n",
    "    \n",
    "    try:\n",
    "        session.add(new_house)\n",
    "        session.commit()\n",
    "        ll = ll + 1\n",
    "    except exc.IntegrityError:\n",
    "        session.rollback()\n",
    "        print(f'Roll back: {new_house}')\n",
    "\n",
    "print(f\"--> Total recordes added to database: {ll}.\")"
   ]
  },
  {
   "cell_type": "markdown",
   "metadata": {},
   "source": [
    "<hr style=\"border: 3px solid red;\">"
   ]
  },
  {
   "cell_type": "markdown",
   "metadata": {},
   "source": [
    "### Get Coordinates Using Google Maps"
   ]
  },
  {
   "cell_type": "code",
   "execution_count": 26,
   "metadata": {},
   "outputs": [],
   "source": [
    "\"\"\" Get house coordinates using Splinter to scrap Google Maps \"\"\"\n",
    "def find_coordinates(url):\n",
    "    browser = Browser('chrome', **executable_path, headless=False)\n",
    "    browser.visit(url)\n",
    "    time.sleep(5)\n",
    "    current_url = browser.url\n",
    "    browser.quit()\n",
    "\n",
    "    try:\n",
    "        latitude = float(current_url.split(\"!\")[-2].split(\"d\")[1])\n",
    "        longitude = float(current_url.split(\"!\")[-1].split(\"d\")[1])\n",
    "    except IndexError:\n",
    "        url_string_list = current_url.split(\"/\")\n",
    "        for jj in range(len(url_string_list)):\n",
    "            try:\n",
    "                index_coordinates = url_string_list[jj].index(\"@\")\n",
    "            except ValueError:\n",
    "                pass\n",
    "            else:\n",
    "                latitude = float(url_string_list[jj][1:-1].split(\",\")[0])\n",
    "                longitude = float(url_string_list[jj][1:-1].split(\",\")[1])\n",
    "        \n",
    "    map_link = f\"https://www.openstreetmap.org/?mlat={latitude}&mlon={longitude}#map=15/{latitude}/{longitude}\"\n",
    "\n",
    "    return {\"latitude\":latitude, \"longitude\":longitude, \"map_link\": map_link}"
   ]
  },
  {
   "cell_type": "code",
   "execution_count": 27,
   "metadata": {},
   "outputs": [],
   "source": [
    "\"\"\" Query houses and update entry with coordinates and map link \"\"\"\n",
    "def update_house_coordinates(HouseID):\n",
    "    house = session.query(RealState).filter(RealState.house_id == HouseID)\n",
    "    coordinates = find_coordinates(house[0].google_map)\n",
    "    stmt = update(RealState).where(RealState.house_id == HouseID).values(coordinates).\\\n",
    "        execution_options(synchronize_session=\"fetch\")\n",
    "\n",
    "    session.execute(stmt)\n",
    "    session.commit()\n"
   ]
  },
  {
   "cell_type": "code",
   "execution_count": 28,
   "metadata": {
    "scrolled": true
   },
   "outputs": [
    {
     "name": "stdout",
     "output_type": "stream",
     "text": [
      "40 records updated.\n"
     ]
    }
   ],
   "source": [
    "# Update coordinates for all entries of the database that doesn't have coordinates\n",
    "house_list = session.query(RealState).filter(RealState.latitude == None).order_by(RealState.house_id).all()\n",
    "nn = 0\n",
    "for house in house_list:\n",
    "    update_house_coordinates(house.house_id)\n",
    "    nn = nn + 1\n",
    "\n",
    "print(f\"{nn} records updated.\")"
   ]
  },
  {
   "cell_type": "code",
   "execution_count": 29,
   "metadata": {},
   "outputs": [],
   "source": [
    "session.close()"
   ]
  },
  {
   "cell_type": "markdown",
   "metadata": {},
   "source": [
    "<hr style=\"border: 3px solid red;\">"
   ]
  },
  {
   "cell_type": "markdown",
   "metadata": {},
   "source": [
    "### Query database"
   ]
  },
  {
   "cell_type": "code",
   "execution_count": 30,
   "metadata": {},
   "outputs": [
    {
     "data": {
      "text/plain": [
       "[<Listing '308 Avenue of Oaks St, Houston, TX 77009'>,\n",
       " <Listing '7911 Napawood Ct, Houston, TX 77088'>]"
      ]
     },
     "execution_count": 30,
     "metadata": {},
     "output_type": "execute_result"
    }
   ],
   "source": [
    "# Query all records and create a list with the returned data\n",
    "query_result = session.query(RealState).all()\n",
    "query_result[0:2]"
   ]
  },
  {
   "cell_type": "code",
   "execution_count": 31,
   "metadata": {},
   "outputs": [
    {
     "name": "stdout",
     "output_type": "stream",
     "text": [
      "house_id: 174\n",
      "address: 7911 Napawood Ct, Houston, TX 77088\n",
      "price: 199900.0\n",
      "bed: 4.0\n",
      "bath: 2.5\n",
      "sqft: 1920.0\n",
      "lot: 6491.0\n",
      "latitude: 29.8806332\n",
      "longitude: -95.4840688\n",
      "house_link: https://www.realtor.com/realestateandhomes-detail/7911-Napawood-Ct_Houston_TX_77088_M82857-44784\n",
      "image_1: https://ap.rdcpix.com/434ef360d1242e7680dbcf646c0690cdl-m1483380855od-w480_h360_x2.jpg\n",
      "image_2: https://ap.rdcpix.com/434ef360d1242e7680dbcf646c0690cdl-m1109488758od-w480_h360_x2.jpg\n",
      "map_link: https://www.openstreetmap.org/?mlat=29.8806332&mlon=-95.4840688#map=15/29.8806332/-95.4840688\n",
      "google_map: https://www.google.com/maps/place/7911+Napawood+Ct,+Houston,+TX+77088\n"
     ]
    }
   ],
   "source": [
    "query_res = query_result[1]\n",
    "print(f\"house_id: {query_res.house_id}\")\n",
    "print(f\"address: {query_res.address}\")\n",
    "print(f\"price: {query_res.price}\")\n",
    "print(f\"bed: {query_res.bed}\")\n",
    "print(f\"bath: {query_res.bath}\")\n",
    "print(f\"sqft: {query_res.sqft}\")\n",
    "print(f\"lot: {query_res.lot}\")\n",
    "print(f\"latitude: {query_res.latitude}\")\n",
    "print(f\"longitude: {query_res.longitude}\")\n",
    "print(f\"house_link: {query_res.house_link}\")\n",
    "print(f\"image_1: {query_res.image_1}\")\n",
    "print(f\"image_2: {query_res.image_2}\")\n",
    "print(f\"map_link: {query_res.map_link}\")\n",
    "print(f\"google_map: {query_res.google_map}\")"
   ]
  },
  {
   "cell_type": "code",
   "execution_count": null,
   "metadata": {},
   "outputs": [],
   "source": []
  },
  {
   "cell_type": "markdown",
   "metadata": {},
   "source": [
    "<hr style=\"border: 3px solid red;\">"
   ]
  },
  {
   "cell_type": "markdown",
   "metadata": {},
   "source": [
    "### Basic Analysis"
   ]
  },
  {
   "cell_type": "code",
   "execution_count": 32,
   "metadata": {},
   "outputs": [],
   "source": [
    "# Query database using pandas\n",
    "SQL_Query_df = pd.read_sql_query('''select * from realstatelisting''', engine)"
   ]
  },
  {
   "cell_type": "code",
   "execution_count": 33,
   "metadata": {},
   "outputs": [
    {
     "data": {
      "text/html": [
       "<div>\n",
       "<style scoped>\n",
       "    .dataframe tbody tr th:only-of-type {\n",
       "        vertical-align: middle;\n",
       "    }\n",
       "\n",
       "    .dataframe tbody tr th {\n",
       "        vertical-align: top;\n",
       "    }\n",
       "\n",
       "    .dataframe thead th {\n",
       "        text-align: right;\n",
       "    }\n",
       "</style>\n",
       "<table border=\"1\" class=\"dataframe\">\n",
       "  <thead>\n",
       "    <tr style=\"text-align: right;\">\n",
       "      <th></th>\n",
       "      <th>house_id</th>\n",
       "      <th>price</th>\n",
       "      <th>bed</th>\n",
       "      <th>bath</th>\n",
       "      <th>sqft</th>\n",
       "      <th>lot</th>\n",
       "      <th>latitude</th>\n",
       "      <th>longitude</th>\n",
       "    </tr>\n",
       "  </thead>\n",
       "  <tbody>\n",
       "    <tr>\n",
       "      <th>count</th>\n",
       "      <td>351.000000</td>\n",
       "      <td>351.000000</td>\n",
       "      <td>351.000000</td>\n",
       "      <td>351.000000</td>\n",
       "      <td>351.000000</td>\n",
       "      <td>299.000000</td>\n",
       "      <td>351.000000</td>\n",
       "      <td>351.000000</td>\n",
       "    </tr>\n",
       "    <tr>\n",
       "      <th>mean</th>\n",
       "      <td>181.122507</td>\n",
       "      <td>241162.524217</td>\n",
       "      <td>3.410256</td>\n",
       "      <td>2.250712</td>\n",
       "      <td>1945.792023</td>\n",
       "      <td>7304.735786</td>\n",
       "      <td>29.795728</td>\n",
       "      <td>-95.400241</td>\n",
       "    </tr>\n",
       "    <tr>\n",
       "      <th>std</th>\n",
       "      <td>106.754481</td>\n",
       "      <td>52812.819181</td>\n",
       "      <td>0.665310</td>\n",
       "      <td>0.483846</td>\n",
       "      <td>540.347581</td>\n",
       "      <td>3918.851446</td>\n",
       "      <td>0.130891</td>\n",
       "      <td>0.159769</td>\n",
       "    </tr>\n",
       "    <tr>\n",
       "      <th>min</th>\n",
       "      <td>1.000000</td>\n",
       "      <td>150000.000000</td>\n",
       "      <td>1.000000</td>\n",
       "      <td>1.000000</td>\n",
       "      <td>782.000000</td>\n",
       "      <td>1406.000000</td>\n",
       "      <td>29.546100</td>\n",
       "      <td>-95.700433</td>\n",
       "    </tr>\n",
       "    <tr>\n",
       "      <th>25%</th>\n",
       "      <td>91.500000</td>\n",
       "      <td>195000.000000</td>\n",
       "      <td>3.000000</td>\n",
       "      <td>2.000000</td>\n",
       "      <td>1563.500000</td>\n",
       "      <td>5060.500000</td>\n",
       "      <td>29.690628</td>\n",
       "      <td>-95.518674</td>\n",
       "    </tr>\n",
       "    <tr>\n",
       "      <th>50%</th>\n",
       "      <td>179.000000</td>\n",
       "      <td>237000.000000</td>\n",
       "      <td>3.000000</td>\n",
       "      <td>2.000000</td>\n",
       "      <td>1844.000000</td>\n",
       "      <td>6968.000000</td>\n",
       "      <td>29.781837</td>\n",
       "      <td>-95.383751</td>\n",
       "    </tr>\n",
       "    <tr>\n",
       "      <th>75%</th>\n",
       "      <td>266.500000</td>\n",
       "      <td>284950.000000</td>\n",
       "      <td>4.000000</td>\n",
       "      <td>2.500000</td>\n",
       "      <td>2293.500000</td>\n",
       "      <td>8556.500000</td>\n",
       "      <td>29.891807</td>\n",
       "      <td>-95.279514</td>\n",
       "    </tr>\n",
       "    <tr>\n",
       "      <th>max</th>\n",
       "      <td>374.000000</td>\n",
       "      <td>350000.000000</td>\n",
       "      <td>6.000000</td>\n",
       "      <td>4.000000</td>\n",
       "      <td>3595.000000</td>\n",
       "      <td>42689.000000</td>\n",
       "      <td>30.087071</td>\n",
       "      <td>-95.096904</td>\n",
       "    </tr>\n",
       "  </tbody>\n",
       "</table>\n",
       "</div>"
      ],
      "text/plain": [
       "         house_id          price         bed        bath         sqft  \\\n",
       "count  351.000000     351.000000  351.000000  351.000000   351.000000   \n",
       "mean   181.122507  241162.524217    3.410256    2.250712  1945.792023   \n",
       "std    106.754481   52812.819181    0.665310    0.483846   540.347581   \n",
       "min      1.000000  150000.000000    1.000000    1.000000   782.000000   \n",
       "25%     91.500000  195000.000000    3.000000    2.000000  1563.500000   \n",
       "50%    179.000000  237000.000000    3.000000    2.000000  1844.000000   \n",
       "75%    266.500000  284950.000000    4.000000    2.500000  2293.500000   \n",
       "max    374.000000  350000.000000    6.000000    4.000000  3595.000000   \n",
       "\n",
       "                lot    latitude   longitude  \n",
       "count    299.000000  351.000000  351.000000  \n",
       "mean    7304.735786   29.795728  -95.400241  \n",
       "std     3918.851446    0.130891    0.159769  \n",
       "min     1406.000000   29.546100  -95.700433  \n",
       "25%     5060.500000   29.690628  -95.518674  \n",
       "50%     6968.000000   29.781837  -95.383751  \n",
       "75%     8556.500000   29.891807  -95.279514  \n",
       "max    42689.000000   30.087071  -95.096904  "
      ]
     },
     "execution_count": 33,
     "metadata": {},
     "output_type": "execute_result"
    }
   ],
   "source": [
    "SQL_Query_df.describe()"
   ]
  },
  {
   "cell_type": "code",
   "execution_count": 34,
   "metadata": {},
   "outputs": [
    {
     "data": {
      "text/html": [
       "<div>\n",
       "<style scoped>\n",
       "    .dataframe tbody tr th:only-of-type {\n",
       "        vertical-align: middle;\n",
       "    }\n",
       "\n",
       "    .dataframe tbody tr th {\n",
       "        vertical-align: top;\n",
       "    }\n",
       "\n",
       "    .dataframe thead th {\n",
       "        text-align: right;\n",
       "    }\n",
       "</style>\n",
       "<table border=\"1\" class=\"dataframe\">\n",
       "  <thead>\n",
       "    <tr style=\"text-align: right;\">\n",
       "      <th></th>\n",
       "      <th>house_id</th>\n",
       "      <th>address</th>\n",
       "      <th>price</th>\n",
       "      <th>bed</th>\n",
       "      <th>bath</th>\n",
       "      <th>sqft</th>\n",
       "      <th>lot</th>\n",
       "      <th>latitude</th>\n",
       "      <th>longitude</th>\n",
       "      <th>house_link</th>\n",
       "      <th>image_1</th>\n",
       "      <th>image_2</th>\n",
       "      <th>map_link</th>\n",
       "      <th>google_map</th>\n",
       "      <th>created_date</th>\n",
       "    </tr>\n",
       "  </thead>\n",
       "  <tbody>\n",
       "    <tr>\n",
       "      <th>0</th>\n",
       "      <td>173</td>\n",
       "      <td>308 Avenue of Oaks St, Houston, TX 77009</td>\n",
       "      <td>319900.0</td>\n",
       "      <td>2.0</td>\n",
       "      <td>1.0</td>\n",
       "      <td>1150.0</td>\n",
       "      <td>10454.0</td>\n",
       "      <td>29.811371</td>\n",
       "      <td>-95.367273</td>\n",
       "      <td>https://www.realtor.com/realestateandhomes-det...</td>\n",
       "      <td>https://ap.rdcpix.com/b9f727d5efd77dd8bc2f0c79...</td>\n",
       "      <td>https://ap.rdcpix.com/b9f727d5efd77dd8bc2f0c79...</td>\n",
       "      <td>https://www.openstreetmap.org/?mlat=29.8113709...</td>\n",
       "      <td>https://www.google.com/maps/place/308+Avenue+o...</td>\n",
       "      <td>2021-01-10 21:13:15.025962</td>\n",
       "    </tr>\n",
       "    <tr>\n",
       "      <th>1</th>\n",
       "      <td>174</td>\n",
       "      <td>7911 Napawood Ct, Houston, TX 77088</td>\n",
       "      <td>199900.0</td>\n",
       "      <td>4.0</td>\n",
       "      <td>2.5</td>\n",
       "      <td>1920.0</td>\n",
       "      <td>6491.0</td>\n",
       "      <td>29.880633</td>\n",
       "      <td>-95.484069</td>\n",
       "      <td>https://www.realtor.com/realestateandhomes-det...</td>\n",
       "      <td>https://ap.rdcpix.com/434ef360d1242e7680dbcf64...</td>\n",
       "      <td>https://ap.rdcpix.com/434ef360d1242e7680dbcf64...</td>\n",
       "      <td>https://www.openstreetmap.org/?mlat=29.8806332...</td>\n",
       "      <td>https://www.google.com/maps/place/7911+Napawoo...</td>\n",
       "      <td>2021-01-10 21:13:15.139330</td>\n",
       "    </tr>\n",
       "  </tbody>\n",
       "</table>\n",
       "</div>"
      ],
      "text/plain": [
       "   house_id                                   address     price  bed  bath  \\\n",
       "0       173  308 Avenue of Oaks St, Houston, TX 77009  319900.0  2.0   1.0   \n",
       "1       174       7911 Napawood Ct, Houston, TX 77088  199900.0  4.0   2.5   \n",
       "\n",
       "     sqft      lot   latitude  longitude  \\\n",
       "0  1150.0  10454.0  29.811371 -95.367273   \n",
       "1  1920.0   6491.0  29.880633 -95.484069   \n",
       "\n",
       "                                          house_link  \\\n",
       "0  https://www.realtor.com/realestateandhomes-det...   \n",
       "1  https://www.realtor.com/realestateandhomes-det...   \n",
       "\n",
       "                                             image_1  \\\n",
       "0  https://ap.rdcpix.com/b9f727d5efd77dd8bc2f0c79...   \n",
       "1  https://ap.rdcpix.com/434ef360d1242e7680dbcf64...   \n",
       "\n",
       "                                             image_2  \\\n",
       "0  https://ap.rdcpix.com/b9f727d5efd77dd8bc2f0c79...   \n",
       "1  https://ap.rdcpix.com/434ef360d1242e7680dbcf64...   \n",
       "\n",
       "                                            map_link  \\\n",
       "0  https://www.openstreetmap.org/?mlat=29.8113709...   \n",
       "1  https://www.openstreetmap.org/?mlat=29.8806332...   \n",
       "\n",
       "                                          google_map  \\\n",
       "0  https://www.google.com/maps/place/308+Avenue+o...   \n",
       "1  https://www.google.com/maps/place/7911+Napawoo...   \n",
       "\n",
       "                created_date  \n",
       "0 2021-01-10 21:13:15.025962  \n",
       "1 2021-01-10 21:13:15.139330  "
      ]
     },
     "execution_count": 34,
     "metadata": {},
     "output_type": "execute_result"
    }
   ],
   "source": [
    "SQL_Query_df.head(2)"
   ]
  },
  {
   "cell_type": "code",
   "execution_count": 35,
   "metadata": {},
   "outputs": [
    {
     "data": {
      "text/plain": [
       "Text(0, 0.5, 'price')"
      ]
     },
     "execution_count": 35,
     "metadata": {},
     "output_type": "execute_result"
    },
    {
     "data": {
      "image/png": "[encoded data removed]",
      "text/plain": [
       "<Figure size 1296x288 with 2 Axes>"
      ]
     },
     "metadata": {
      "needs_background": "light"
     },
     "output_type": "display_data"
    }
   ],
   "source": [
    "ax1 = SQL_Query_df.plot.scatter(x='sqft',y='price',c='lot', colormap='viridis',figsize=(18,4))\n",
    "ax1.set_xlabel(\"sqft\", fontsize=14)\n",
    "ax1.set_ylabel(\"price\", fontsize=14)"
   ]
  },
  {
   "cell_type": "code",
   "execution_count": 36,
   "metadata": {},
   "outputs": [
    {
     "data": {
      "image/png": "[encoded data removed]",
      "text/plain": [
       "<Figure size 1296x360 with 1 Axes>"
      ]
     },
     "metadata": {
      "needs_background": "light"
     },
     "output_type": "display_data"
    }
   ],
   "source": [
    "ax1 = SQL_Query_df['price'].plot(kind='hist',bins=15,figsize=(18,5));\n",
    "ax1.set_xlabel(\"Price\", fontsize=14);"
   ]
  },
  {
   "cell_type": "code",
   "execution_count": 37,
   "metadata": {},
   "outputs": [
    {
     "data": {
      "text/plain": [
       "Text(0, 0.5, 'longitude')"
      ]
     },
     "execution_count": 37,
     "metadata": {},
     "output_type": "execute_result"
    },
    {
     "data": {
      "image/png": "[encoded data removed]",
      "text/plain": [
       "<Figure size 1296x720 with 2 Axes>"
      ]
     },
     "metadata": {
      "needs_background": "light"
     },
     "output_type": "display_data"
    }
   ],
   "source": [
    "ax1 = SQL_Query_df.plot.scatter(x='latitude',y='longitude',c='price', colormap='viridis',figsize=(18,10))\n",
    "ax1.set_xlabel(\"latitude\", fontsize=14)\n",
    "ax1.set_ylabel(\"longitude\", fontsize=14)"
   ]
  },
  {
   "cell_type": "code",
   "execution_count": null,
   "metadata": {},
   "outputs": [],
   "source": []
  }
 ],
 "metadata": {
  "kernelspec": {
   "display_name": "Python 3",
   "language": "python",
   "name": "python3"
  },
  "language_info": {
   "codemirror_mode": {
    "name": "ipython",
    "version": 3
   },
   "file_extension": ".py",
   "mimetype": "text/x-python",
   "name": "python",
   "nbconvert_exporter": "python",
   "pygments_lexer": "ipython3",
   "version": "3.7.9"
  }
 },
 "nbformat": 4,
 "nbformat_minor": 4
}
